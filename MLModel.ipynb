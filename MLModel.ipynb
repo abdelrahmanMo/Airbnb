{
  "nbformat": 4,
  "nbformat_minor": 0,
  "metadata": {
    "colab": {
      "name": "MLModel.ipynb",
      "provenance": []
    },
    "kernelspec": {
      "name": "python3",
      "display_name": "Python 3"
    }
  },
  "cells": [
    {
      "cell_type": "code",
      "metadata": {
        "id": "UTUKV82Xhj48"
      },
      "source": [
        "# Import libraries necessary for this project\n",
        "import numpy as np\n",
        "import pandas as pd\n",
        "from time import time\n",
        "import matplotlib.pyplot as plt\n",
        "import datetime\n",
        "from sklearn.preprocessing import LabelEncoder\n",
        "\n",
        "%matplotlib inline\n",
        "\n",
        "from sklearn.model_selection import train_test_split\n",
        "from sklearn.preprocessing import MinMaxScaler\n",
        "\n",
        "\n",
        "from sklearn.neighbors import KNeighborsClassifier\n",
        "from sklearn.linear_model import LogisticRegression\n",
        "from sklearn.svm import SVC\n",
        "from xgboost.sklearn import XGBClassifier\n",
        "from sklearn.ensemble import RandomForestClassifier\n",
        "\n",
        "from sklearn.metrics import accuracy_score, recall_score, precision_score, f1_score, classification_report\n",
        "#from scikitplot.metrics import plot_confusion_matrix\n",
        "\n",
        "from sklearn.model_selection import GridSearchCV\n",
        "from sklearn.metrics import make_scorer\n",
        "import warnings\n",
        "warnings.filterwarnings('ignore')"
      ],
      "execution_count": 275,
      "outputs": []
    },
    {
      "cell_type": "code",
      "metadata": {
        "id": "5n0TNXSzhyxA"
      },
      "source": [
        "def showInformation(df):\n",
        "  print('\\n shape of data : \\n', df.shape)\n",
        "  print('\\n columns : \\n',df.columns)\n",
        "  print('\\n dataset info : \\n', df.info())\n",
        "  print('\\n dataset datatypes : \\n', df.dtypes)\n",
        "  if df.isnull().values.any():\n",
        "    print('\\n sum of null values : \\n' , df.isnull().sum())\n",
        "  else:\n",
        "    print(\"\\n This dataset has no null values amongst its features.\")\n",
        "\n",
        "def getdataCount(columns,df):\n",
        "  for column in columns:\n",
        "    print('\\n {} : \\n {}'.format(column,df[column].value_counts()))\n",
        "\n",
        "def getUniqueValue(columns,df):\n",
        "  for column in columns:\n",
        "    print('\\n {} : \\n {}'.format(column,df[column].unique()))\n",
        "\n",
        "def checkifUnkown(df):\n",
        "  features = df.columns\n",
        "  for feature in features:\n",
        "    if((df[feature] =='-unknown-').any() ) :\n",
        "      print(feature)"
      ],
      "execution_count": 276,
      "outputs": []
    },
    {
      "cell_type": "code",
      "metadata": {
        "id": "1NdyzKVf6K08"
      },
      "source": [
        ""
      ],
      "execution_count": 276,
      "outputs": []
    },
    {
      "cell_type": "markdown",
      "metadata": {
        "id": "LAk9wJ5E6NiF"
      },
      "source": [
        "# Feature Engineering Functions"
      ]
    },
    {
      "cell_type": "code",
      "metadata": {
        "id": "3VXEUkKd6SBz"
      },
      "source": [
        "def session_features(df):\n",
        "    df['total_seconds'] = df['id'].apply(lambda x: total_seconds[x] if x in total_seconds else 0)\n",
        "    df['average_seconds'] = df['id'].apply(lambda x: average_seconds[x] if x in average_seconds else 0)\n",
        "    df['total_sessions'] = df['id'].apply(lambda x: total_sessions[x] if x in total_sessions else 0)\n",
        "    df['distinct_sessions'] = df['id'].apply(lambda x: distinct_sessions[x] if x in distinct_sessions else 0)\n",
        "    df['num_short_sessions'] = df['id'].apply(lambda x: num_short_sessions[x] if x in num_short_sessions else 0)\n",
        "    df['num_long_sessions'] = df['id'].apply(lambda x: num_long_sessions[x] if x in num_long_sessions else 0)\n",
        "    df['num_devices'] = df['id'].apply(lambda x: num_devices[x] if x in num_devices else 0)\n",
        "    return df\n",
        "\n",
        "def browsers(df):\n",
        "    df['first_browser'] = df['first_browser'].apply(lambda x: \"Mobile_Safari\" if x == \"Mobile Safari\" else x)\n",
        "    major_browsers = ['Chrome', 'Safari', 'Firefox', 'IE', 'Mobile_Safari']\n",
        "    df['first_browser'] = df['first_browser'].apply(lambda x: 'Other' if x not in major_browsers else x)\n",
        "    return df\n",
        "\n",
        "def classify_device(x):\n",
        "    if x.find('Desktop') != -1:\n",
        "        return 'Desktop'\n",
        "    elif x.find('Tablet') != -1 or x.find('iPad') != -1:\n",
        "        return 'Tablet'\n",
        "    elif x.find('Phone') != -1:\n",
        "        return 'Phone'\n",
        "    else:\n",
        "        return 'Unknown'\n",
        "\n",
        "def devices(df):\n",
        "    df['first_device_type'] = df['first_device_type'].apply(classify_device)\n",
        "    return df\n",
        "\n",
        "def affiliate_tracked(df):\n",
        "    df['first_affiliate_tracked'] = df['first_affiliate_tracked'].fillna('Unknown')\n",
        "    df['first_affiliate_tracked'] = df['first_affiliate_tracked'].apply(lambda x: 'Other' if x != 'Unknown' and x != 'untracked' else x)\n",
        "    return df\n",
        "\n",
        "def affiliate_provider(df):\n",
        "    df['affiliate_provider'] = df['affiliate_provider'].apply(lambda x: 'rest' if x not in ['direct', 'google', 'other'] else x)\n",
        "    return df\n",
        "\n",
        "def affiliate_channel(df):\n",
        "    df['affiliate_channel'] = df['affiliate_channel'].apply(lambda x: 'other' if x  not in ['direct', 'content'] else x)\n",
        "    return df\n",
        "\n",
        "def languages(df):\n",
        "    df['language'] = df['language'].apply(lambda x: 'foreign' if x != 'en' else x)\n",
        "    return df\n",
        "\n",
        "def first_booking(df):\n",
        "    df = df.drop('date_first_booking', axis=1)\n",
        "    return df\n",
        "def account_created(df):\n",
        "    df = df.drop('date_account_created', axis=1)\n",
        "    return df"
      ],
      "execution_count": 277,
      "outputs": []
    },
    {
      "cell_type": "code",
      "metadata": {
        "id": "csTej4vX8Z9j"
      },
      "source": [
        "def set_age_group(x):\n",
        "    if x < 40:\n",
        "        return 'Young'\n",
        "    elif x >=40 and x < 60:\n",
        "        return 'Middle'\n",
        "    elif x >= 60 and x <= 125:\n",
        "        return 'Old'\n",
        "    else:\n",
        "        return 'Unknown'"
      ],
      "execution_count": 278,
      "outputs": []
    },
    {
      "cell_type": "markdown",
      "metadata": {
        "id": "MsVE1nOb8bTM"
      },
      "source": [
        "## Do feature dunction"
      ]
    },
    {
      "cell_type": "code",
      "metadata": {
        "id": "3nPPIQ158Xd7"
      },
      "source": [
        "def feature_engineering(df):\n",
        "    df = session_features(df)\n",
        "    df = df.drop('age', axis=1)\n",
        "    df = browsers(df)\n",
        "    df =devices(df)\n",
        "    df =affiliate_tracked(df)\n",
        "    df = affiliate_provider(df)\n",
        "    df = affiliate_channel(df)\n",
        "    df = languages(df)\n",
        "    df['is_3'] = df['signup_flow'].apply(lambda x: 1 if x==3 else 0)\n",
        "    df = first_booking(df)\n",
        "    df = df.drop('timestamp_first_active', axis=1)\n",
        "    df = account_created(df)\n",
        "    df = df.set_index('id')\n",
        "    df = pd.get_dummies(df, prefix='is')\n",
        "    return df"
      ],
      "execution_count": 279,
      "outputs": []
    },
    {
      "cell_type": "markdown",
      "metadata": {
        "id": "rJeNdsNHh11H"
      },
      "source": [
        "# Feature Engineering"
      ]
    },
    {
      "cell_type": "code",
      "metadata": {
        "id": "TmZSkFjmA_Ik"
      },
      "source": [
        ""
      ],
      "execution_count": 279,
      "outputs": []
    },
    {
      "cell_type": "markdown",
      "metadata": {
        "id": "UCt4MRG5A_5R"
      },
      "source": [
        "## Merge data "
      ]
    },
    {
      "cell_type": "code",
      "metadata": {
        "id": "UUcKAQwKh3GL",
        "outputId": "8172fc54-ff10-4d8e-f1f2-33d35c994d10",
        "colab": {
          "base_uri": "https://localhost:8080/"
        }
      },
      "source": [
        "df_train = pd.read_csv('/content/drive/My Drive/vodafoneTask/datasets/dataset-modified/train_users-V1.csv')\n",
        "df_test = pd.read_csv('/content/drive/My Drive/vodafoneTask/datasets/test_users.csv')\n",
        "df_sessions = pd.read_csv('/content/drive/My Drive/vodafoneTask/datasets/dataset-modified/sessions-v1.csv')\n",
        "df_train.shape, df_test.shape"
      ],
      "execution_count": 280,
      "outputs": [
        {
          "output_type": "execute_result",
          "data": {
            "text/plain": [
              "((213451, 16), (62096, 15))"
            ]
          },
          "metadata": {
            "tags": []
          },
          "execution_count": 280
        }
      ]
    },
    {
      "cell_type": "code",
      "metadata": {
        "id": "Jm3p5Jn63Sdz"
      },
      "source": [
        "median_secs = df_sessions['secs_elapsed'].median()\n",
        "df_sessions['secs_elapsed'] = df_sessions['secs_elapsed'].fillna(median_secs)"
      ],
      "execution_count": 281,
      "outputs": []
    },
    {
      "cell_type": "code",
      "metadata": {
        "id": "ZrUksi2V4d99"
      },
      "source": [
        "df_sessions.rename(columns = {'user_id': 'id'}, inplace=True)"
      ],
      "execution_count": 282,
      "outputs": []
    },
    {
      "cell_type": "code",
      "metadata": {
        "id": "OxEQgTfr6wSQ"
      },
      "source": [
        "df_sessions['device_type'] = df_sessions['device_type'].replace('-unknown-', np.nan)"
      ],
      "execution_count": 283,
      "outputs": []
    },
    {
      "cell_type": "code",
      "metadata": {
        "id": "hF7rgbJs7bVb"
      },
      "source": [
        "total_seconds = df_sessions.groupby('id')['secs_elapsed'].sum()\n",
        "average_seconds = df_sessions.groupby('id')['secs_elapsed'].mean()\n",
        "total_sessions = df_sessions.groupby('id')['action'].count()\n",
        "distinct_sessions = df_sessions.groupby('id')['action'].nunique()\n",
        "num_short_sessions = df_sessions[df_sessions['secs_elapsed'] <= 300].groupby('id')['action'].count()\n",
        "num_long_sessions = df_sessions[df_sessions['secs_elapsed'] >= 2000].groupby('id')['action'].count()\n",
        "num_devices = df_sessions.groupby('id')['device_type'].nunique()"
      ],
      "execution_count": 284,
      "outputs": []
    },
    {
      "cell_type": "code",
      "metadata": {
        "id": "V0Fa8Yl8EMXA"
      },
      "source": [
        "df_train = session_features(df_train)"
      ],
      "execution_count": 285,
      "outputs": []
    },
    {
      "cell_type": "code",
      "metadata": {
        "id": "jqJ9bnpZFVNv"
      },
      "source": [
        "df_train['age_group'] = df_train['age'].apply(set_age_group)\n"
      ],
      "execution_count": 286,
      "outputs": []
    },
    {
      "cell_type": "code",
      "metadata": {
        "id": "zWGZl6i6F0ig",
        "outputId": "8384e3de-0206-4841-db02-7f7580633e10",
        "colab": {
          "base_uri": "https://localhost:8080/",
          "height": 217
        }
      },
      "source": [
        "df_train.head()"
      ],
      "execution_count": 287,
      "outputs": [
        {
          "output_type": "execute_result",
          "data": {
            "text/html": [
              "<div>\n",
              "<style scoped>\n",
              "    .dataframe tbody tr th:only-of-type {\n",
              "        vertical-align: middle;\n",
              "    }\n",
              "\n",
              "    .dataframe tbody tr th {\n",
              "        vertical-align: top;\n",
              "    }\n",
              "\n",
              "    .dataframe thead th {\n",
              "        text-align: right;\n",
              "    }\n",
              "</style>\n",
              "<table border=\"1\" class=\"dataframe\">\n",
              "  <thead>\n",
              "    <tr style=\"text-align: right;\">\n",
              "      <th></th>\n",
              "      <th>id</th>\n",
              "      <th>date_account_created</th>\n",
              "      <th>timestamp_first_active</th>\n",
              "      <th>date_first_booking</th>\n",
              "      <th>gender</th>\n",
              "      <th>age</th>\n",
              "      <th>signup_method</th>\n",
              "      <th>signup_flow</th>\n",
              "      <th>language</th>\n",
              "      <th>affiliate_channel</th>\n",
              "      <th>affiliate_provider</th>\n",
              "      <th>first_affiliate_tracked</th>\n",
              "      <th>signup_app</th>\n",
              "      <th>first_device_type</th>\n",
              "      <th>first_browser</th>\n",
              "      <th>country_destination</th>\n",
              "      <th>total_seconds</th>\n",
              "      <th>average_seconds</th>\n",
              "      <th>total_sessions</th>\n",
              "      <th>distinct_sessions</th>\n",
              "      <th>num_short_sessions</th>\n",
              "      <th>num_long_sessions</th>\n",
              "      <th>num_devices</th>\n",
              "      <th>age_group</th>\n",
              "    </tr>\n",
              "  </thead>\n",
              "  <tbody>\n",
              "    <tr>\n",
              "      <th>0</th>\n",
              "      <td>gxn3p5htnn</td>\n",
              "      <td>2010-06-28</td>\n",
              "      <td>20090319043255</td>\n",
              "      <td>NaN</td>\n",
              "      <td>NaN</td>\n",
              "      <td>NaN</td>\n",
              "      <td>facebook</td>\n",
              "      <td>0</td>\n",
              "      <td>en</td>\n",
              "      <td>direct</td>\n",
              "      <td>direct</td>\n",
              "      <td>untracked</td>\n",
              "      <td>Web</td>\n",
              "      <td>Mac Desktop</td>\n",
              "      <td>Chrome</td>\n",
              "      <td>NDF</td>\n",
              "      <td>0.0</td>\n",
              "      <td>0.0</td>\n",
              "      <td>0</td>\n",
              "      <td>0</td>\n",
              "      <td>0</td>\n",
              "      <td>0</td>\n",
              "      <td>0</td>\n",
              "      <td>Unknown</td>\n",
              "    </tr>\n",
              "    <tr>\n",
              "      <th>1</th>\n",
              "      <td>820tgsjxq7</td>\n",
              "      <td>2011-05-25</td>\n",
              "      <td>20090523174809</td>\n",
              "      <td>NaN</td>\n",
              "      <td>MALE</td>\n",
              "      <td>38.0</td>\n",
              "      <td>facebook</td>\n",
              "      <td>0</td>\n",
              "      <td>en</td>\n",
              "      <td>seo</td>\n",
              "      <td>google</td>\n",
              "      <td>untracked</td>\n",
              "      <td>Web</td>\n",
              "      <td>Mac Desktop</td>\n",
              "      <td>Chrome</td>\n",
              "      <td>NDF</td>\n",
              "      <td>0.0</td>\n",
              "      <td>0.0</td>\n",
              "      <td>0</td>\n",
              "      <td>0</td>\n",
              "      <td>0</td>\n",
              "      <td>0</td>\n",
              "      <td>0</td>\n",
              "      <td>Young</td>\n",
              "    </tr>\n",
              "    <tr>\n",
              "      <th>2</th>\n",
              "      <td>4ft3gnwmtx</td>\n",
              "      <td>2010-09-28</td>\n",
              "      <td>20090609231247</td>\n",
              "      <td>2010-08-02</td>\n",
              "      <td>FEMALE</td>\n",
              "      <td>56.0</td>\n",
              "      <td>basic</td>\n",
              "      <td>3</td>\n",
              "      <td>en</td>\n",
              "      <td>direct</td>\n",
              "      <td>direct</td>\n",
              "      <td>untracked</td>\n",
              "      <td>Web</td>\n",
              "      <td>Windows Desktop</td>\n",
              "      <td>IE</td>\n",
              "      <td>US</td>\n",
              "      <td>0.0</td>\n",
              "      <td>0.0</td>\n",
              "      <td>0</td>\n",
              "      <td>0</td>\n",
              "      <td>0</td>\n",
              "      <td>0</td>\n",
              "      <td>0</td>\n",
              "      <td>Middle</td>\n",
              "    </tr>\n",
              "    <tr>\n",
              "      <th>3</th>\n",
              "      <td>bjjt8pjhuk</td>\n",
              "      <td>2011-12-05</td>\n",
              "      <td>20091031060129</td>\n",
              "      <td>2012-09-08</td>\n",
              "      <td>FEMALE</td>\n",
              "      <td>42.0</td>\n",
              "      <td>facebook</td>\n",
              "      <td>0</td>\n",
              "      <td>en</td>\n",
              "      <td>direct</td>\n",
              "      <td>direct</td>\n",
              "      <td>untracked</td>\n",
              "      <td>Web</td>\n",
              "      <td>Mac Desktop</td>\n",
              "      <td>Firefox</td>\n",
              "      <td>other</td>\n",
              "      <td>0.0</td>\n",
              "      <td>0.0</td>\n",
              "      <td>0</td>\n",
              "      <td>0</td>\n",
              "      <td>0</td>\n",
              "      <td>0</td>\n",
              "      <td>0</td>\n",
              "      <td>Middle</td>\n",
              "    </tr>\n",
              "    <tr>\n",
              "      <th>4</th>\n",
              "      <td>87mebub9p4</td>\n",
              "      <td>2010-09-14</td>\n",
              "      <td>20091208061105</td>\n",
              "      <td>2010-02-18</td>\n",
              "      <td>NaN</td>\n",
              "      <td>41.0</td>\n",
              "      <td>basic</td>\n",
              "      <td>0</td>\n",
              "      <td>en</td>\n",
              "      <td>direct</td>\n",
              "      <td>direct</td>\n",
              "      <td>untracked</td>\n",
              "      <td>Web</td>\n",
              "      <td>Mac Desktop</td>\n",
              "      <td>Chrome</td>\n",
              "      <td>US</td>\n",
              "      <td>0.0</td>\n",
              "      <td>0.0</td>\n",
              "      <td>0</td>\n",
              "      <td>0</td>\n",
              "      <td>0</td>\n",
              "      <td>0</td>\n",
              "      <td>0</td>\n",
              "      <td>Middle</td>\n",
              "    </tr>\n",
              "  </tbody>\n",
              "</table>\n",
              "</div>"
            ],
            "text/plain": [
              "           id date_account_created  ...  num_devices age_group\n",
              "0  gxn3p5htnn           2010-06-28  ...            0   Unknown\n",
              "1  820tgsjxq7           2011-05-25  ...            0     Young\n",
              "2  4ft3gnwmtx           2010-09-28  ...            0    Middle\n",
              "3  bjjt8pjhuk           2011-12-05  ...            0    Middle\n",
              "4  87mebub9p4           2010-09-14  ...            0    Middle\n",
              "\n",
              "[5 rows x 24 columns]"
            ]
          },
          "metadata": {
            "tags": []
          },
          "execution_count": 287
        }
      ]
    },
    {
      "cell_type": "code",
      "metadata": {
        "id": "t_3FhZV5F367",
        "outputId": "d2e4bb8b-9721-421f-c7de-b36930a375ac",
        "colab": {
          "base_uri": "https://localhost:8080/",
          "height": 217
        }
      },
      "source": [
        "df_train = df_train.drop('age', axis=1)\n",
        "df_train = browsers(df_train)\n",
        "df_train = devices(df_train)\n",
        "df_train = affiliate_tracked(df_train)\n",
        "df_train = affiliate_provider(df_train)\n",
        "df_train = affiliate_channel(df_train)\n",
        "df_train = languages(df_train)\n",
        "df_train.head()"
      ],
      "execution_count": 288,
      "outputs": [
        {
          "output_type": "execute_result",
          "data": {
            "text/html": [
              "<div>\n",
              "<style scoped>\n",
              "    .dataframe tbody tr th:only-of-type {\n",
              "        vertical-align: middle;\n",
              "    }\n",
              "\n",
              "    .dataframe tbody tr th {\n",
              "        vertical-align: top;\n",
              "    }\n",
              "\n",
              "    .dataframe thead th {\n",
              "        text-align: right;\n",
              "    }\n",
              "</style>\n",
              "<table border=\"1\" class=\"dataframe\">\n",
              "  <thead>\n",
              "    <tr style=\"text-align: right;\">\n",
              "      <th></th>\n",
              "      <th>id</th>\n",
              "      <th>date_account_created</th>\n",
              "      <th>timestamp_first_active</th>\n",
              "      <th>date_first_booking</th>\n",
              "      <th>gender</th>\n",
              "      <th>signup_method</th>\n",
              "      <th>signup_flow</th>\n",
              "      <th>language</th>\n",
              "      <th>affiliate_channel</th>\n",
              "      <th>affiliate_provider</th>\n",
              "      <th>first_affiliate_tracked</th>\n",
              "      <th>signup_app</th>\n",
              "      <th>first_device_type</th>\n",
              "      <th>first_browser</th>\n",
              "      <th>country_destination</th>\n",
              "      <th>total_seconds</th>\n",
              "      <th>average_seconds</th>\n",
              "      <th>total_sessions</th>\n",
              "      <th>distinct_sessions</th>\n",
              "      <th>num_short_sessions</th>\n",
              "      <th>num_long_sessions</th>\n",
              "      <th>num_devices</th>\n",
              "      <th>age_group</th>\n",
              "    </tr>\n",
              "  </thead>\n",
              "  <tbody>\n",
              "    <tr>\n",
              "      <th>0</th>\n",
              "      <td>gxn3p5htnn</td>\n",
              "      <td>2010-06-28</td>\n",
              "      <td>20090319043255</td>\n",
              "      <td>NaN</td>\n",
              "      <td>NaN</td>\n",
              "      <td>facebook</td>\n",
              "      <td>0</td>\n",
              "      <td>en</td>\n",
              "      <td>direct</td>\n",
              "      <td>direct</td>\n",
              "      <td>untracked</td>\n",
              "      <td>Web</td>\n",
              "      <td>Desktop</td>\n",
              "      <td>Chrome</td>\n",
              "      <td>NDF</td>\n",
              "      <td>0.0</td>\n",
              "      <td>0.0</td>\n",
              "      <td>0</td>\n",
              "      <td>0</td>\n",
              "      <td>0</td>\n",
              "      <td>0</td>\n",
              "      <td>0</td>\n",
              "      <td>Unknown</td>\n",
              "    </tr>\n",
              "    <tr>\n",
              "      <th>1</th>\n",
              "      <td>820tgsjxq7</td>\n",
              "      <td>2011-05-25</td>\n",
              "      <td>20090523174809</td>\n",
              "      <td>NaN</td>\n",
              "      <td>MALE</td>\n",
              "      <td>facebook</td>\n",
              "      <td>0</td>\n",
              "      <td>en</td>\n",
              "      <td>other</td>\n",
              "      <td>google</td>\n",
              "      <td>untracked</td>\n",
              "      <td>Web</td>\n",
              "      <td>Desktop</td>\n",
              "      <td>Chrome</td>\n",
              "      <td>NDF</td>\n",
              "      <td>0.0</td>\n",
              "      <td>0.0</td>\n",
              "      <td>0</td>\n",
              "      <td>0</td>\n",
              "      <td>0</td>\n",
              "      <td>0</td>\n",
              "      <td>0</td>\n",
              "      <td>Young</td>\n",
              "    </tr>\n",
              "    <tr>\n",
              "      <th>2</th>\n",
              "      <td>4ft3gnwmtx</td>\n",
              "      <td>2010-09-28</td>\n",
              "      <td>20090609231247</td>\n",
              "      <td>2010-08-02</td>\n",
              "      <td>FEMALE</td>\n",
              "      <td>basic</td>\n",
              "      <td>3</td>\n",
              "      <td>en</td>\n",
              "      <td>direct</td>\n",
              "      <td>direct</td>\n",
              "      <td>untracked</td>\n",
              "      <td>Web</td>\n",
              "      <td>Desktop</td>\n",
              "      <td>IE</td>\n",
              "      <td>US</td>\n",
              "      <td>0.0</td>\n",
              "      <td>0.0</td>\n",
              "      <td>0</td>\n",
              "      <td>0</td>\n",
              "      <td>0</td>\n",
              "      <td>0</td>\n",
              "      <td>0</td>\n",
              "      <td>Middle</td>\n",
              "    </tr>\n",
              "    <tr>\n",
              "      <th>3</th>\n",
              "      <td>bjjt8pjhuk</td>\n",
              "      <td>2011-12-05</td>\n",
              "      <td>20091031060129</td>\n",
              "      <td>2012-09-08</td>\n",
              "      <td>FEMALE</td>\n",
              "      <td>facebook</td>\n",
              "      <td>0</td>\n",
              "      <td>en</td>\n",
              "      <td>direct</td>\n",
              "      <td>direct</td>\n",
              "      <td>untracked</td>\n",
              "      <td>Web</td>\n",
              "      <td>Desktop</td>\n",
              "      <td>Firefox</td>\n",
              "      <td>other</td>\n",
              "      <td>0.0</td>\n",
              "      <td>0.0</td>\n",
              "      <td>0</td>\n",
              "      <td>0</td>\n",
              "      <td>0</td>\n",
              "      <td>0</td>\n",
              "      <td>0</td>\n",
              "      <td>Middle</td>\n",
              "    </tr>\n",
              "    <tr>\n",
              "      <th>4</th>\n",
              "      <td>87mebub9p4</td>\n",
              "      <td>2010-09-14</td>\n",
              "      <td>20091208061105</td>\n",
              "      <td>2010-02-18</td>\n",
              "      <td>NaN</td>\n",
              "      <td>basic</td>\n",
              "      <td>0</td>\n",
              "      <td>en</td>\n",
              "      <td>direct</td>\n",
              "      <td>direct</td>\n",
              "      <td>untracked</td>\n",
              "      <td>Web</td>\n",
              "      <td>Desktop</td>\n",
              "      <td>Chrome</td>\n",
              "      <td>US</td>\n",
              "      <td>0.0</td>\n",
              "      <td>0.0</td>\n",
              "      <td>0</td>\n",
              "      <td>0</td>\n",
              "      <td>0</td>\n",
              "      <td>0</td>\n",
              "      <td>0</td>\n",
              "      <td>Middle</td>\n",
              "    </tr>\n",
              "  </tbody>\n",
              "</table>\n",
              "</div>"
            ],
            "text/plain": [
              "           id date_account_created  ...  num_devices age_group\n",
              "0  gxn3p5htnn           2010-06-28  ...            0   Unknown\n",
              "1  820tgsjxq7           2011-05-25  ...            0     Young\n",
              "2  4ft3gnwmtx           2010-09-28  ...            0    Middle\n",
              "3  bjjt8pjhuk           2011-12-05  ...            0    Middle\n",
              "4  87mebub9p4           2010-09-14  ...            0    Middle\n",
              "\n",
              "[5 rows x 23 columns]"
            ]
          },
          "metadata": {
            "tags": []
          },
          "execution_count": 288
        }
      ]
    },
    {
      "cell_type": "code",
      "metadata": {
        "id": "gA7XKHiyGQfu"
      },
      "source": [
        ""
      ],
      "execution_count": 288,
      "outputs": []
    },
    {
      "cell_type": "code",
      "metadata": {
        "id": "McBYTaGmGwKR",
        "outputId": "012dd34b-571f-491c-c5f1-9151eeb3972e",
        "colab": {
          "base_uri": "https://localhost:8080/",
          "height": 247
        }
      },
      "source": [
        "df_train['is_0'] = df_train['signup_flow'].apply(lambda x: 1 if x==0 else 0)\n",
        "df_train['gender'] = df_train['gender'].fillna('Unknown')\n",
        "df_train = first_booking(df_train)\n",
        "df_train = df_train.drop('timestamp_first_active', axis=1)\n",
        "df_train = account_created(df_train)\n",
        "df_train = df_train.set_index('id')\n",
        "df_train.head()"
      ],
      "execution_count": 289,
      "outputs": [
        {
          "output_type": "execute_result",
          "data": {
            "text/html": [
              "<div>\n",
              "<style scoped>\n",
              "    .dataframe tbody tr th:only-of-type {\n",
              "        vertical-align: middle;\n",
              "    }\n",
              "\n",
              "    .dataframe tbody tr th {\n",
              "        vertical-align: top;\n",
              "    }\n",
              "\n",
              "    .dataframe thead th {\n",
              "        text-align: right;\n",
              "    }\n",
              "</style>\n",
              "<table border=\"1\" class=\"dataframe\">\n",
              "  <thead>\n",
              "    <tr style=\"text-align: right;\">\n",
              "      <th></th>\n",
              "      <th>gender</th>\n",
              "      <th>signup_method</th>\n",
              "      <th>signup_flow</th>\n",
              "      <th>language</th>\n",
              "      <th>affiliate_channel</th>\n",
              "      <th>affiliate_provider</th>\n",
              "      <th>first_affiliate_tracked</th>\n",
              "      <th>signup_app</th>\n",
              "      <th>first_device_type</th>\n",
              "      <th>first_browser</th>\n",
              "      <th>country_destination</th>\n",
              "      <th>total_seconds</th>\n",
              "      <th>average_seconds</th>\n",
              "      <th>total_sessions</th>\n",
              "      <th>distinct_sessions</th>\n",
              "      <th>num_short_sessions</th>\n",
              "      <th>num_long_sessions</th>\n",
              "      <th>num_devices</th>\n",
              "      <th>age_group</th>\n",
              "      <th>is_0</th>\n",
              "    </tr>\n",
              "    <tr>\n",
              "      <th>id</th>\n",
              "      <th></th>\n",
              "      <th></th>\n",
              "      <th></th>\n",
              "      <th></th>\n",
              "      <th></th>\n",
              "      <th></th>\n",
              "      <th></th>\n",
              "      <th></th>\n",
              "      <th></th>\n",
              "      <th></th>\n",
              "      <th></th>\n",
              "      <th></th>\n",
              "      <th></th>\n",
              "      <th></th>\n",
              "      <th></th>\n",
              "      <th></th>\n",
              "      <th></th>\n",
              "      <th></th>\n",
              "      <th></th>\n",
              "      <th></th>\n",
              "    </tr>\n",
              "  </thead>\n",
              "  <tbody>\n",
              "    <tr>\n",
              "      <th>gxn3p5htnn</th>\n",
              "      <td>Unknown</td>\n",
              "      <td>facebook</td>\n",
              "      <td>0</td>\n",
              "      <td>en</td>\n",
              "      <td>direct</td>\n",
              "      <td>direct</td>\n",
              "      <td>untracked</td>\n",
              "      <td>Web</td>\n",
              "      <td>Desktop</td>\n",
              "      <td>Chrome</td>\n",
              "      <td>NDF</td>\n",
              "      <td>0.0</td>\n",
              "      <td>0.0</td>\n",
              "      <td>0</td>\n",
              "      <td>0</td>\n",
              "      <td>0</td>\n",
              "      <td>0</td>\n",
              "      <td>0</td>\n",
              "      <td>Unknown</td>\n",
              "      <td>1</td>\n",
              "    </tr>\n",
              "    <tr>\n",
              "      <th>820tgsjxq7</th>\n",
              "      <td>MALE</td>\n",
              "      <td>facebook</td>\n",
              "      <td>0</td>\n",
              "      <td>en</td>\n",
              "      <td>other</td>\n",
              "      <td>google</td>\n",
              "      <td>untracked</td>\n",
              "      <td>Web</td>\n",
              "      <td>Desktop</td>\n",
              "      <td>Chrome</td>\n",
              "      <td>NDF</td>\n",
              "      <td>0.0</td>\n",
              "      <td>0.0</td>\n",
              "      <td>0</td>\n",
              "      <td>0</td>\n",
              "      <td>0</td>\n",
              "      <td>0</td>\n",
              "      <td>0</td>\n",
              "      <td>Young</td>\n",
              "      <td>1</td>\n",
              "    </tr>\n",
              "    <tr>\n",
              "      <th>4ft3gnwmtx</th>\n",
              "      <td>FEMALE</td>\n",
              "      <td>basic</td>\n",
              "      <td>3</td>\n",
              "      <td>en</td>\n",
              "      <td>direct</td>\n",
              "      <td>direct</td>\n",
              "      <td>untracked</td>\n",
              "      <td>Web</td>\n",
              "      <td>Desktop</td>\n",
              "      <td>IE</td>\n",
              "      <td>US</td>\n",
              "      <td>0.0</td>\n",
              "      <td>0.0</td>\n",
              "      <td>0</td>\n",
              "      <td>0</td>\n",
              "      <td>0</td>\n",
              "      <td>0</td>\n",
              "      <td>0</td>\n",
              "      <td>Middle</td>\n",
              "      <td>0</td>\n",
              "    </tr>\n",
              "    <tr>\n",
              "      <th>bjjt8pjhuk</th>\n",
              "      <td>FEMALE</td>\n",
              "      <td>facebook</td>\n",
              "      <td>0</td>\n",
              "      <td>en</td>\n",
              "      <td>direct</td>\n",
              "      <td>direct</td>\n",
              "      <td>untracked</td>\n",
              "      <td>Web</td>\n",
              "      <td>Desktop</td>\n",
              "      <td>Firefox</td>\n",
              "      <td>other</td>\n",
              "      <td>0.0</td>\n",
              "      <td>0.0</td>\n",
              "      <td>0</td>\n",
              "      <td>0</td>\n",
              "      <td>0</td>\n",
              "      <td>0</td>\n",
              "      <td>0</td>\n",
              "      <td>Middle</td>\n",
              "      <td>1</td>\n",
              "    </tr>\n",
              "    <tr>\n",
              "      <th>87mebub9p4</th>\n",
              "      <td>Unknown</td>\n",
              "      <td>basic</td>\n",
              "      <td>0</td>\n",
              "      <td>en</td>\n",
              "      <td>direct</td>\n",
              "      <td>direct</td>\n",
              "      <td>untracked</td>\n",
              "      <td>Web</td>\n",
              "      <td>Desktop</td>\n",
              "      <td>Chrome</td>\n",
              "      <td>US</td>\n",
              "      <td>0.0</td>\n",
              "      <td>0.0</td>\n",
              "      <td>0</td>\n",
              "      <td>0</td>\n",
              "      <td>0</td>\n",
              "      <td>0</td>\n",
              "      <td>0</td>\n",
              "      <td>Middle</td>\n",
              "      <td>1</td>\n",
              "    </tr>\n",
              "  </tbody>\n",
              "</table>\n",
              "</div>"
            ],
            "text/plain": [
              "             gender signup_method  signup_flow  ... num_devices age_group is_0\n",
              "id                                              ...                           \n",
              "gxn3p5htnn  Unknown      facebook            0  ...           0   Unknown    1\n",
              "820tgsjxq7     MALE      facebook            0  ...           0     Young    1\n",
              "4ft3gnwmtx   FEMALE         basic            3  ...           0    Middle    0\n",
              "bjjt8pjhuk   FEMALE      facebook            0  ...           0    Middle    1\n",
              "87mebub9p4  Unknown         basic            0  ...           0    Middle    1\n",
              "\n",
              "[5 rows x 20 columns]"
            ]
          },
          "metadata": {
            "tags": []
          },
          "execution_count": 289
        }
      ]
    },
    {
      "cell_type": "code",
      "metadata": {
        "id": "e0UINhfKHC-N"
      },
      "source": [
        ""
      ],
      "execution_count": 289,
      "outputs": []
    },
    {
      "cell_type": "code",
      "metadata": {
        "id": "uq23bXNCBJER"
      },
      "source": [
        ""
      ],
      "execution_count": 289,
      "outputs": []
    },
    {
      "cell_type": "code",
      "metadata": {
        "id": "N5Ue2DOeHGBw"
      },
      "source": [
        "df_train = df_train[df_train['country_destination']!='NDF']"
      ],
      "execution_count": 290,
      "outputs": []
    },
    {
      "cell_type": "code",
      "metadata": {
        "id": "kinqjp48BTKJ"
      },
      "source": [
        ""
      ],
      "execution_count": 290,
      "outputs": []
    },
    {
      "cell_type": "markdown",
      "metadata": {
        "id": "5clZThmGBUaS"
      },
      "source": [
        "### Split data and convert object data to numerical"
      ]
    },
    {
      "cell_type": "code",
      "metadata": {
        "id": "2zlEwB3YHLIM"
      },
      "source": [
        "class_dict = {\n",
        "    'US': 1,\n",
        "    'other': 2,\n",
        "    'FR': 3,\n",
        "    'CA': 4,\n",
        "    'GB': 5,\n",
        "    'ES': 6,\n",
        "    'IT': 7,\n",
        "    'PT': 8,\n",
        "    'NL': 9,\n",
        "    'DE': 10,\n",
        "    'AU': 11\n",
        "}\n",
        "X, y = df_train.drop('country_destination', axis=1), df_train['country_destination'].apply(lambda x: class_dict[x])"
      ],
      "execution_count": 291,
      "outputs": []
    },
    {
      "cell_type": "code",
      "metadata": {
        "id": "dH8pwJCpID5v",
        "outputId": "9aaff506-b8f8-46a3-f857-313e07367553",
        "colab": {
          "base_uri": "https://localhost:8080/"
        }
      },
      "source": [
        "X.age_group.unique()"
      ],
      "execution_count": 292,
      "outputs": [
        {
          "output_type": "execute_result",
          "data": {
            "text/plain": [
              "array(['Middle', 'Unknown', 'Young', 'Old'], dtype=object)"
            ]
          },
          "metadata": {
            "tags": []
          },
          "execution_count": 292
        }
      ]
    },
    {
      "cell_type": "code",
      "metadata": {
        "id": "0x5ZrpbsH3vv"
      },
      "source": [
        "age_group = {\n",
        "    'Unknown': 0,\n",
        "    'Young': 1,\n",
        "    'Middle': 2,\n",
        "    'Old': 3\n",
        "}\n",
        "X['age_group']= X['age_group'].apply(lambda x: age_group[x])"
      ],
      "execution_count": 293,
      "outputs": []
    },
    {
      "cell_type": "code",
      "metadata": {
        "id": "jkMMQ9xAIU3y"
      },
      "source": [
        ""
      ],
      "execution_count": 293,
      "outputs": []
    },
    {
      "cell_type": "code",
      "metadata": {
        "id": "pNgW1kvTIrSj"
      },
      "source": [
        "first_browser = {\n",
        "    'Other': 0,\n",
        "    'Chrome': 1,\n",
        "    'IE': 2,\n",
        "    'Firefox': 3,\n",
        "    'Safari':4,\n",
        "    'Mobile_Safari':5\n",
        "}\n",
        "X['first_browser']= X['first_browser'].apply(lambda x: first_browser[x])"
      ],
      "execution_count": 294,
      "outputs": []
    },
    {
      "cell_type": "code",
      "metadata": {
        "id": "3cZifNebJbKX"
      },
      "source": [
        "first_device_type = {\n",
        "    'Unknown': 0,\n",
        "    'Desktop': 1,\n",
        "    'Phone': 2,\n",
        "    'Tablet': 3\n",
        "}\n",
        "X['first_device_type']= X['first_device_type'].apply(lambda x: first_device_type[x])\n"
      ],
      "execution_count": 295,
      "outputs": []
    },
    {
      "cell_type": "code",
      "metadata": {
        "id": "SRdzssDoKNLX"
      },
      "source": [
        "signup_app = {\n",
        "    'Web': 0,\n",
        "    'Moweb': 1,\n",
        "    'iOS': 2,\n",
        "    'Android': 3\n",
        "}\n",
        "X['signup_app']= X['signup_app'].apply(lambda x: signup_app[x])\n"
      ],
      "execution_count": 296,
      "outputs": []
    },
    {
      "cell_type": "code",
      "metadata": {
        "id": "ls7eL2LWKZ_U"
      },
      "source": [
        "first_affiliate_tracked = {\n",
        "    'untracked': 0,\n",
        "    'Other': 1,\n",
        "    'Unknown': 2\n",
        "}\n",
        "X['first_affiliate_tracked']= X['first_affiliate_tracked'].apply(lambda x: first_affiliate_tracked[x])\n"
      ],
      "execution_count": 297,
      "outputs": []
    },
    {
      "cell_type": "code",
      "metadata": {
        "id": "jvW04rrIKzeo"
      },
      "source": [
        "affiliate_provider = {\n",
        "    'direct': 0,\n",
        "    'google': 1,\n",
        "    'other': 2,\n",
        "    'rest': 3\n",
        "}\n",
        "X['affiliate_provider']= X['affiliate_provider'].apply(lambda x: affiliate_provider[x])\n"
      ],
      "execution_count": 298,
      "outputs": []
    },
    {
      "cell_type": "code",
      "metadata": {
        "id": "VXRDgd7ILIPI"
      },
      "source": [
        "affiliate_channel = {\n",
        "    'direct': 0,\n",
        "    'other': 1,\n",
        "    'content': 2\n",
        "}\n",
        "X['affiliate_channel']= X['affiliate_channel'].apply(lambda x: affiliate_channel[x])\n"
      ],
      "execution_count": 299,
      "outputs": []
    },
    {
      "cell_type": "code",
      "metadata": {
        "id": "8XfJ5xFyLRKP"
      },
      "source": [
        "signup_method = {\n",
        "    'facebook': 0,\n",
        "    'basic': 1,\n",
        "    'google': 2\n",
        "}\n",
        "X['signup_method']= X['signup_method'].apply(lambda x: signup_method[x])\n"
      ],
      "execution_count": 300,
      "outputs": []
    },
    {
      "cell_type": "code",
      "metadata": {
        "id": "TSieYfZOLbfd"
      },
      "source": [
        "gender = {\n",
        "    'Unknown': 0,\n",
        "    'MALE': 1,\n",
        "    'FEMALE': 2,\n",
        "    'OTHER' : 3\n",
        "}\n",
        "X['gender']= X['gender'].apply(lambda x: gender[x])\n"
      ],
      "execution_count": 301,
      "outputs": []
    },
    {
      "cell_type": "code",
      "metadata": {
        "id": "D0F8tVidLw4n",
        "outputId": "82e2241f-7ac3-47e6-c76e-7541f85fe13a",
        "colab": {
          "base_uri": "https://localhost:8080/",
          "height": 247
        }
      },
      "source": [
        "language = {\n",
        "    'en': 0,\n",
        "    'foreign': 1\n",
        "}\n",
        "X['language']= X['language'].apply(lambda x: language[x])\n",
        "X.head()"
      ],
      "execution_count": 302,
      "outputs": [
        {
          "output_type": "execute_result",
          "data": {
            "text/html": [
              "<div>\n",
              "<style scoped>\n",
              "    .dataframe tbody tr th:only-of-type {\n",
              "        vertical-align: middle;\n",
              "    }\n",
              "\n",
              "    .dataframe tbody tr th {\n",
              "        vertical-align: top;\n",
              "    }\n",
              "\n",
              "    .dataframe thead th {\n",
              "        text-align: right;\n",
              "    }\n",
              "</style>\n",
              "<table border=\"1\" class=\"dataframe\">\n",
              "  <thead>\n",
              "    <tr style=\"text-align: right;\">\n",
              "      <th></th>\n",
              "      <th>gender</th>\n",
              "      <th>signup_method</th>\n",
              "      <th>signup_flow</th>\n",
              "      <th>language</th>\n",
              "      <th>affiliate_channel</th>\n",
              "      <th>affiliate_provider</th>\n",
              "      <th>first_affiliate_tracked</th>\n",
              "      <th>signup_app</th>\n",
              "      <th>first_device_type</th>\n",
              "      <th>first_browser</th>\n",
              "      <th>total_seconds</th>\n",
              "      <th>average_seconds</th>\n",
              "      <th>total_sessions</th>\n",
              "      <th>distinct_sessions</th>\n",
              "      <th>num_short_sessions</th>\n",
              "      <th>num_long_sessions</th>\n",
              "      <th>num_devices</th>\n",
              "      <th>age_group</th>\n",
              "      <th>is_0</th>\n",
              "    </tr>\n",
              "    <tr>\n",
              "      <th>id</th>\n",
              "      <th></th>\n",
              "      <th></th>\n",
              "      <th></th>\n",
              "      <th></th>\n",
              "      <th></th>\n",
              "      <th></th>\n",
              "      <th></th>\n",
              "      <th></th>\n",
              "      <th></th>\n",
              "      <th></th>\n",
              "      <th></th>\n",
              "      <th></th>\n",
              "      <th></th>\n",
              "      <th></th>\n",
              "      <th></th>\n",
              "      <th></th>\n",
              "      <th></th>\n",
              "      <th></th>\n",
              "      <th></th>\n",
              "    </tr>\n",
              "  </thead>\n",
              "  <tbody>\n",
              "    <tr>\n",
              "      <th>4ft3gnwmtx</th>\n",
              "      <td>2</td>\n",
              "      <td>1</td>\n",
              "      <td>3</td>\n",
              "      <td>0</td>\n",
              "      <td>0</td>\n",
              "      <td>0</td>\n",
              "      <td>0</td>\n",
              "      <td>0</td>\n",
              "      <td>1</td>\n",
              "      <td>2</td>\n",
              "      <td>0.0</td>\n",
              "      <td>0.0</td>\n",
              "      <td>0</td>\n",
              "      <td>0</td>\n",
              "      <td>0</td>\n",
              "      <td>0</td>\n",
              "      <td>0</td>\n",
              "      <td>2</td>\n",
              "      <td>0</td>\n",
              "    </tr>\n",
              "    <tr>\n",
              "      <th>bjjt8pjhuk</th>\n",
              "      <td>2</td>\n",
              "      <td>0</td>\n",
              "      <td>0</td>\n",
              "      <td>0</td>\n",
              "      <td>0</td>\n",
              "      <td>0</td>\n",
              "      <td>0</td>\n",
              "      <td>0</td>\n",
              "      <td>1</td>\n",
              "      <td>3</td>\n",
              "      <td>0.0</td>\n",
              "      <td>0.0</td>\n",
              "      <td>0</td>\n",
              "      <td>0</td>\n",
              "      <td>0</td>\n",
              "      <td>0</td>\n",
              "      <td>0</td>\n",
              "      <td>2</td>\n",
              "      <td>1</td>\n",
              "    </tr>\n",
              "    <tr>\n",
              "      <th>87mebub9p4</th>\n",
              "      <td>0</td>\n",
              "      <td>1</td>\n",
              "      <td>0</td>\n",
              "      <td>0</td>\n",
              "      <td>0</td>\n",
              "      <td>0</td>\n",
              "      <td>0</td>\n",
              "      <td>0</td>\n",
              "      <td>1</td>\n",
              "      <td>1</td>\n",
              "      <td>0.0</td>\n",
              "      <td>0.0</td>\n",
              "      <td>0</td>\n",
              "      <td>0</td>\n",
              "      <td>0</td>\n",
              "      <td>0</td>\n",
              "      <td>0</td>\n",
              "      <td>2</td>\n",
              "      <td>1</td>\n",
              "    </tr>\n",
              "    <tr>\n",
              "      <th>osr2jwljor</th>\n",
              "      <td>0</td>\n",
              "      <td>1</td>\n",
              "      <td>0</td>\n",
              "      <td>0</td>\n",
              "      <td>1</td>\n",
              "      <td>2</td>\n",
              "      <td>1</td>\n",
              "      <td>0</td>\n",
              "      <td>1</td>\n",
              "      <td>1</td>\n",
              "      <td>0.0</td>\n",
              "      <td>0.0</td>\n",
              "      <td>0</td>\n",
              "      <td>0</td>\n",
              "      <td>0</td>\n",
              "      <td>0</td>\n",
              "      <td>0</td>\n",
              "      <td>0</td>\n",
              "      <td>1</td>\n",
              "    </tr>\n",
              "    <tr>\n",
              "      <th>lsw9q7uk0j</th>\n",
              "      <td>2</td>\n",
              "      <td>1</td>\n",
              "      <td>0</td>\n",
              "      <td>0</td>\n",
              "      <td>1</td>\n",
              "      <td>3</td>\n",
              "      <td>0</td>\n",
              "      <td>0</td>\n",
              "      <td>1</td>\n",
              "      <td>4</td>\n",
              "      <td>0.0</td>\n",
              "      <td>0.0</td>\n",
              "      <td>0</td>\n",
              "      <td>0</td>\n",
              "      <td>0</td>\n",
              "      <td>0</td>\n",
              "      <td>0</td>\n",
              "      <td>2</td>\n",
              "      <td>1</td>\n",
              "    </tr>\n",
              "  </tbody>\n",
              "</table>\n",
              "</div>"
            ],
            "text/plain": [
              "            gender  signup_method  signup_flow  ...  num_devices  age_group  is_0\n",
              "id                                              ...                              \n",
              "4ft3gnwmtx       2              1            3  ...            0          2     0\n",
              "bjjt8pjhuk       2              0            0  ...            0          2     1\n",
              "87mebub9p4       0              1            0  ...            0          2     1\n",
              "osr2jwljor       0              1            0  ...            0          0     1\n",
              "lsw9q7uk0j       2              1            0  ...            0          2     1\n",
              "\n",
              "[5 rows x 19 columns]"
            ]
          },
          "metadata": {
            "tags": []
          },
          "execution_count": 302
        }
      ]
    },
    {
      "cell_type": "code",
      "metadata": {
        "id": "lpe6Nl0aCJHZ"
      },
      "source": [
        ""
      ],
      "execution_count": 302,
      "outputs": []
    },
    {
      "cell_type": "markdown",
      "metadata": {
        "id": "EtImXIF0CNkf"
      },
      "source": [
        "## Normalizing Numerical Features"
      ]
    },
    {
      "cell_type": "code",
      "metadata": {
        "id": "fAixL2bLMELi",
        "outputId": "53e6a1d1-76e3-4f15-9633-a3dfa62f6dde",
        "colab": {
          "base_uri": "https://localhost:8080/"
        }
      },
      "source": [
        "# Split the 'features' and 'income' data into training and testing sets\n",
        "X_train, X_test, y_train, y_test = train_test_split(X, \n",
        "                                                    y, \n",
        "                                                    test_size = 0.2, \n",
        "                                                    random_state = 0)\n",
        "\n",
        "# Show the results of the split\n",
        "print(\"Training set has {} samples.\".format(X_train.shape[0]))\n",
        "print(\"Testing set has {} samples.\".format(X_test.shape[0]))"
      ],
      "execution_count": 303,
      "outputs": [
        {
          "output_type": "stream",
          "text": [
            "Training set has 71126 samples.\n",
            "Testing set has 17782 samples.\n"
          ],
          "name": "stdout"
        }
      ]
    },
    {
      "cell_type": "code",
      "metadata": {
        "id": "PYW92nxHMs8i",
        "outputId": "3f5f421d-fa39-4c24-e19e-5d5d52564368",
        "colab": {
          "base_uri": "https://localhost:8080/"
        }
      },
      "source": [
        "# Initialize a scaler, then apply it to the features\n",
        "scaler = MinMaxScaler()\n",
        "\n",
        "X_train_scaled = scaler.fit_transform(X_train)\n",
        "X_test_scaled = scaler.transform(X_test)\n",
        "X_test_scaled"
      ],
      "execution_count": 304,
      "outputs": [
        {
          "output_type": "execute_result",
          "data": {
            "text/plain": [
              "array([[0.        , 0.5       , 0.        , ..., 0.16666667, 0.        ,\n",
              "        1.        ],\n",
              "       [0.66666667, 0.        , 0.        , ..., 0.        , 0.66666667,\n",
              "        1.        ],\n",
              "       [0.66666667, 0.5       , 0.        , ..., 0.        , 0.33333333,\n",
              "        1.        ],\n",
              "       ...,\n",
              "       [0.33333333, 0.5       , 0.        , ..., 0.        , 0.33333333,\n",
              "        1.        ],\n",
              "       [0.66666667, 0.        , 0.        , ..., 0.        , 0.33333333,\n",
              "        1.        ],\n",
              "       [0.66666667, 0.5       , 0.        , ..., 0.        , 0.66666667,\n",
              "        1.        ]])"
            ]
          },
          "metadata": {
            "tags": []
          },
          "execution_count": 304
        }
      ]
    },
    {
      "cell_type": "code",
      "metadata": {
        "id": "UNCnNdn8NZ9V",
        "outputId": "eaa6a043-1ef6-4c4d-da98-78d32f98a157",
        "colab": {
          "base_uri": "https://localhost:8080/"
        }
      },
      "source": [
        "y_train"
      ],
      "execution_count": 305,
      "outputs": [
        {
          "output_type": "execute_result",
          "data": {
            "text/plain": [
              "id\n",
              "sczbzagsel    1\n",
              "ob4ms2sdyb    1\n",
              "nzd9fxvn5x    1\n",
              "ml2pdvxyyp    1\n",
              "8wyxo056hk    1\n",
              "             ..\n",
              "i3uhfnignp    1\n",
              "s2s2bul0i1    1\n",
              "o9j9dp8pzb    7\n",
              "z4h195n31q    1\n",
              "q53ngxgafb    1\n",
              "Name: country_destination, Length: 71126, dtype: int64"
            ]
          },
          "metadata": {
            "tags": []
          },
          "execution_count": 305
        }
      ]
    },
    {
      "cell_type": "code",
      "metadata": {
        "id": "jeql8VcwNojy",
        "outputId": "343b9ff5-d38b-4900-d7c1-4b6847699d04",
        "colab": {
          "base_uri": "https://localhost:8080/"
        }
      },
      "source": [
        "y_train_scaled = y_train.reset_index(drop=True)\n",
        "y_train_scaled"
      ],
      "execution_count": 306,
      "outputs": [
        {
          "output_type": "execute_result",
          "data": {
            "text/plain": [
              "0        1\n",
              "1        1\n",
              "2        1\n",
              "3        1\n",
              "4        1\n",
              "        ..\n",
              "71121    1\n",
              "71122    1\n",
              "71123    7\n",
              "71124    1\n",
              "71125    1\n",
              "Name: country_destination, Length: 71126, dtype: int64"
            ]
          },
          "metadata": {
            "tags": []
          },
          "execution_count": 306
        }
      ]
    },
    {
      "cell_type": "code",
      "metadata": {
        "id": "c7odoRo5Nunu",
        "outputId": "0b572189-2c5f-4e19-de6c-e76bfa276bb6",
        "colab": {
          "base_uri": "https://localhost:8080/"
        }
      },
      "source": [
        "y_test_scaled = y_test.reset_index(drop=True)\n",
        "y_test_scaled"
      ],
      "execution_count": 307,
      "outputs": [
        {
          "output_type": "execute_result",
          "data": {
            "text/plain": [
              "0         7\n",
              "1         1\n",
              "2         1\n",
              "3         1\n",
              "4         1\n",
              "         ..\n",
              "17777    10\n",
              "17778     2\n",
              "17779     3\n",
              "17780     1\n",
              "17781     2\n",
              "Name: country_destination, Length: 17782, dtype: int64"
            ]
          },
          "metadata": {
            "tags": []
          },
          "execution_count": 307
        }
      ]
    },
    {
      "cell_type": "code",
      "metadata": {
        "id": "TjG8BmrWN47d",
        "outputId": "d0327216-124d-469a-f487-59e87a4eabfd",
        "colab": {
          "base_uri": "https://localhost:8080/",
          "height": 247
        }
      },
      "source": [
        "X_train.head()"
      ],
      "execution_count": 308,
      "outputs": [
        {
          "output_type": "execute_result",
          "data": {
            "text/html": [
              "<div>\n",
              "<style scoped>\n",
              "    .dataframe tbody tr th:only-of-type {\n",
              "        vertical-align: middle;\n",
              "    }\n",
              "\n",
              "    .dataframe tbody tr th {\n",
              "        vertical-align: top;\n",
              "    }\n",
              "\n",
              "    .dataframe thead th {\n",
              "        text-align: right;\n",
              "    }\n",
              "</style>\n",
              "<table border=\"1\" class=\"dataframe\">\n",
              "  <thead>\n",
              "    <tr style=\"text-align: right;\">\n",
              "      <th></th>\n",
              "      <th>gender</th>\n",
              "      <th>signup_method</th>\n",
              "      <th>signup_flow</th>\n",
              "      <th>language</th>\n",
              "      <th>affiliate_channel</th>\n",
              "      <th>affiliate_provider</th>\n",
              "      <th>first_affiliate_tracked</th>\n",
              "      <th>signup_app</th>\n",
              "      <th>first_device_type</th>\n",
              "      <th>first_browser</th>\n",
              "      <th>total_seconds</th>\n",
              "      <th>average_seconds</th>\n",
              "      <th>total_sessions</th>\n",
              "      <th>distinct_sessions</th>\n",
              "      <th>num_short_sessions</th>\n",
              "      <th>num_long_sessions</th>\n",
              "      <th>num_devices</th>\n",
              "      <th>age_group</th>\n",
              "      <th>is_0</th>\n",
              "    </tr>\n",
              "    <tr>\n",
              "      <th>id</th>\n",
              "      <th></th>\n",
              "      <th></th>\n",
              "      <th></th>\n",
              "      <th></th>\n",
              "      <th></th>\n",
              "      <th></th>\n",
              "      <th></th>\n",
              "      <th></th>\n",
              "      <th></th>\n",
              "      <th></th>\n",
              "      <th></th>\n",
              "      <th></th>\n",
              "      <th></th>\n",
              "      <th></th>\n",
              "      <th></th>\n",
              "      <th></th>\n",
              "      <th></th>\n",
              "      <th></th>\n",
              "      <th></th>\n",
              "    </tr>\n",
              "  </thead>\n",
              "  <tbody>\n",
              "    <tr>\n",
              "      <th>sczbzagsel</th>\n",
              "      <td>0</td>\n",
              "      <td>1</td>\n",
              "      <td>0</td>\n",
              "      <td>0</td>\n",
              "      <td>0</td>\n",
              "      <td>0</td>\n",
              "      <td>0</td>\n",
              "      <td>0</td>\n",
              "      <td>1</td>\n",
              "      <td>3</td>\n",
              "      <td>0.0</td>\n",
              "      <td>0.0</td>\n",
              "      <td>0</td>\n",
              "      <td>0</td>\n",
              "      <td>0</td>\n",
              "      <td>0</td>\n",
              "      <td>0</td>\n",
              "      <td>0</td>\n",
              "      <td>1</td>\n",
              "    </tr>\n",
              "    <tr>\n",
              "      <th>ob4ms2sdyb</th>\n",
              "      <td>0</td>\n",
              "      <td>1</td>\n",
              "      <td>3</td>\n",
              "      <td>0</td>\n",
              "      <td>1</td>\n",
              "      <td>1</td>\n",
              "      <td>0</td>\n",
              "      <td>0</td>\n",
              "      <td>1</td>\n",
              "      <td>4</td>\n",
              "      <td>0.0</td>\n",
              "      <td>0.0</td>\n",
              "      <td>0</td>\n",
              "      <td>0</td>\n",
              "      <td>0</td>\n",
              "      <td>0</td>\n",
              "      <td>0</td>\n",
              "      <td>2</td>\n",
              "      <td>0</td>\n",
              "    </tr>\n",
              "    <tr>\n",
              "      <th>nzd9fxvn5x</th>\n",
              "      <td>1</td>\n",
              "      <td>0</td>\n",
              "      <td>0</td>\n",
              "      <td>0</td>\n",
              "      <td>0</td>\n",
              "      <td>0</td>\n",
              "      <td>1</td>\n",
              "      <td>0</td>\n",
              "      <td>1</td>\n",
              "      <td>3</td>\n",
              "      <td>0.0</td>\n",
              "      <td>0.0</td>\n",
              "      <td>0</td>\n",
              "      <td>0</td>\n",
              "      <td>0</td>\n",
              "      <td>0</td>\n",
              "      <td>0</td>\n",
              "      <td>1</td>\n",
              "      <td>1</td>\n",
              "    </tr>\n",
              "    <tr>\n",
              "      <th>ml2pdvxyyp</th>\n",
              "      <td>1</td>\n",
              "      <td>0</td>\n",
              "      <td>0</td>\n",
              "      <td>0</td>\n",
              "      <td>0</td>\n",
              "      <td>0</td>\n",
              "      <td>0</td>\n",
              "      <td>0</td>\n",
              "      <td>1</td>\n",
              "      <td>2</td>\n",
              "      <td>0.0</td>\n",
              "      <td>0.0</td>\n",
              "      <td>0</td>\n",
              "      <td>0</td>\n",
              "      <td>0</td>\n",
              "      <td>0</td>\n",
              "      <td>0</td>\n",
              "      <td>1</td>\n",
              "      <td>1</td>\n",
              "    </tr>\n",
              "    <tr>\n",
              "      <th>8wyxo056hk</th>\n",
              "      <td>1</td>\n",
              "      <td>0</td>\n",
              "      <td>0</td>\n",
              "      <td>0</td>\n",
              "      <td>0</td>\n",
              "      <td>0</td>\n",
              "      <td>0</td>\n",
              "      <td>0</td>\n",
              "      <td>1</td>\n",
              "      <td>3</td>\n",
              "      <td>51157.0</td>\n",
              "      <td>10231.4</td>\n",
              "      <td>3</td>\n",
              "      <td>2</td>\n",
              "      <td>1</td>\n",
              "      <td>1</td>\n",
              "      <td>1</td>\n",
              "      <td>1</td>\n",
              "      <td>1</td>\n",
              "    </tr>\n",
              "  </tbody>\n",
              "</table>\n",
              "</div>"
            ],
            "text/plain": [
              "            gender  signup_method  signup_flow  ...  num_devices  age_group  is_0\n",
              "id                                              ...                              \n",
              "sczbzagsel       0              1            0  ...            0          0     1\n",
              "ob4ms2sdyb       0              1            3  ...            0          2     0\n",
              "nzd9fxvn5x       1              0            0  ...            0          1     1\n",
              "ml2pdvxyyp       1              0            0  ...            0          1     1\n",
              "8wyxo056hk       1              0            0  ...            1          1     1\n",
              "\n",
              "[5 rows x 19 columns]"
            ]
          },
          "metadata": {
            "tags": []
          },
          "execution_count": 308
        }
      ]
    },
    {
      "cell_type": "code",
      "metadata": {
        "id": "1mBtvjhZN802",
        "outputId": "93fc931b-730a-4d2a-c83f-e3e9bac62313",
        "colab": {
          "base_uri": "https://localhost:8080/",
          "height": 197
        }
      },
      "source": [
        "pd.DataFrame(X_train_scaled).head()"
      ],
      "execution_count": 309,
      "outputs": [
        {
          "output_type": "execute_result",
          "data": {
            "text/html": [
              "<div>\n",
              "<style scoped>\n",
              "    .dataframe tbody tr th:only-of-type {\n",
              "        vertical-align: middle;\n",
              "    }\n",
              "\n",
              "    .dataframe tbody tr th {\n",
              "        vertical-align: top;\n",
              "    }\n",
              "\n",
              "    .dataframe thead th {\n",
              "        text-align: right;\n",
              "    }\n",
              "</style>\n",
              "<table border=\"1\" class=\"dataframe\">\n",
              "  <thead>\n",
              "    <tr style=\"text-align: right;\">\n",
              "      <th></th>\n",
              "      <th>0</th>\n",
              "      <th>1</th>\n",
              "      <th>2</th>\n",
              "      <th>3</th>\n",
              "      <th>4</th>\n",
              "      <th>5</th>\n",
              "      <th>6</th>\n",
              "      <th>7</th>\n",
              "      <th>8</th>\n",
              "      <th>9</th>\n",
              "      <th>10</th>\n",
              "      <th>11</th>\n",
              "      <th>12</th>\n",
              "      <th>13</th>\n",
              "      <th>14</th>\n",
              "      <th>15</th>\n",
              "      <th>16</th>\n",
              "      <th>17</th>\n",
              "      <th>18</th>\n",
              "    </tr>\n",
              "  </thead>\n",
              "  <tbody>\n",
              "    <tr>\n",
              "      <th>0</th>\n",
              "      <td>0.000000</td>\n",
              "      <td>0.5</td>\n",
              "      <td>0.00</td>\n",
              "      <td>0.0</td>\n",
              "      <td>0.0</td>\n",
              "      <td>0.000000</td>\n",
              "      <td>0.0</td>\n",
              "      <td>0.0</td>\n",
              "      <td>0.333333</td>\n",
              "      <td>0.6</td>\n",
              "      <td>0.00000</td>\n",
              "      <td>0.000000</td>\n",
              "      <td>0.000000</td>\n",
              "      <td>0.000000</td>\n",
              "      <td>0.000000</td>\n",
              "      <td>0.000000</td>\n",
              "      <td>0.000000</td>\n",
              "      <td>0.000000</td>\n",
              "      <td>1.0</td>\n",
              "    </tr>\n",
              "    <tr>\n",
              "      <th>1</th>\n",
              "      <td>0.000000</td>\n",
              "      <td>0.5</td>\n",
              "      <td>0.12</td>\n",
              "      <td>0.0</td>\n",
              "      <td>0.5</td>\n",
              "      <td>0.333333</td>\n",
              "      <td>0.0</td>\n",
              "      <td>0.0</td>\n",
              "      <td>0.333333</td>\n",
              "      <td>0.8</td>\n",
              "      <td>0.00000</td>\n",
              "      <td>0.000000</td>\n",
              "      <td>0.000000</td>\n",
              "      <td>0.000000</td>\n",
              "      <td>0.000000</td>\n",
              "      <td>0.000000</td>\n",
              "      <td>0.000000</td>\n",
              "      <td>0.666667</td>\n",
              "      <td>0.0</td>\n",
              "    </tr>\n",
              "    <tr>\n",
              "      <th>2</th>\n",
              "      <td>0.333333</td>\n",
              "      <td>0.0</td>\n",
              "      <td>0.00</td>\n",
              "      <td>0.0</td>\n",
              "      <td>0.0</td>\n",
              "      <td>0.000000</td>\n",
              "      <td>0.5</td>\n",
              "      <td>0.0</td>\n",
              "      <td>0.333333</td>\n",
              "      <td>0.6</td>\n",
              "      <td>0.00000</td>\n",
              "      <td>0.000000</td>\n",
              "      <td>0.000000</td>\n",
              "      <td>0.000000</td>\n",
              "      <td>0.000000</td>\n",
              "      <td>0.000000</td>\n",
              "      <td>0.000000</td>\n",
              "      <td>0.333333</td>\n",
              "      <td>1.0</td>\n",
              "    </tr>\n",
              "    <tr>\n",
              "      <th>3</th>\n",
              "      <td>0.333333</td>\n",
              "      <td>0.0</td>\n",
              "      <td>0.00</td>\n",
              "      <td>0.0</td>\n",
              "      <td>0.0</td>\n",
              "      <td>0.000000</td>\n",
              "      <td>0.0</td>\n",
              "      <td>0.0</td>\n",
              "      <td>0.333333</td>\n",
              "      <td>0.4</td>\n",
              "      <td>0.00000</td>\n",
              "      <td>0.000000</td>\n",
              "      <td>0.000000</td>\n",
              "      <td>0.000000</td>\n",
              "      <td>0.000000</td>\n",
              "      <td>0.000000</td>\n",
              "      <td>0.000000</td>\n",
              "      <td>0.333333</td>\n",
              "      <td>1.0</td>\n",
              "    </tr>\n",
              "    <tr>\n",
              "      <th>4</th>\n",
              "      <td>0.333333</td>\n",
              "      <td>0.0</td>\n",
              "      <td>0.00</td>\n",
              "      <td>0.0</td>\n",
              "      <td>0.0</td>\n",
              "      <td>0.000000</td>\n",
              "      <td>0.0</td>\n",
              "      <td>0.0</td>\n",
              "      <td>0.333333</td>\n",
              "      <td>0.6</td>\n",
              "      <td>0.00192</td>\n",
              "      <td>0.011596</td>\n",
              "      <td>0.001325</td>\n",
              "      <td>0.032258</td>\n",
              "      <td>0.001013</td>\n",
              "      <td>0.001531</td>\n",
              "      <td>0.166667</td>\n",
              "      <td>0.333333</td>\n",
              "      <td>1.0</td>\n",
              "    </tr>\n",
              "  </tbody>\n",
              "</table>\n",
              "</div>"
            ],
            "text/plain": [
              "         0    1     2    3    4   ...        14        15        16        17   18\n",
              "0  0.000000  0.5  0.00  0.0  0.0  ...  0.000000  0.000000  0.000000  0.000000  1.0\n",
              "1  0.000000  0.5  0.12  0.0  0.5  ...  0.000000  0.000000  0.000000  0.666667  0.0\n",
              "2  0.333333  0.0  0.00  0.0  0.0  ...  0.000000  0.000000  0.000000  0.333333  1.0\n",
              "3  0.333333  0.0  0.00  0.0  0.0  ...  0.000000  0.000000  0.000000  0.333333  1.0\n",
              "4  0.333333  0.0  0.00  0.0  0.0  ...  0.001013  0.001531  0.166667  0.333333  1.0\n",
              "\n",
              "[5 rows x 19 columns]"
            ]
          },
          "metadata": {
            "tags": []
          },
          "execution_count": 309
        }
      ]
    },
    {
      "cell_type": "code",
      "metadata": {
        "id": "PtdmeRB5CnSg"
      },
      "source": [
        ""
      ],
      "execution_count": 309,
      "outputs": []
    },
    {
      "cell_type": "markdown",
      "metadata": {
        "id": "qyw6rW4sCn-3"
      },
      "source": [
        "## Implementation - Creating a Training and Predicting Pipeline"
      ]
    },
    {
      "cell_type": "code",
      "metadata": {
        "id": "kNyosKaHOCFY"
      },
      "source": [
        "def train_predict(classifier):\n",
        "  print(classifier)\n",
        "  results = {}\n",
        "    # Fit the classifier to the training data and Calculate the time\n",
        "  start_train = time()\n",
        "  classifier = classifier.fit(X_train_scaled, y_train_scaled)\n",
        "  end_train = time()\n",
        "  results['train_time'] = round((end_train-start_train), 2)\n",
        "  print(results)\n",
        "  # Predict the training/testing labels and Calculate the time\n",
        "  start_test = time()\n",
        "  y_pred_train = classifier.predict(X_train_scaled)\n",
        "  y_pred_test = classifier.predict(X_test_scaled)\n",
        "  end_test = time()   \n",
        "  results['pred_time'] = round((end_test-start_test), 2)\n",
        "  # Model evaluation (training/testing data) using accuracy\n",
        "  results['acc_train'] = round(accuracy_score(y_train_scaled, y_pred_train), 2)\n",
        "  results['acc_test'] = round(accuracy_score(y_test_scaled, y_pred_test), 2)\n",
        "  # Model evaluation (training/testing data) using f1-score\n",
        "  results['f1_train'] = round(f1_score(y_train_scaled, y_pred_train,average='micro'), 2)\n",
        "  results['f1_test'] = round(f1_score(y_test_scaled, y_pred_test,average='micro'), 2)\n",
        "  print(results['f1_train']) \n",
        "    # Display classification_report\n",
        "  report = classification_report(y_test_scaled, y_pred_test)\n",
        "       \n",
        "    \n",
        "    # Return the results\n",
        "  return results, report \n",
        "\n",
        "    "
      ],
      "execution_count": 310,
      "outputs": []
    },
    {
      "cell_type": "code",
      "metadata": {
        "id": "3FFlem_FOSMl",
        "outputId": "256498b6-ecbe-4931-b4d4-37a0349412bf",
        "colab": {
          "base_uri": "https://localhost:8080/"
        }
      },
      "source": [
        "# Initialize the classifiers\n",
        "clf_KN = KNeighborsClassifier(n_neighbors=6)\n",
        "clf_RF = RandomForestClassifier(max_depth=2, random_state=0)\n",
        "clf_xgb = XGBClassifier(max_depth=6, learning_rate=0.3, n_estimators=25,\n",
        "                    objective='multi:softprob', subsample=0.5, colsample_bytree=0.5, seed=0)\n",
        "clf_list = [clf_KN, clf_RF, clf_xgb]\n",
        "\n",
        "# Compare evaluation of the different classifiers\n",
        "clf_evaluation = {}\n",
        "clf_report = {}\n",
        "\n",
        "for clf in clf_list:\n",
        "  clf_evaluation[clf.__class__.__name__] = train_predict(clf)[0]\n",
        "  clf_report[clf.__class__.__name__] = train_predict(clf)[1]"
      ],
      "execution_count": 311,
      "outputs": [
        {
          "output_type": "stream",
          "text": [
            "KNeighborsClassifier(algorithm='auto', leaf_size=30, metric='minkowski',\n",
            "                     metric_params=None, n_jobs=None, n_neighbors=6, p=2,\n",
            "                     weights='uniform')\n",
            "{'train_time': 3.42}\n",
            "0.7\n",
            "KNeighborsClassifier(algorithm='auto', leaf_size=30, metric='minkowski',\n",
            "                     metric_params=None, n_jobs=None, n_neighbors=6, p=2,\n",
            "                     weights='uniform')\n",
            "{'train_time': 3.66}\n",
            "0.7\n",
            "RandomForestClassifier(bootstrap=True, ccp_alpha=0.0, class_weight=None,\n",
            "                       criterion='gini', max_depth=2, max_features='auto',\n",
            "                       max_leaf_nodes=None, max_samples=None,\n",
            "                       min_impurity_decrease=0.0, min_impurity_split=None,\n",
            "                       min_samples_leaf=1, min_samples_split=2,\n",
            "                       min_weight_fraction_leaf=0.0, n_estimators=100,\n",
            "                       n_jobs=None, oob_score=False, random_state=0, verbose=0,\n",
            "                       warm_start=False)\n",
            "{'train_time': 2.04}\n",
            "0.7\n",
            "RandomForestClassifier(bootstrap=True, ccp_alpha=0.0, class_weight=None,\n",
            "                       criterion='gini', max_depth=2, max_features='auto',\n",
            "                       max_leaf_nodes=None, max_samples=None,\n",
            "                       min_impurity_decrease=0.0, min_impurity_split=None,\n",
            "                       min_samples_leaf=1, min_samples_split=2,\n",
            "                       min_weight_fraction_leaf=0.0, n_estimators=100,\n",
            "                       n_jobs=None, oob_score=False, random_state=0, verbose=0,\n",
            "                       warm_start=False)\n",
            "{'train_time': 2.08}\n",
            "0.7\n",
            "XGBClassifier(base_score=0.5, booster='gbtree', colsample_bylevel=1,\n",
            "              colsample_bynode=1, colsample_bytree=0.5, gamma=0,\n",
            "              learning_rate=0.3, max_delta_step=0, max_depth=6,\n",
            "              min_child_weight=1, missing=None, n_estimators=25, n_jobs=1,\n",
            "              nthread=None, objective='multi:softprob', random_state=0,\n",
            "              reg_alpha=0, reg_lambda=1, scale_pos_weight=1, seed=0,\n",
            "              silent=None, subsample=0.5, verbosity=1)\n",
            "{'train_time': 19.69}\n",
            "0.7\n",
            "XGBClassifier(base_score=0.5, booster='gbtree', colsample_bylevel=1,\n",
            "              colsample_bynode=1, colsample_bytree=0.5, gamma=0,\n",
            "              learning_rate=0.3, max_delta_step=0, max_depth=6,\n",
            "              min_child_weight=1, missing=None, n_estimators=25, n_jobs=1,\n",
            "              nthread=None, objective='multi:softprob', random_state=0,\n",
            "              reg_alpha=0, reg_lambda=1, scale_pos_weight=1, seed=0,\n",
            "              silent=None, subsample=0.5, verbosity=1)\n",
            "{'train_time': 20.8}\n",
            "0.7\n"
          ],
          "name": "stdout"
        }
      ]
    },
    {
      "cell_type": "code",
      "metadata": {
        "id": "Gk4kn42rOWti",
        "outputId": "76961311-e017-475e-ce27-13dfded1774f",
        "colab": {
          "base_uri": "https://localhost:8080/"
        }
      },
      "source": [
        "clf_evaluation"
      ],
      "execution_count": 312,
      "outputs": [
        {
          "output_type": "execute_result",
          "data": {
            "text/plain": [
              "{'KNeighborsClassifier': {'acc_test': 0.69,\n",
              "  'acc_train': 0.7,\n",
              "  'f1_test': 0.69,\n",
              "  'f1_train': 0.7,\n",
              "  'pred_time': 65.02,\n",
              "  'train_time': 3.42},\n",
              " 'RandomForestClassifier': {'acc_test': 0.7,\n",
              "  'acc_train': 0.7,\n",
              "  'f1_test': 0.7,\n",
              "  'f1_train': 0.7,\n",
              "  'pred_time': 0.96,\n",
              "  'train_time': 2.04},\n",
              " 'XGBClassifier': {'acc_test': 0.7,\n",
              "  'acc_train': 0.7,\n",
              "  'f1_test': 0.7,\n",
              "  'f1_train': 0.7,\n",
              "  'pred_time': 1.44,\n",
              "  'train_time': 19.69}}"
            ]
          },
          "metadata": {
            "tags": []
          },
          "execution_count": 312
        }
      ]
    },
    {
      "cell_type": "code",
      "metadata": {
        "id": "mYxoPKapcun2",
        "outputId": "34119721-801a-4dbc-b6a9-cc346748f3ab",
        "colab": {
          "base_uri": "https://localhost:8080/"
        }
      },
      "source": [
        "print(clf_report['KNeighborsClassifier'])"
      ],
      "execution_count": 314,
      "outputs": [
        {
          "output_type": "stream",
          "text": [
            "              precision    recall  f1-score   support\n",
            "\n",
            "           1       0.70      0.98      0.82     12448\n",
            "           2       0.15      0.01      0.03      2000\n",
            "           3       0.11      0.01      0.02      1016\n",
            "           4       0.00      0.00      0.00       275\n",
            "           5       0.00      0.00      0.00       455\n",
            "           6       0.00      0.00      0.00       459\n",
            "           7       0.00      0.00      0.00       591\n",
            "           8       0.00      0.00      0.00        49\n",
            "           9       0.00      0.00      0.00       168\n",
            "          10       0.00      0.00      0.00       206\n",
            "          11       0.00      0.00      0.00       115\n",
            "\n",
            "    accuracy                           0.69     17782\n",
            "   macro avg       0.09      0.09      0.08     17782\n",
            "weighted avg       0.51      0.69      0.58     17782\n",
            "\n"
          ],
          "name": "stdout"
        }
      ]
    },
    {
      "cell_type": "code",
      "metadata": {
        "id": "hB8omJ8Sc4Vx",
        "outputId": "536ae5fb-1404-4ab7-9ece-3fce1940eaf3",
        "colab": {
          "base_uri": "https://localhost:8080/"
        }
      },
      "source": [
        "print(clf_report['RandomForestClassifier'])"
      ],
      "execution_count": 315,
      "outputs": [
        {
          "output_type": "stream",
          "text": [
            "              precision    recall  f1-score   support\n",
            "\n",
            "           1       0.70      1.00      0.82     12448\n",
            "           2       0.00      0.00      0.00      2000\n",
            "           3       0.00      0.00      0.00      1016\n",
            "           4       0.00      0.00      0.00       275\n",
            "           5       0.00      0.00      0.00       455\n",
            "           6       0.00      0.00      0.00       459\n",
            "           7       0.00      0.00      0.00       591\n",
            "           8       0.00      0.00      0.00        49\n",
            "           9       0.00      0.00      0.00       168\n",
            "          10       0.00      0.00      0.00       206\n",
            "          11       0.00      0.00      0.00       115\n",
            "\n",
            "    accuracy                           0.70     17782\n",
            "   macro avg       0.06      0.09      0.07     17782\n",
            "weighted avg       0.49      0.70      0.58     17782\n",
            "\n"
          ],
          "name": "stdout"
        }
      ]
    },
    {
      "cell_type": "code",
      "metadata": {
        "id": "RWhIypsmc7Sp",
        "outputId": "73eabac7-5df2-465f-efa5-9f35daf3d7ac",
        "colab": {
          "base_uri": "https://localhost:8080/"
        }
      },
      "source": [
        "print(clf_report['XGBClassifier'])"
      ],
      "execution_count": 316,
      "outputs": [
        {
          "output_type": "stream",
          "text": [
            "              precision    recall  f1-score   support\n",
            "\n",
            "           1       0.70      1.00      0.82     12448\n",
            "           2       0.14      0.00      0.00      2000\n",
            "           3       0.00      0.00      0.00      1016\n",
            "           4       0.00      0.00      0.00       275\n",
            "           5       0.00      0.00      0.00       455\n",
            "           6       0.00      0.00      0.00       459\n",
            "           7       0.50      0.00      0.00       591\n",
            "           8       0.00      0.00      0.00        49\n",
            "           9       0.00      0.00      0.00       168\n",
            "          10       0.00      0.00      0.00       206\n",
            "          11       0.00      0.00      0.00       115\n",
            "\n",
            "    accuracy                           0.70     17782\n",
            "   macro avg       0.12      0.09      0.08     17782\n",
            "weighted avg       0.52      0.70      0.58     17782\n",
            "\n"
          ],
          "name": "stdout"
        }
      ]
    },
    {
      "cell_type": "code",
      "metadata": {
        "id": "7IWkN_mqdDOm"
      },
      "source": [
        "legend = []\n",
        "for i in range(len(clf_list)):\n",
        "    legend.append(clf_list[i].__class__.__name__)"
      ],
      "execution_count": 317,
      "outputs": []
    },
    {
      "cell_type": "code",
      "metadata": {
        "id": "6w4D7rVwdJai"
      },
      "source": [
        "def eval_plot(labels, y_label, title):\n",
        "\n",
        "    clf1 = [clf_evaluation[legend[0]][labels[0]], clf_evaluation[legend[0]][labels[1]]]\n",
        "    clf2 = [clf_evaluation[legend[1]][labels[0]], clf_evaluation[legend[1]][labels[1]]]\n",
        "    clf3 = [clf_evaluation[legend[2]][labels[0]], clf_evaluation[legend[2]][labels[1]]]\n",
        "\n",
        "    x = np.arange(len(labels))  # the label locations\n",
        "    width = 0.2  # the width of the bars\n",
        "\n",
        "    fig, ax = plt.subplots()\n",
        "    ax.bar(x - width/2, clf1, width, label=legend[0])\n",
        "    ax.bar(x + width/2, clf2, width, label=legend[1])\n",
        "    ax.bar(x + width*3/2, clf3, width, label=legend[2])\n",
        "\n",
        "    # Add labels, title, and legend\n",
        "    ax.set_ylabel(y_label)\n",
        "    ax.set_title(title)\n",
        "    ax.set_xticks(x)\n",
        "    ax.set_xticklabels(labels)\n",
        "    ax.legend(loc='center left', bbox_to_anchor=(1, 0.5))\n",
        "\n",
        "    # Add bars annotation\n",
        "    for i in ax.patches:\n",
        "        # get_x pulls left or right; get_height pushes up or down\n",
        "        ax.text(i.get_x()+(width/2), i.get_height()+0.01,\n",
        "                str(i.get_height()), fontsize=11,\n",
        "                color='black', ha='center')\n",
        "\n",
        "    plt.show()"
      ],
      "execution_count": 318,
      "outputs": []
    },
    {
      "cell_type": "code",
      "metadata": {
        "id": "HJD5CYcidM7D",
        "outputId": "a2a96281-f8db-438a-b6eb-f9b6f1d4aa4d",
        "colab": {
          "base_uri": "https://localhost:8080/",
          "height": 281
        }
      },
      "source": [
        "labels = ['train_time', 'pred_time']\n",
        "y_label = 'Time'\n",
        "title = 'Train/Test Time per Classifier'\n",
        "eval_plot(labels, y_label, title)"
      ],
      "execution_count": 319,
      "outputs": [
        {
          "output_type": "display_data",
          "data": {
            "image/png": "[encoded data removed]",
            "text/plain": [
              "<Figure size 432x288 with 1 Axes>"
            ]
          },
          "metadata": {
            "tags": [],
            "needs_background": "light"
          }
        }
      ]
    },
    {
      "cell_type": "code",
      "metadata": {
        "id": "bsbEY5HfdSUm",
        "outputId": "c70ec729-7920-4330-917a-511a0f6a9d2c",
        "colab": {
          "base_uri": "https://localhost:8080/",
          "height": 281
        }
      },
      "source": [
        "labels = ['f1_train', 'f1_test']\n",
        "y_label = 'F1_Score'\n",
        "title = 'Train/Test F1_Score per Classifier'\n",
        "eval_plot(labels, y_label, title)"
      ],
      "execution_count": 320,
      "outputs": [
        {
          "output_type": "display_data",
          "data": {
            "image/png": "[encoded data removed]",
            "text/plain": [
              "<Figure size 432x288 with 1 Axes>"
            ]
          },
          "metadata": {
            "tags": [],
            "needs_background": "light"
          }
        }
      ]
    },
    {
      "cell_type": "code",
      "metadata": {
        "id": "TGG5jFLtkYG3"
      },
      "source": [
        ""
      ],
      "execution_count": null,
      "outputs": []
    }
  ]
}