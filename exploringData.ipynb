{
  "nbformat": 4,
  "nbformat_minor": 0,
  "metadata": {
    "colab": {
      "name": "exploringData.ipynb",
      "provenance": [],
      "collapsed_sections": [],
      "toc_visible": true
    },
    "kernelspec": {
      "name": "python3",
      "display_name": "Python 3"
    }
  },
  "cells": [
    {
      "cell_type": "code",
      "metadata": {
        "id": "fiCyuciFmS0y"
      },
      "source": [
        "import numpy as np\n",
        "import pandas as pd\n",
        "import matplotlib.pyplot as plt\n",
        "import seaborn as sns\n",
        "import plotly.express as px\n",
        "import plotly.graph_objects as go\n",
        "# Draw inline\n",
        "%matplotlib inline\n",
        "\n",
        "# Set figure aesthetics\n",
        "sns.set_style(\"white\", {'ytick.major.size': 10.0})\n",
        "sns.set_context(\"poster\", font_scale=1.1)"
      ],
      "execution_count": 50,
      "outputs": []
    },
    {
      "cell_type": "code",
      "metadata": {
        "id": "ElqC_UKlW8kd"
      },
      "source": [
        ""
      ],
      "execution_count": 1,
      "outputs": []
    },
    {
      "cell_type": "markdown",
      "metadata": {
        "id": "QlX0WLOiW-rE"
      },
      "source": [
        "# information functions "
      ]
    },
    {
      "cell_type": "code",
      "metadata": {
        "id": "CIJ3C_us1caV"
      },
      "source": [
        "def showInformation(df):\n",
        "  print('\\n shape of data : \\n', df.shape)\n",
        "  print('\\n columns : \\n',df.columns)\n",
        "  print('\\n dataset info : \\n', df.info())\n",
        "  print('\\n dataset datatypes : \\n', df.dtypes)\n",
        "  if df.isnull().values.any():\n",
        "    print('\\n sum of null values : \\n' , df.isnull().sum())\n",
        "  else:\n",
        "    print(\"\\n This dataset has no null values amongst its features.\")\n",
        "\n",
        "def getdataCount(columns,df):\n",
        "  for column in columns:\n",
        "    print('\\n {} : \\n {}'.format(column,df[column].value_counts()))\n",
        "\n",
        "def getUniqueValue(columns,df):\n",
        "  for column in columns:\n",
        "    print('\\n {} : \\n {}'.format(column,df[column].unique()))\n",
        "\n",
        "def checkifUnkown(df):\n",
        "  features = df.columns\n",
        "  for feature in features:\n",
        "    if((df[feature] =='-unknown-').any() ) :\n",
        "      print(feature)\n",
        "\n",
        "\n"
      ],
      "execution_count": 51,
      "outputs": []
    },
    {
      "cell_type": "code",
      "metadata": {
        "id": "jmPSHdnMXGjb"
      },
      "source": [
        ""
      ],
      "execution_count": 2,
      "outputs": []
    },
    {
      "cell_type": "markdown",
      "metadata": {
        "id": "36YjL88zXIE0"
      },
      "source": [
        "# draw functions"
      ]
    },
    {
      "cell_type": "code",
      "metadata": {
        "id": "A3r8xAZxXF2N"
      },
      "source": [
        "def BoxPlot(feature,df):\n",
        "    plt.figure(figsize=(8,6))\n",
        "    plt.boxplot(df[feature], flierprops=dict(markerfacecolor='b', marker='o'), showfliers=True, vert=True)\n",
        "    plt.title(feature+' Box Plot', size=16)\n",
        "    plt.show() \n",
        "\n",
        "def histPlot(feature,df,rang):\n",
        "    plt.hist(df[feature], range=[rang[0], rang[1]])\n",
        "    plt.title(feature)\n",
        "    plt.show()"
      ],
      "execution_count": 3,
      "outputs": []
    },
    {
      "cell_type": "markdown",
      "metadata": {
        "id": "tsS-g6Rf1isw"
      },
      "source": [
        "#Data Exploration\n"
      ]
    },
    {
      "cell_type": "code",
      "metadata": {
        "id": "QB2uFWi31oFU"
      },
      "source": [
        ""
      ],
      "execution_count": 3,
      "outputs": []
    },
    {
      "cell_type": "markdown",
      "metadata": {
        "id": "Rf07CSmGB3kT"
      },
      "source": [
        "# Age dataset"
      ]
    },
    {
      "cell_type": "code",
      "metadata": {
        "id": "sBCaKQI04hsH"
      },
      "source": [
        "df_age_gender = pd.read_csv('/content/drive/My Drive/vodafoneTask/datasets/age_gender_bkts.csv')"
      ],
      "execution_count": 4,
      "outputs": []
    },
    {
      "cell_type": "code",
      "metadata": {
        "id": "M32fn1eVCHav",
        "outputId": "08305271-9021-48ea-ff5c-47243dc94c96",
        "colab": {
          "base_uri": "https://localhost:8080/",
          "height": 197
        }
      },
      "source": [
        "df_age_gender.head()"
      ],
      "execution_count": 5,
      "outputs": [
        {
          "output_type": "execute_result",
          "data": {
            "text/html": [
              "<div>\n",
              "<style scoped>\n",
              "    .dataframe tbody tr th:only-of-type {\n",
              "        vertical-align: middle;\n",
              "    }\n",
              "\n",
              "    .dataframe tbody tr th {\n",
              "        vertical-align: top;\n",
              "    }\n",
              "\n",
              "    .dataframe thead th {\n",
              "        text-align: right;\n",
              "    }\n",
              "</style>\n",
              "<table border=\"1\" class=\"dataframe\">\n",
              "  <thead>\n",
              "    <tr style=\"text-align: right;\">\n",
              "      <th></th>\n",
              "      <th>age_bucket</th>\n",
              "      <th>country_destination</th>\n",
              "      <th>gender</th>\n",
              "      <th>population_in_thousands</th>\n",
              "      <th>year</th>\n",
              "    </tr>\n",
              "  </thead>\n",
              "  <tbody>\n",
              "    <tr>\n",
              "      <th>0</th>\n",
              "      <td>100+</td>\n",
              "      <td>AU</td>\n",
              "      <td>male</td>\n",
              "      <td>1.0</td>\n",
              "      <td>2015.0</td>\n",
              "    </tr>\n",
              "    <tr>\n",
              "      <th>1</th>\n",
              "      <td>95-99</td>\n",
              "      <td>AU</td>\n",
              "      <td>male</td>\n",
              "      <td>9.0</td>\n",
              "      <td>2015.0</td>\n",
              "    </tr>\n",
              "    <tr>\n",
              "      <th>2</th>\n",
              "      <td>90-94</td>\n",
              "      <td>AU</td>\n",
              "      <td>male</td>\n",
              "      <td>47.0</td>\n",
              "      <td>2015.0</td>\n",
              "    </tr>\n",
              "    <tr>\n",
              "      <th>3</th>\n",
              "      <td>85-89</td>\n",
              "      <td>AU</td>\n",
              "      <td>male</td>\n",
              "      <td>118.0</td>\n",
              "      <td>2015.0</td>\n",
              "    </tr>\n",
              "    <tr>\n",
              "      <th>4</th>\n",
              "      <td>80-84</td>\n",
              "      <td>AU</td>\n",
              "      <td>male</td>\n",
              "      <td>199.0</td>\n",
              "      <td>2015.0</td>\n",
              "    </tr>\n",
              "  </tbody>\n",
              "</table>\n",
              "</div>"
            ],
            "text/plain": [
              "  age_bucket country_destination gender  population_in_thousands    year\n",
              "0       100+                  AU   male                      1.0  2015.0\n",
              "1      95-99                  AU   male                      9.0  2015.0\n",
              "2      90-94                  AU   male                     47.0  2015.0\n",
              "3      85-89                  AU   male                    118.0  2015.0\n",
              "4      80-84                  AU   male                    199.0  2015.0"
            ]
          },
          "metadata": {
            "tags": []
          },
          "execution_count": 5
        }
      ]
    },
    {
      "cell_type": "code",
      "metadata": {
        "id": "dgZTVKc6CWd1",
        "outputId": "bdef023e-74db-4827-a6dd-c2dacce02734",
        "colab": {
          "base_uri": "https://localhost:8080/"
        }
      },
      "source": [
        "showInformation(df_age_gender)"
      ],
      "execution_count": 6,
      "outputs": [
        {
          "output_type": "stream",
          "text": [
            "\n",
            " shape of data : \n",
            " (420, 5)\n",
            "\n",
            " columns : \n",
            " Index(['age_bucket', 'country_destination', 'gender',\n",
            "       'population_in_thousands', 'year'],\n",
            "      dtype='object')\n",
            "<class 'pandas.core.frame.DataFrame'>\n",
            "RangeIndex: 420 entries, 0 to 419\n",
            "Data columns (total 5 columns):\n",
            " #   Column                   Non-Null Count  Dtype  \n",
            "---  ------                   --------------  -----  \n",
            " 0   age_bucket               420 non-null    object \n",
            " 1   country_destination      420 non-null    object \n",
            " 2   gender                   420 non-null    object \n",
            " 3   population_in_thousands  420 non-null    float64\n",
            " 4   year                     420 non-null    float64\n",
            "dtypes: float64(2), object(3)\n",
            "memory usage: 16.5+ KB\n",
            "\n",
            " dataset info : \n",
            " None\n",
            "\n",
            " dataset datatypes : \n",
            " age_bucket                  object\n",
            "country_destination         object\n",
            "gender                      object\n",
            "population_in_thousands    float64\n",
            "year                       float64\n",
            "dtype: object\n",
            "\n",
            " This dataset has no null values amongst its features.\n"
          ],
          "name": "stdout"
        }
      ]
    },
    {
      "cell_type": "code",
      "metadata": {
        "id": "ZZzt1wMEDpfX"
      },
      "source": [
        ""
      ],
      "execution_count": 6,
      "outputs": []
    },
    {
      "cell_type": "markdown",
      "metadata": {
        "id": "iKmzDu-CGaxH"
      },
      "source": [
        "**convert the age bucket column to numerical by Get the mean age for the age bucket range **\n",
        "\n"
      ]
    },
    {
      "cell_type": "code",
      "metadata": {
        "id": "lyVkLSPcHNaw",
        "outputId": "f8d5b037-7c67-489e-fd45-80d7f47412ed",
        "colab": {
          "base_uri": "https://localhost:8080/",
          "height": 405
        }
      },
      "source": [
        "df_age_gender['age_bucket'] = df_age_gender['age_bucket'].apply(lambda x: '100-104' if x == '100+' else x)\n",
        "#get mean age \n",
        "df_age_gender['mean_age'] = df_age_gender['age_bucket'].apply(lambda x: (int(x.split('-')[0]) + int(x.split('-')[1]))/2 )\n",
        "df_age_gender"
      ],
      "execution_count": 7,
      "outputs": [
        {
          "output_type": "execute_result",
          "data": {
            "text/html": [
              "<div>\n",
              "<style scoped>\n",
              "    .dataframe tbody tr th:only-of-type {\n",
              "        vertical-align: middle;\n",
              "    }\n",
              "\n",
              "    .dataframe tbody tr th {\n",
              "        vertical-align: top;\n",
              "    }\n",
              "\n",
              "    .dataframe thead th {\n",
              "        text-align: right;\n",
              "    }\n",
              "</style>\n",
              "<table border=\"1\" class=\"dataframe\">\n",
              "  <thead>\n",
              "    <tr style=\"text-align: right;\">\n",
              "      <th></th>\n",
              "      <th>age_bucket</th>\n",
              "      <th>country_destination</th>\n",
              "      <th>gender</th>\n",
              "      <th>population_in_thousands</th>\n",
              "      <th>year</th>\n",
              "      <th>mean_age</th>\n",
              "    </tr>\n",
              "  </thead>\n",
              "  <tbody>\n",
              "    <tr>\n",
              "      <th>0</th>\n",
              "      <td>100-104</td>\n",
              "      <td>AU</td>\n",
              "      <td>male</td>\n",
              "      <td>1.0</td>\n",
              "      <td>2015.0</td>\n",
              "      <td>102.0</td>\n",
              "    </tr>\n",
              "    <tr>\n",
              "      <th>1</th>\n",
              "      <td>95-99</td>\n",
              "      <td>AU</td>\n",
              "      <td>male</td>\n",
              "      <td>9.0</td>\n",
              "      <td>2015.0</td>\n",
              "      <td>97.0</td>\n",
              "    </tr>\n",
              "    <tr>\n",
              "      <th>2</th>\n",
              "      <td>90-94</td>\n",
              "      <td>AU</td>\n",
              "      <td>male</td>\n",
              "      <td>47.0</td>\n",
              "      <td>2015.0</td>\n",
              "      <td>92.0</td>\n",
              "    </tr>\n",
              "    <tr>\n",
              "      <th>3</th>\n",
              "      <td>85-89</td>\n",
              "      <td>AU</td>\n",
              "      <td>male</td>\n",
              "      <td>118.0</td>\n",
              "      <td>2015.0</td>\n",
              "      <td>87.0</td>\n",
              "    </tr>\n",
              "    <tr>\n",
              "      <th>4</th>\n",
              "      <td>80-84</td>\n",
              "      <td>AU</td>\n",
              "      <td>male</td>\n",
              "      <td>199.0</td>\n",
              "      <td>2015.0</td>\n",
              "      <td>82.0</td>\n",
              "    </tr>\n",
              "    <tr>\n",
              "      <th>...</th>\n",
              "      <td>...</td>\n",
              "      <td>...</td>\n",
              "      <td>...</td>\n",
              "      <td>...</td>\n",
              "      <td>...</td>\n",
              "      <td>...</td>\n",
              "    </tr>\n",
              "    <tr>\n",
              "      <th>415</th>\n",
              "      <td>95-99</td>\n",
              "      <td>US</td>\n",
              "      <td>male</td>\n",
              "      <td>115.0</td>\n",
              "      <td>2015.0</td>\n",
              "      <td>97.0</td>\n",
              "    </tr>\n",
              "    <tr>\n",
              "      <th>416</th>\n",
              "      <td>90-94</td>\n",
              "      <td>US</td>\n",
              "      <td>male</td>\n",
              "      <td>541.0</td>\n",
              "      <td>2015.0</td>\n",
              "      <td>92.0</td>\n",
              "    </tr>\n",
              "    <tr>\n",
              "      <th>417</th>\n",
              "      <td>15-19</td>\n",
              "      <td>US</td>\n",
              "      <td>female</td>\n",
              "      <td>10570.0</td>\n",
              "      <td>2015.0</td>\n",
              "      <td>17.0</td>\n",
              "    </tr>\n",
              "    <tr>\n",
              "      <th>418</th>\n",
              "      <td>85-89</td>\n",
              "      <td>US</td>\n",
              "      <td>male</td>\n",
              "      <td>1441.0</td>\n",
              "      <td>2015.0</td>\n",
              "      <td>87.0</td>\n",
              "    </tr>\n",
              "    <tr>\n",
              "      <th>419</th>\n",
              "      <td>80-84</td>\n",
              "      <td>US</td>\n",
              "      <td>male</td>\n",
              "      <td>2442.0</td>\n",
              "      <td>2015.0</td>\n",
              "      <td>82.0</td>\n",
              "    </tr>\n",
              "  </tbody>\n",
              "</table>\n",
              "<p>420 rows × 6 columns</p>\n",
              "</div>"
            ],
            "text/plain": [
              "    age_bucket country_destination  ...    year  mean_age\n",
              "0      100-104                  AU  ...  2015.0     102.0\n",
              "1        95-99                  AU  ...  2015.0      97.0\n",
              "2        90-94                  AU  ...  2015.0      92.0\n",
              "3        85-89                  AU  ...  2015.0      87.0\n",
              "4        80-84                  AU  ...  2015.0      82.0\n",
              "..         ...                 ...  ...     ...       ...\n",
              "415      95-99                  US  ...  2015.0      97.0\n",
              "416      90-94                  US  ...  2015.0      92.0\n",
              "417      15-19                  US  ...  2015.0      17.0\n",
              "418      85-89                  US  ...  2015.0      87.0\n",
              "419      80-84                  US  ...  2015.0      82.0\n",
              "\n",
              "[420 rows x 6 columns]"
            ]
          },
          "metadata": {
            "tags": []
          },
          "execution_count": 7
        }
      ]
    },
    {
      "cell_type": "code",
      "metadata": {
        "id": "fGmtXzvZHkl4",
        "outputId": "a05c59d5-5557-4cb6-d0e1-dd4c21eea293",
        "colab": {
          "base_uri": "https://localhost:8080/",
          "height": 405
        }
      },
      "source": [
        "df_age_gender=df_age_gender.drop('age_bucket', axis=1)\n",
        "df_age_gender"
      ],
      "execution_count": 8,
      "outputs": [
        {
          "output_type": "execute_result",
          "data": {
            "text/html": [
              "<div>\n",
              "<style scoped>\n",
              "    .dataframe tbody tr th:only-of-type {\n",
              "        vertical-align: middle;\n",
              "    }\n",
              "\n",
              "    .dataframe tbody tr th {\n",
              "        vertical-align: top;\n",
              "    }\n",
              "\n",
              "    .dataframe thead th {\n",
              "        text-align: right;\n",
              "    }\n",
              "</style>\n",
              "<table border=\"1\" class=\"dataframe\">\n",
              "  <thead>\n",
              "    <tr style=\"text-align: right;\">\n",
              "      <th></th>\n",
              "      <th>country_destination</th>\n",
              "      <th>gender</th>\n",
              "      <th>population_in_thousands</th>\n",
              "      <th>year</th>\n",
              "      <th>mean_age</th>\n",
              "    </tr>\n",
              "  </thead>\n",
              "  <tbody>\n",
              "    <tr>\n",
              "      <th>0</th>\n",
              "      <td>AU</td>\n",
              "      <td>male</td>\n",
              "      <td>1.0</td>\n",
              "      <td>2015.0</td>\n",
              "      <td>102.0</td>\n",
              "    </tr>\n",
              "    <tr>\n",
              "      <th>1</th>\n",
              "      <td>AU</td>\n",
              "      <td>male</td>\n",
              "      <td>9.0</td>\n",
              "      <td>2015.0</td>\n",
              "      <td>97.0</td>\n",
              "    </tr>\n",
              "    <tr>\n",
              "      <th>2</th>\n",
              "      <td>AU</td>\n",
              "      <td>male</td>\n",
              "      <td>47.0</td>\n",
              "      <td>2015.0</td>\n",
              "      <td>92.0</td>\n",
              "    </tr>\n",
              "    <tr>\n",
              "      <th>3</th>\n",
              "      <td>AU</td>\n",
              "      <td>male</td>\n",
              "      <td>118.0</td>\n",
              "      <td>2015.0</td>\n",
              "      <td>87.0</td>\n",
              "    </tr>\n",
              "    <tr>\n",
              "      <th>4</th>\n",
              "      <td>AU</td>\n",
              "      <td>male</td>\n",
              "      <td>199.0</td>\n",
              "      <td>2015.0</td>\n",
              "      <td>82.0</td>\n",
              "    </tr>\n",
              "    <tr>\n",
              "      <th>...</th>\n",
              "      <td>...</td>\n",
              "      <td>...</td>\n",
              "      <td>...</td>\n",
              "      <td>...</td>\n",
              "      <td>...</td>\n",
              "    </tr>\n",
              "    <tr>\n",
              "      <th>415</th>\n",
              "      <td>US</td>\n",
              "      <td>male</td>\n",
              "      <td>115.0</td>\n",
              "      <td>2015.0</td>\n",
              "      <td>97.0</td>\n",
              "    </tr>\n",
              "    <tr>\n",
              "      <th>416</th>\n",
              "      <td>US</td>\n",
              "      <td>male</td>\n",
              "      <td>541.0</td>\n",
              "      <td>2015.0</td>\n",
              "      <td>92.0</td>\n",
              "    </tr>\n",
              "    <tr>\n",
              "      <th>417</th>\n",
              "      <td>US</td>\n",
              "      <td>female</td>\n",
              "      <td>10570.0</td>\n",
              "      <td>2015.0</td>\n",
              "      <td>17.0</td>\n",
              "    </tr>\n",
              "    <tr>\n",
              "      <th>418</th>\n",
              "      <td>US</td>\n",
              "      <td>male</td>\n",
              "      <td>1441.0</td>\n",
              "      <td>2015.0</td>\n",
              "      <td>87.0</td>\n",
              "    </tr>\n",
              "    <tr>\n",
              "      <th>419</th>\n",
              "      <td>US</td>\n",
              "      <td>male</td>\n",
              "      <td>2442.0</td>\n",
              "      <td>2015.0</td>\n",
              "      <td>82.0</td>\n",
              "    </tr>\n",
              "  </tbody>\n",
              "</table>\n",
              "<p>420 rows × 5 columns</p>\n",
              "</div>"
            ],
            "text/plain": [
              "    country_destination  gender  population_in_thousands    year  mean_age\n",
              "0                    AU    male                      1.0  2015.0     102.0\n",
              "1                    AU    male                      9.0  2015.0      97.0\n",
              "2                    AU    male                     47.0  2015.0      92.0\n",
              "3                    AU    male                    118.0  2015.0      87.0\n",
              "4                    AU    male                    199.0  2015.0      82.0\n",
              "..                  ...     ...                      ...     ...       ...\n",
              "415                  US    male                    115.0  2015.0      97.0\n",
              "416                  US    male                    541.0  2015.0      92.0\n",
              "417                  US  female                  10570.0  2015.0      17.0\n",
              "418                  US    male                   1441.0  2015.0      87.0\n",
              "419                  US    male                   2442.0  2015.0      82.0\n",
              "\n",
              "[420 rows x 5 columns]"
            ]
          },
          "metadata": {
            "tags": []
          },
          "execution_count": 8
        }
      ]
    },
    {
      "cell_type": "code",
      "metadata": {
        "id": "FDdM2dotNQ8f",
        "outputId": "1e7e0e43-3530-4df3-ceba-a4b150fa4a66",
        "colab": {
          "base_uri": "https://localhost:8080/"
        }
      },
      "source": [
        "getdataCount(['country_destination','year','gender'],df_age_gender)"
      ],
      "execution_count": 9,
      "outputs": [
        {
          "output_type": "stream",
          "text": [
            "\n",
            " country_destination : \n",
            " NL    42\n",
            "PT    42\n",
            "ES    42\n",
            "AU    42\n",
            "IT    42\n",
            "GB    42\n",
            "FR    42\n",
            "US    42\n",
            "CA    42\n",
            "DE    42\n",
            "Name: country_destination, dtype: int64\n",
            "\n",
            " year : \n",
            " 2015.0    420\n",
            "Name: year, dtype: int64\n",
            "\n",
            " gender : \n",
            " female    210\n",
            "male      210\n",
            "Name: gender, dtype: int64\n"
          ],
          "name": "stdout"
        }
      ]
    },
    {
      "cell_type": "code",
      "metadata": {
        "id": "dCzcnAfdN2ke"
      },
      "source": [
        ""
      ],
      "execution_count": 9,
      "outputs": []
    },
    {
      "cell_type": "markdown",
      "metadata": {
        "id": "sFL0hq37OZ-O"
      },
      "source": [
        "```\n",
        "# There is only value available for the year feature , it doesn't add any \n",
        "information  so we can drop it\n",
        "```\n",
        "\n"
      ]
    },
    {
      "cell_type": "code",
      "metadata": {
        "id": "YifUUPtpO6g0",
        "outputId": "f7805217-4453-4739-b3ac-124e6e17c9b7",
        "colab": {
          "base_uri": "https://localhost:8080/",
          "height": 405
        }
      },
      "source": [
        "df_age_gender=df_age_gender.drop('year', axis=1)\n",
        "df_age_gender"
      ],
      "execution_count": 10,
      "outputs": [
        {
          "output_type": "execute_result",
          "data": {
            "text/html": [
              "<div>\n",
              "<style scoped>\n",
              "    .dataframe tbody tr th:only-of-type {\n",
              "        vertical-align: middle;\n",
              "    }\n",
              "\n",
              "    .dataframe tbody tr th {\n",
              "        vertical-align: top;\n",
              "    }\n",
              "\n",
              "    .dataframe thead th {\n",
              "        text-align: right;\n",
              "    }\n",
              "</style>\n",
              "<table border=\"1\" class=\"dataframe\">\n",
              "  <thead>\n",
              "    <tr style=\"text-align: right;\">\n",
              "      <th></th>\n",
              "      <th>country_destination</th>\n",
              "      <th>gender</th>\n",
              "      <th>population_in_thousands</th>\n",
              "      <th>mean_age</th>\n",
              "    </tr>\n",
              "  </thead>\n",
              "  <tbody>\n",
              "    <tr>\n",
              "      <th>0</th>\n",
              "      <td>AU</td>\n",
              "      <td>male</td>\n",
              "      <td>1.0</td>\n",
              "      <td>102.0</td>\n",
              "    </tr>\n",
              "    <tr>\n",
              "      <th>1</th>\n",
              "      <td>AU</td>\n",
              "      <td>male</td>\n",
              "      <td>9.0</td>\n",
              "      <td>97.0</td>\n",
              "    </tr>\n",
              "    <tr>\n",
              "      <th>2</th>\n",
              "      <td>AU</td>\n",
              "      <td>male</td>\n",
              "      <td>47.0</td>\n",
              "      <td>92.0</td>\n",
              "    </tr>\n",
              "    <tr>\n",
              "      <th>3</th>\n",
              "      <td>AU</td>\n",
              "      <td>male</td>\n",
              "      <td>118.0</td>\n",
              "      <td>87.0</td>\n",
              "    </tr>\n",
              "    <tr>\n",
              "      <th>4</th>\n",
              "      <td>AU</td>\n",
              "      <td>male</td>\n",
              "      <td>199.0</td>\n",
              "      <td>82.0</td>\n",
              "    </tr>\n",
              "    <tr>\n",
              "      <th>...</th>\n",
              "      <td>...</td>\n",
              "      <td>...</td>\n",
              "      <td>...</td>\n",
              "      <td>...</td>\n",
              "    </tr>\n",
              "    <tr>\n",
              "      <th>415</th>\n",
              "      <td>US</td>\n",
              "      <td>male</td>\n",
              "      <td>115.0</td>\n",
              "      <td>97.0</td>\n",
              "    </tr>\n",
              "    <tr>\n",
              "      <th>416</th>\n",
              "      <td>US</td>\n",
              "      <td>male</td>\n",
              "      <td>541.0</td>\n",
              "      <td>92.0</td>\n",
              "    </tr>\n",
              "    <tr>\n",
              "      <th>417</th>\n",
              "      <td>US</td>\n",
              "      <td>female</td>\n",
              "      <td>10570.0</td>\n",
              "      <td>17.0</td>\n",
              "    </tr>\n",
              "    <tr>\n",
              "      <th>418</th>\n",
              "      <td>US</td>\n",
              "      <td>male</td>\n",
              "      <td>1441.0</td>\n",
              "      <td>87.0</td>\n",
              "    </tr>\n",
              "    <tr>\n",
              "      <th>419</th>\n",
              "      <td>US</td>\n",
              "      <td>male</td>\n",
              "      <td>2442.0</td>\n",
              "      <td>82.0</td>\n",
              "    </tr>\n",
              "  </tbody>\n",
              "</table>\n",
              "<p>420 rows × 4 columns</p>\n",
              "</div>"
            ],
            "text/plain": [
              "    country_destination  gender  population_in_thousands  mean_age\n",
              "0                    AU    male                      1.0     102.0\n",
              "1                    AU    male                      9.0      97.0\n",
              "2                    AU    male                     47.0      92.0\n",
              "3                    AU    male                    118.0      87.0\n",
              "4                    AU    male                    199.0      82.0\n",
              "..                  ...     ...                      ...       ...\n",
              "415                  US    male                    115.0      97.0\n",
              "416                  US    male                    541.0      92.0\n",
              "417                  US  female                  10570.0      17.0\n",
              "418                  US    male                   1441.0      87.0\n",
              "419                  US    male                   2442.0      82.0\n",
              "\n",
              "[420 rows x 4 columns]"
            ]
          },
          "metadata": {
            "tags": []
          },
          "execution_count": 10
        }
      ]
    },
    {
      "cell_type": "code",
      "metadata": {
        "id": "ABuO8Qg5PM0u"
      },
      "source": [
        "df_age_gender.to_csv(\"/content/drive/My Drive/vodafoneTask/datasets/dataset-modified/age-gender-population.csv\", index=False)"
      ],
      "execution_count": 11,
      "outputs": []
    },
    {
      "cell_type": "code",
      "metadata": {
        "id": "O5x16tkiP6id"
      },
      "source": [
        ""
      ],
      "execution_count": 11,
      "outputs": []
    },
    {
      "cell_type": "markdown",
      "metadata": {
        "id": "cU47DDi9RieA"
      },
      "source": [
        "# Sessions dataset"
      ]
    },
    {
      "cell_type": "code",
      "metadata": {
        "id": "GtLxvygPTTgd",
        "outputId": "902e9818-d5b7-4f54-e531-22b2f72a175d",
        "colab": {
          "base_uri": "https://localhost:8080/",
          "height": 197
        }
      },
      "source": [
        "df_sessions = pd.read_csv(\"/content/drive/My Drive/vodafoneTask/datasets/sessions.csv\")\n",
        "df_sessions.head()"
      ],
      "execution_count": 12,
      "outputs": [
        {
          "output_type": "execute_result",
          "data": {
            "text/html": [
              "<div>\n",
              "<style scoped>\n",
              "    .dataframe tbody tr th:only-of-type {\n",
              "        vertical-align: middle;\n",
              "    }\n",
              "\n",
              "    .dataframe tbody tr th {\n",
              "        vertical-align: top;\n",
              "    }\n",
              "\n",
              "    .dataframe thead th {\n",
              "        text-align: right;\n",
              "    }\n",
              "</style>\n",
              "<table border=\"1\" class=\"dataframe\">\n",
              "  <thead>\n",
              "    <tr style=\"text-align: right;\">\n",
              "      <th></th>\n",
              "      <th>user_id</th>\n",
              "      <th>action</th>\n",
              "      <th>action_type</th>\n",
              "      <th>action_detail</th>\n",
              "      <th>device_type</th>\n",
              "      <th>secs_elapsed</th>\n",
              "    </tr>\n",
              "  </thead>\n",
              "  <tbody>\n",
              "    <tr>\n",
              "      <th>0</th>\n",
              "      <td>d1mm9tcy42</td>\n",
              "      <td>lookup</td>\n",
              "      <td>NaN</td>\n",
              "      <td>NaN</td>\n",
              "      <td>Windows Desktop</td>\n",
              "      <td>319.0</td>\n",
              "    </tr>\n",
              "    <tr>\n",
              "      <th>1</th>\n",
              "      <td>d1mm9tcy42</td>\n",
              "      <td>search_results</td>\n",
              "      <td>click</td>\n",
              "      <td>view_search_results</td>\n",
              "      <td>Windows Desktop</td>\n",
              "      <td>67753.0</td>\n",
              "    </tr>\n",
              "    <tr>\n",
              "      <th>2</th>\n",
              "      <td>d1mm9tcy42</td>\n",
              "      <td>lookup</td>\n",
              "      <td>NaN</td>\n",
              "      <td>NaN</td>\n",
              "      <td>Windows Desktop</td>\n",
              "      <td>301.0</td>\n",
              "    </tr>\n",
              "    <tr>\n",
              "      <th>3</th>\n",
              "      <td>d1mm9tcy42</td>\n",
              "      <td>search_results</td>\n",
              "      <td>click</td>\n",
              "      <td>view_search_results</td>\n",
              "      <td>Windows Desktop</td>\n",
              "      <td>22141.0</td>\n",
              "    </tr>\n",
              "    <tr>\n",
              "      <th>4</th>\n",
              "      <td>d1mm9tcy42</td>\n",
              "      <td>lookup</td>\n",
              "      <td>NaN</td>\n",
              "      <td>NaN</td>\n",
              "      <td>Windows Desktop</td>\n",
              "      <td>435.0</td>\n",
              "    </tr>\n",
              "  </tbody>\n",
              "</table>\n",
              "</div>"
            ],
            "text/plain": [
              "      user_id          action  ...      device_type secs_elapsed\n",
              "0  d1mm9tcy42          lookup  ...  Windows Desktop        319.0\n",
              "1  d1mm9tcy42  search_results  ...  Windows Desktop      67753.0\n",
              "2  d1mm9tcy42          lookup  ...  Windows Desktop        301.0\n",
              "3  d1mm9tcy42  search_results  ...  Windows Desktop      22141.0\n",
              "4  d1mm9tcy42          lookup  ...  Windows Desktop        435.0\n",
              "\n",
              "[5 rows x 6 columns]"
            ]
          },
          "metadata": {
            "tags": []
          },
          "execution_count": 12
        }
      ]
    },
    {
      "cell_type": "code",
      "metadata": {
        "id": "fIwZ3dKhTeQY",
        "outputId": "91afc417-3c42-42a8-852d-9413275e89c7",
        "colab": {
          "base_uri": "https://localhost:8080/"
        }
      },
      "source": [
        "showInformation(df_sessions)"
      ],
      "execution_count": 13,
      "outputs": [
        {
          "output_type": "stream",
          "text": [
            "\n",
            " shape of data : \n",
            " (10567737, 6)\n",
            "\n",
            " columns : \n",
            " Index(['user_id', 'action', 'action_type', 'action_detail', 'device_type',\n",
            "       'secs_elapsed'],\n",
            "      dtype='object')\n",
            "<class 'pandas.core.frame.DataFrame'>\n",
            "RangeIndex: 10567737 entries, 0 to 10567736\n",
            "Data columns (total 6 columns):\n",
            " #   Column         Dtype  \n",
            "---  ------         -----  \n",
            " 0   user_id        object \n",
            " 1   action         object \n",
            " 2   action_type    object \n",
            " 3   action_detail  object \n",
            " 4   device_type    object \n",
            " 5   secs_elapsed   float64\n",
            "dtypes: float64(1), object(5)\n",
            "memory usage: 483.8+ MB\n",
            "\n",
            " dataset info : \n",
            " None\n",
            "\n",
            " dataset datatypes : \n",
            " user_id           object\n",
            "action            object\n",
            "action_type       object\n",
            "action_detail     object\n",
            "device_type       object\n",
            "secs_elapsed     float64\n",
            "dtype: object\n",
            "\n",
            " sum of null values : \n",
            " user_id            34496\n",
            "action             79626\n",
            "action_type      1126204\n",
            "action_detail    1126204\n",
            "device_type            0\n",
            "secs_elapsed      136031\n",
            "dtype: int64\n"
          ],
          "name": "stdout"
        }
      ]
    },
    {
      "cell_type": "code",
      "metadata": {
        "id": "ur3f0t_ZTzOP",
        "outputId": "49556631-dc5a-435c-a1c3-aed4cd51fea7",
        "colab": {
          "base_uri": "https://localhost:8080/"
        }
      },
      "source": [
        "getUniqueValue(df_sessions.columns,df_sessions)"
      ],
      "execution_count": 14,
      "outputs": [
        {
          "output_type": "stream",
          "text": [
            "\n",
            " user_id : \n",
            " ['d1mm9tcy42' 'yo8nz8bqcq' '4grx6yxeby' ... 'fa6260ziny' '87k0fy4ugm'\n",
            " '9uqfg8txu3']\n",
            "\n",
            " action : \n",
            " ['lookup' 'search_results' 'personalize' 'index' 'similar_listings'\n",
            " 'ajax_refresh_subtotal' 'show' 'header_userpic' 'ask_question' nan\n",
            " 'other_hosting_reviews_first' 'hosting_social_proof' 'decision_tree'\n",
            " 'recent_reservations' 'faq_experiment_ids' 'multi' 'active' 'dashboard'\n",
            " 'create' 'confirm_email' 'show_personalize' 'verify' 'pending'\n",
            " 'requested' 'concierge' 'faq' 'clear_reservation' 'cancellation_policies'\n",
            " 'track_page_view' 'update' 'my' 'campaigns' 'notifications' 'listings'\n",
            " 'unavailabilities' 'ajax_lwlb_contact' 'ajax_check_dates' 'qt2'\n",
            " 'request_new_confirm_email' 'ajax_photo_widget_form_iframe'\n",
            " 'facebook_auto_login' 'identity' 'qt_reply_v2' 'travel_plans_current'\n",
            " 'complete_status' 'populate_from_facebook' 'kba_update' 'kba' 'login'\n",
            " 'authenticate' 'calendar_tab_inner2' 'other_hosting_reviews'\n",
            " 'social_connections' 'relationship' '15' 'collections' '12'\n",
            " 'jumio_redirect' 'jumio_token' 'login_modal' 'domains'\n",
            " 'toggle_archived_thread' 'search' 'edit_verification' 'edit' 'ajax_ldp'\n",
            " 'connect' 'account' 'delete' 'phone_number_widget' 'callback'\n",
            " 'signup_modal' '10' 'open_graph_setting' 'reviews' 'signup_login'\n",
            " 'payment_instruments' 'payment_methods' 'pay' 'unread' 'at_checkpoint'\n",
            " 'push_notification_callback' 'faq_category' 'localization_settings'\n",
            " 'update_notifications' 'manage_listing' 'set_user' 'references'\n",
            " 'languages_multiselect' 'salute' 'rentals' 'currencies' 'new' 'position'\n",
            " 'populate_help_dropdown' 'popular' 'popular_listing' 'listing'\n",
            " 'available' 'glob' 'this_hosting_reviews' 'widget' 'complete'\n",
            " 'profile_pic' 'signature' 'apply_reservation' 'ajax_statsd' 'travel'\n",
            " 'tos_confirm' 'uptodate' 'ajax_payout_options_by_country'\n",
            " 'payout_preferences' 'payout_update' 'ajax_payout_edit' 'pending_tickets'\n",
            " 'issue' 'contact_new' 'itinerary' 'receipt'\n",
            " 'update_hide_from_search_engines' 'settings' 'privacy' 'reviews_new'\n",
            " 'add_guests' 'ajax_image_upload' 'qt_with' 'webcam_upload' 'friends'\n",
            " 'ajax_google_translate_description' 'trust' 'guarantee' 'supported'\n",
            " 'countries' 'status' 'upload' 'authorize' 'rate' 'remove_dashboard_alert'\n",
            " 'ajax_get_results' 'recommend' 'change_currency'\n",
            " 'transaction_history_paginated' 'transaction_history' 'set_password'\n",
            " 'cancel' 'phone_verification_modal' 'submit_contact' 'detect_fb_session'\n",
            " 'tell_a_friend' 'change' 'clickthrough' 'multi_message_attributes'\n",
            " 'update_friends_display' 'my_listings' 'email_itinerary_colorbox'\n",
            " 'mobile_landing_page' 'create_ach' 'country_options' '11' 'host_2013'\n",
            " 'terms' 'multi_message' 'ajax_send_message' 'airbnb_picks' 'friends_new'\n",
            " 'reputation' 'complete_redirect' 'toggle_starred_thread' 'email_share'\n",
            " 'email_wishlist' 'destroy' 'add_note' 'overview' 'requirements'\n",
            " 'update_reservation_requirements' 'image_order' 'review_page'\n",
            " 'ajax_worth' 'place_worth' 'google_importer' 'change_availability'\n",
            " 'hospitality' 'change_password' 'feed' 'host_summary'\n",
            " 'ajax_price_and_availability' 'jumio' 'guest_booked_elsewhere' 'about_us'\n",
            " 'founders' 'travel_plans_previous' 'why_host' 'hospitality_standards'\n",
            " 'social' 'recommendations' 'update_cached' 'become_user' 'departments'\n",
            " 'department' 'office_location' 'photography' 'preapproval'\n",
            " 'maybe_information' 'toggle_availability' 'payoneer_account_redirect'\n",
            " 'forgot_password' 'new_host' 'payoneer_signup_complete'\n",
            " 'ajax_google_translate' 'onenight' 'approve' 'nyan' 'booking'\n",
            " 'payout_delete' 'change_default_payout' 'envoy_bank_details_redirect'\n",
            " 'respond' 'request_photography' 'zendesk_login_jwt' 'ajax_photo_widget'\n",
            " 'message' 'southern-europe' 'life' 'press_release' 'media_resources'\n",
            " 'press_news' 'referrer_status' 'create_multiple' 'load_more'\n",
            " 'create_paypal' 'locale_from_host' 'terms_and_conditions'\n",
            " 'invalid_action' 'photography_update' 'badge' 'apply' 'redirect'\n",
            " 'pricing' 'apply_code' 'slideshow' 'locations'\n",
            " 'ajax_google_translate_reviews' 'new_session' 'has_profile_pic' 'sublets'\n",
            " 'wishlists' 'reservation' 'localized' 'home_safety_landing' 'click'\n",
            " 'how_it_works' 'ajax_get_referrals_amt' 'phone_verification' 'satisfy'\n",
            " 'city_count' 'recommendation_page' 'press_content'\n",
            " 'guest_billing_receipt' 'ajax_payout_split_edit' 'print_confirmation'\n",
            " 'envoy_form' 'ajax_special_offer_dates_available'\n",
            " 'ajax_referral_banner_experiment_type' 'patch' 'questions'\n",
            " 'home_safety_terms' 'track_activity' 'check' 'sldf'\n",
            " 'recommended_listings' 'mobile_oauth_callback' 'show_code'\n",
            " 'signed_out_modal' 'plaxo_cb' 'views' 'friend_listing'\n",
            " 'ajax_referral_banner_type' 'deactivate' 'sync' 'social-media'\n",
            " 'united-states' 'email_by_key' 'disaster_action' 'views_campaign'\n",
            " 'update_message' 'spoken_languages' 'use_mobile_site' 'deauthorize'\n",
            " 'special_offer' 'top_destinations' 'create_airbnb' 'handle_vanity_url'\n",
            " 'impressions' 'message_to_host_focus' 'cancellation_policy_click'\n",
            " 'message_to_host_change' 'agree_terms_check' 'read_policy_click'\n",
            " 'phone_verification_success'\n",
            " 'phone_verification_number_sucessfully_submitted'\n",
            " 'phone_verification_number_submitted_for_sms'\n",
            " 'phone_verification_phone_number_removed' 'endpoint_error'\n",
            " 'p4_refund_policy_terms' 'apply_coupon_error_type' 'apply_coupon_error'\n",
            " 'apply_coupon_click' 'coupon_field_focus' 'coupon_code_click'\n",
            " 'agree_terms_uncheck' 'p4_terms'\n",
            " 'phone_verification_call_taking_too_long'\n",
            " 'phone_verification_number_submitted_for_call' 'phone_verification_error'\n",
            " 'apply_coupon_click_success' 'set_default' 'update_country_of_residence'\n",
            " 'open_hard_fallback_modal' 'tos_2014' 'views_campaign_rules'\n",
            " 'weibo_signup_referral_finish' 'signup_weibo_referral'\n",
            " 'similar_listings_v2' 'confirmation' 'signup_weibo'\n",
            " 'acculynk_load_pin_pad' 'acculynk_bin_check_success'\n",
            " 'acculynk_session_obtained' 'acculynk_pin_pad_inactive' 'reactivate'\n",
            " 'airbrb' 'desks' 'sandy' 'unsubscribe' 'host_cancel'\n",
            " 'acculynk_bin_check_failed' 'acculynk_pin_pad_error'\n",
            " 'custom_recommended_destinations' 'this_hosting_reviews_3000'\n",
            " 'reset_calendar' 'events' 'business_travel' 'add_guest_colorbox'\n",
            " 'hard_fallback_submit' 'add_business_address_colorbox' 'my_reservations'\n",
            " 'report' 'book' 'revert_to_admin' 'acculynk_pin_pad_success'\n",
            " 'south-america' 'braintree_client_token' 'view' 'stpcv'\n",
            " 'set_minimum_payout_amount' 'support_phone_numbers'\n",
            " 'refund_guest_cancellation' 'accept_decline' 'deactivated'\n",
            " 'rest-of-world']\n",
            "\n",
            " action_type : \n",
            " [nan 'click' 'data' 'view' 'submit' 'message_post' '-unknown-'\n",
            " 'booking_request' 'partner_callback' 'booking_response' 'modify']\n",
            "\n",
            " action_detail : \n",
            " [nan 'view_search_results' 'wishlist_content_update' 'similar_listings'\n",
            " 'change_trip_characteristics' 'p3' 'header_userpic' 'contact_host'\n",
            " 'message_post' '-unknown-' 'dashboard' 'create_user' 'confirm_email_link'\n",
            " 'user_profile_content_update' 'user_profile' 'pending' 'p5'\n",
            " 'create_phone_numbers' 'cancellation_policies' 'user_wishlists'\n",
            " 'change_contact_host_dates' 'wishlist' 'message_thread'\n",
            " 'request_new_confirm_email' 'send_message' 'your_trips' 'login_page'\n",
            " 'login' 'login_modal' 'toggle_archived_thread' 'p1'\n",
            " 'profile_verifications' 'edit_profile' 'oauth_login'\n",
            " 'post_checkout_action' 'account_notification_settings'\n",
            " 'update_user_profile' 'oauth_response' 'signup_modal' 'signup_login_page'\n",
            " 'at_checkpoint' 'manage_listing' 'create_listing' 'your_listings'\n",
            " 'profile_references' 'list_your_space' 'popular_wishlists'\n",
            " 'listing_reviews_page' 'apply_coupon' 'user_tax_forms'\n",
            " 'account_payout_preferences' 'guest_itinerary' 'guest_receipt'\n",
            " 'account_privacy_settings' 'lookup_message_thread' 'friends_wishlists'\n",
            " 'host_guarantee' 'delete_phone_numbers' 'account_transaction_history'\n",
            " 'set_password' 'guest_cancellation' 'change_or_alter' 'your_reservations'\n",
            " 'terms_and_privacy' 'airbnb_picks_wishlists' 'toggle_starred_thread'\n",
            " 'email_wishlist' 'email_wishlist_button' 'wishlist_note'\n",
            " 'calculate_worth' 'place_worth' 'change_password' 'alteration_field'\n",
            " 'previous_trips' 'update_listing' 'update_listing_description'\n",
            " 'user_reviews' 'update_user' 'notifications' 'user_social_connections'\n",
            " 'unavailable_dates' 'reservations' 'listing_reviews' 'user_listings'\n",
            " 'signup' 'message_inbox' 'trip_availability' 'payment_instruments'\n",
            " 'admin_templates' 'host_home' 'translations' 'forgot_password' 'homepage'\n",
            " 'remove_dashboard_alert' 'user_friend_recommendations' 'confirm_email'\n",
            " 'host_respond' 'booking' 'respond_to_alteration_request'\n",
            " 'alteration_request' 'create_alteration_request' 'delete_listing'\n",
            " 'set_password_page' 'delete_listing_description'\n",
            " 'translate_listing_reviews' 'book_it' 'instant_book' 'request_to_book'\n",
            " 'complete_booking' 'change_availability' 'special_offer_field'\n",
            " 'listing_recommendations' 'view_listing' 'listing_descriptions'\n",
            " 'user_languages' 'p4' 'message_to_host_focus' 'cancellation_policy_click'\n",
            " 'message_to_host_change' 'read_policy_click' 'phone_verification_success'\n",
            " 'p4_refund_policy_terms' 'apply_coupon_error' 'apply_coupon_click'\n",
            " 'coupon_field_focus' 'coupon_code_click' 'p4_terms'\n",
            " 'apply_coupon_click_success' 'tos_2014' 'view_reservations'\n",
            " 'view_locations' 'modify_users' 'view_security_checks' 'phone_numbers'\n",
            " 'profile_reviews' 'modify_reservations' 'view_resolutions'\n",
            " 'account_payment_methods' 'create_payment_instrument'\n",
            " 'set_default_payment_instrument' 'delete_payment_instrument' 'photos'\n",
            " 'click_reviews' 'move_map' 'share' 'cancellation_policy'\n",
            " 'click_about_host' 'click_amenities' 'host_refund_guest'\n",
            " 'host_respond_page' 'view_user_real_names' 'view_identity_verifications'\n",
            " 'view_ghosting_reasons' 'view_ghostings' 'host_standard_suspension'\n",
            " 'deactivate_user_account']\n",
            "\n",
            " device_type : \n",
            " ['Windows Desktop' '-unknown-' 'Mac Desktop' 'Android Phone' 'iPhone'\n",
            " 'iPad Tablet' 'Android App Unknown Phone/Tablet' 'Linux Desktop' 'Tablet'\n",
            " 'Chromebook' 'Blackberry' 'iPodtouch' 'Windows Phone' 'Opera Phone']\n",
            "\n",
            " secs_elapsed : \n",
            " [3.190000e+02 6.775300e+04 3.010000e+02 ... 2.870570e+05 1.551558e+06\n",
            " 1.752436e+06]\n"
          ],
          "name": "stdout"
        }
      ]
    },
    {
      "cell_type": "code",
      "metadata": {
        "id": "GlOswCN-U64g",
        "outputId": "2cea7b01-4b7a-468a-a903-8df2e7dc6951",
        "colab": {
          "base_uri": "https://localhost:8080/"
        }
      },
      "source": [
        "getdataCount(['action','action_type','action_detail'],df_sessions)"
      ],
      "execution_count": 15,
      "outputs": [
        {
          "output_type": "stream",
          "text": [
            "\n",
            " action : \n",
            " show              2768278\n",
            "index              843699\n",
            "search_results     725226\n",
            "personalize        706824\n",
            "search             536057\n",
            "                   ...   \n",
            "deauthorize             1\n",
            "plaxo_cb                1\n",
            "reactivate              1\n",
            "sldf                    1\n",
            "deactivate              1\n",
            "Name: action, Length: 359, dtype: int64\n",
            "\n",
            " action_type : \n",
            " view                3560902\n",
            "data                2103770\n",
            "click               1996183\n",
            "-unknown-           1031170\n",
            "submit               623357\n",
            "message_post          87103\n",
            "partner_callback      19132\n",
            "booking_request       18773\n",
            "modify                 1139\n",
            "booking_response          4\n",
            "Name: action_type, dtype: int64\n",
            "\n",
            " action_detail : \n",
            " view_search_results         1776885\n",
            "p3                          1376550\n",
            "-unknown-                   1031141\n",
            "wishlist_content_update      706824\n",
            "user_profile                 656839\n",
            "                             ...   \n",
            "special_offer_field               3\n",
            "host_refund_guest                 2\n",
            "host_respond_page                 2\n",
            "tos_2014                          2\n",
            "host_standard_suspension          1\n",
            "Name: action_detail, Length: 155, dtype: int64\n"
          ],
          "name": "stdout"
        }
      ]
    },
    {
      "cell_type": "markdown",
      "metadata": {
        "id": "xqFlFDdvX3G2"
      },
      "source": [
        "**replace unkown with null **"
      ]
    },
    {
      "cell_type": "code",
      "metadata": {
        "id": "b_90f5REX-yE"
      },
      "source": [
        "df_sessions['action'] = df_sessions['action'].replace('-unknown-', np.nan)\n",
        "df_sessions['action_type'] = df_sessions['action_type'].replace('-unknown-', np.nan)\n",
        "df_sessions['action_detail'] = df_sessions['action_detail'].replace('-unknown-', np.nan)"
      ],
      "execution_count": 16,
      "outputs": []
    },
    {
      "cell_type": "code",
      "metadata": {
        "id": "34OACp44Yy95",
        "outputId": "9dff4a1c-efb6-4169-b626-4176873a0f8c",
        "colab": {
          "base_uri": "https://localhost:8080/",
          "height": 197
        }
      },
      "source": [
        "df_sessions.head()"
      ],
      "execution_count": 17,
      "outputs": [
        {
          "output_type": "execute_result",
          "data": {
            "text/html": [
              "<div>\n",
              "<style scoped>\n",
              "    .dataframe tbody tr th:only-of-type {\n",
              "        vertical-align: middle;\n",
              "    }\n",
              "\n",
              "    .dataframe tbody tr th {\n",
              "        vertical-align: top;\n",
              "    }\n",
              "\n",
              "    .dataframe thead th {\n",
              "        text-align: right;\n",
              "    }\n",
              "</style>\n",
              "<table border=\"1\" class=\"dataframe\">\n",
              "  <thead>\n",
              "    <tr style=\"text-align: right;\">\n",
              "      <th></th>\n",
              "      <th>user_id</th>\n",
              "      <th>action</th>\n",
              "      <th>action_type</th>\n",
              "      <th>action_detail</th>\n",
              "      <th>device_type</th>\n",
              "      <th>secs_elapsed</th>\n",
              "    </tr>\n",
              "  </thead>\n",
              "  <tbody>\n",
              "    <tr>\n",
              "      <th>0</th>\n",
              "      <td>d1mm9tcy42</td>\n",
              "      <td>lookup</td>\n",
              "      <td>NaN</td>\n",
              "      <td>NaN</td>\n",
              "      <td>Windows Desktop</td>\n",
              "      <td>319.0</td>\n",
              "    </tr>\n",
              "    <tr>\n",
              "      <th>1</th>\n",
              "      <td>d1mm9tcy42</td>\n",
              "      <td>search_results</td>\n",
              "      <td>click</td>\n",
              "      <td>view_search_results</td>\n",
              "      <td>Windows Desktop</td>\n",
              "      <td>67753.0</td>\n",
              "    </tr>\n",
              "    <tr>\n",
              "      <th>2</th>\n",
              "      <td>d1mm9tcy42</td>\n",
              "      <td>lookup</td>\n",
              "      <td>NaN</td>\n",
              "      <td>NaN</td>\n",
              "      <td>Windows Desktop</td>\n",
              "      <td>301.0</td>\n",
              "    </tr>\n",
              "    <tr>\n",
              "      <th>3</th>\n",
              "      <td>d1mm9tcy42</td>\n",
              "      <td>search_results</td>\n",
              "      <td>click</td>\n",
              "      <td>view_search_results</td>\n",
              "      <td>Windows Desktop</td>\n",
              "      <td>22141.0</td>\n",
              "    </tr>\n",
              "    <tr>\n",
              "      <th>4</th>\n",
              "      <td>d1mm9tcy42</td>\n",
              "      <td>lookup</td>\n",
              "      <td>NaN</td>\n",
              "      <td>NaN</td>\n",
              "      <td>Windows Desktop</td>\n",
              "      <td>435.0</td>\n",
              "    </tr>\n",
              "  </tbody>\n",
              "</table>\n",
              "</div>"
            ],
            "text/plain": [
              "      user_id          action  ...      device_type secs_elapsed\n",
              "0  d1mm9tcy42          lookup  ...  Windows Desktop        319.0\n",
              "1  d1mm9tcy42  search_results  ...  Windows Desktop      67753.0\n",
              "2  d1mm9tcy42          lookup  ...  Windows Desktop        301.0\n",
              "3  d1mm9tcy42  search_results  ...  Windows Desktop      22141.0\n",
              "4  d1mm9tcy42          lookup  ...  Windows Desktop        435.0\n",
              "\n",
              "[5 rows x 6 columns]"
            ]
          },
          "metadata": {
            "tags": []
          },
          "execution_count": 17
        }
      ]
    },
    {
      "cell_type": "code",
      "metadata": {
        "id": "P47HKFzQY8Ho"
      },
      "source": [
        ""
      ],
      "execution_count": 17,
      "outputs": []
    },
    {
      "cell_type": "markdown",
      "metadata": {
        "id": "ROIgErzgZyt0"
      },
      "source": [
        "secs_elapsed Distribution"
      ]
    },
    {
      "cell_type": "code",
      "metadata": {
        "id": "dLq6GzjbZ68o",
        "outputId": "2a5f6b20-0cd9-4df8-9c4a-29ee7454194d",
        "colab": {
          "base_uri": "https://localhost:8080/",
          "height": 313
        }
      },
      "source": [
        "df_sessionNotnull = df_sessions.dropna()\n",
        "histPlot('secs_elapsed',df_sessionNotnull,[0,250000])"
      ],
      "execution_count": 18,
      "outputs": [
        {
          "output_type": "display_data",
          "data": {
            "image/png": "[encoded data removed]",
            "text/plain": [
              "<Figure size 432x288 with 1 Axes>"
            ]
          },
          "metadata": {
            "tags": [],
            "needs_background": "light"
          }
        }
      ]
    },
    {
      "cell_type": "code",
      "metadata": {
        "id": "vTc7Dp-AhZMq",
        "outputId": "d1d17a10-0ccd-430f-d2ef-66f1f5d4fd4f",
        "colab": {
          "base_uri": "https://localhost:8080/",
          "height": 286
        }
      },
      "source": [
        "df_sessions.describe()"
      ],
      "execution_count": 19,
      "outputs": [
        {
          "output_type": "execute_result",
          "data": {
            "text/html": [
              "<div>\n",
              "<style scoped>\n",
              "    .dataframe tbody tr th:only-of-type {\n",
              "        vertical-align: middle;\n",
              "    }\n",
              "\n",
              "    .dataframe tbody tr th {\n",
              "        vertical-align: top;\n",
              "    }\n",
              "\n",
              "    .dataframe thead th {\n",
              "        text-align: right;\n",
              "    }\n",
              "</style>\n",
              "<table border=\"1\" class=\"dataframe\">\n",
              "  <thead>\n",
              "    <tr style=\"text-align: right;\">\n",
              "      <th></th>\n",
              "      <th>secs_elapsed</th>\n",
              "    </tr>\n",
              "  </thead>\n",
              "  <tbody>\n",
              "    <tr>\n",
              "      <th>count</th>\n",
              "      <td>1.043171e+07</td>\n",
              "    </tr>\n",
              "    <tr>\n",
              "      <th>mean</th>\n",
              "      <td>1.940581e+04</td>\n",
              "    </tr>\n",
              "    <tr>\n",
              "      <th>std</th>\n",
              "      <td>8.888424e+04</td>\n",
              "    </tr>\n",
              "    <tr>\n",
              "      <th>min</th>\n",
              "      <td>0.000000e+00</td>\n",
              "    </tr>\n",
              "    <tr>\n",
              "      <th>25%</th>\n",
              "      <td>2.290000e+02</td>\n",
              "    </tr>\n",
              "    <tr>\n",
              "      <th>50%</th>\n",
              "      <td>1.147000e+03</td>\n",
              "    </tr>\n",
              "    <tr>\n",
              "      <th>75%</th>\n",
              "      <td>8.444000e+03</td>\n",
              "    </tr>\n",
              "    <tr>\n",
              "      <th>max</th>\n",
              "      <td>1.799977e+06</td>\n",
              "    </tr>\n",
              "  </tbody>\n",
              "</table>\n",
              "</div>"
            ],
            "text/plain": [
              "       secs_elapsed\n",
              "count  1.043171e+07\n",
              "mean   1.940581e+04\n",
              "std    8.888424e+04\n",
              "min    0.000000e+00\n",
              "25%    2.290000e+02\n",
              "50%    1.147000e+03\n",
              "75%    8.444000e+03\n",
              "max    1.799977e+06"
            ]
          },
          "metadata": {
            "tags": []
          },
          "execution_count": 19
        }
      ]
    },
    {
      "cell_type": "markdown",
      "metadata": {
        "id": "O_HWB5oJjtmK"
      },
      "source": [
        "The average number of seconds is 19450 seconds whereas the median value is 1147 seconds. and also  figure ,This suggests theres a right skewed so we shall fill null values with median"
      ]
    },
    {
      "cell_type": "code",
      "metadata": {
        "id": "3vdb_1v6h89X"
      },
      "source": [
        "#median_secs = df_sessions['secs_elapsed'].median()\n",
        "#df_sessions['secs_elapsed'] = df_sessions['secs_elapsed'].fillna(median_secs)"
      ],
      "execution_count": 20,
      "outputs": []
    },
    {
      "cell_type": "code",
      "metadata": {
        "id": "lTm-MfdEkwiu"
      },
      "source": [
        "#df_sessions.describe()"
      ],
      "execution_count": 21,
      "outputs": []
    },
    {
      "cell_type": "code",
      "metadata": {
        "id": "US0xDstukycF"
      },
      "source": [
        "df_sessions.to_csv(\"/content/drive/My Drive/vodafoneTask/datasets/dataset-modified/sessions-v1.csv\", index=False)"
      ],
      "execution_count": 22,
      "outputs": []
    },
    {
      "cell_type": "code",
      "metadata": {
        "id": "dRgyvFLxm9jI"
      },
      "source": [
        ""
      ],
      "execution_count": 22,
      "outputs": []
    },
    {
      "cell_type": "markdown",
      "metadata": {
        "id": "7xzsoytwvLr4"
      },
      "source": [
        "# Country dataset"
      ]
    },
    {
      "cell_type": "code",
      "metadata": {
        "id": "1l_gb7w0vNVJ",
        "outputId": "06b7d78e-f62d-41af-92ad-27569dff1549",
        "colab": {
          "base_uri": "https://localhost:8080/",
          "height": 197
        }
      },
      "source": [
        "df_countries =pd.read_csv(\"/content/drive/My Drive/vodafoneTask/datasets/countries.csv\")\n",
        "df_countries.head()"
      ],
      "execution_count": 23,
      "outputs": [
        {
          "output_type": "execute_result",
          "data": {
            "text/html": [
              "<div>\n",
              "<style scoped>\n",
              "    .dataframe tbody tr th:only-of-type {\n",
              "        vertical-align: middle;\n",
              "    }\n",
              "\n",
              "    .dataframe tbody tr th {\n",
              "        vertical-align: top;\n",
              "    }\n",
              "\n",
              "    .dataframe thead th {\n",
              "        text-align: right;\n",
              "    }\n",
              "</style>\n",
              "<table border=\"1\" class=\"dataframe\">\n",
              "  <thead>\n",
              "    <tr style=\"text-align: right;\">\n",
              "      <th></th>\n",
              "      <th>country_destination</th>\n",
              "      <th>lat_destination</th>\n",
              "      <th>lng_destination</th>\n",
              "      <th>distance_km</th>\n",
              "      <th>destination_km2</th>\n",
              "      <th>destination_language</th>\n",
              "      <th>language_levenshtein_distance</th>\n",
              "    </tr>\n",
              "  </thead>\n",
              "  <tbody>\n",
              "    <tr>\n",
              "      <th>0</th>\n",
              "      <td>AU</td>\n",
              "      <td>-26.853388</td>\n",
              "      <td>133.275160</td>\n",
              "      <td>15297.7440</td>\n",
              "      <td>7741220.0</td>\n",
              "      <td>eng</td>\n",
              "      <td>0.00</td>\n",
              "    </tr>\n",
              "    <tr>\n",
              "      <th>1</th>\n",
              "      <td>CA</td>\n",
              "      <td>62.393303</td>\n",
              "      <td>-96.818146</td>\n",
              "      <td>2828.1333</td>\n",
              "      <td>9984670.0</td>\n",
              "      <td>eng</td>\n",
              "      <td>0.00</td>\n",
              "    </tr>\n",
              "    <tr>\n",
              "      <th>2</th>\n",
              "      <td>DE</td>\n",
              "      <td>51.165707</td>\n",
              "      <td>10.452764</td>\n",
              "      <td>7879.5680</td>\n",
              "      <td>357022.0</td>\n",
              "      <td>deu</td>\n",
              "      <td>72.61</td>\n",
              "    </tr>\n",
              "    <tr>\n",
              "      <th>3</th>\n",
              "      <td>ES</td>\n",
              "      <td>39.896027</td>\n",
              "      <td>-2.487694</td>\n",
              "      <td>7730.7240</td>\n",
              "      <td>505370.0</td>\n",
              "      <td>spa</td>\n",
              "      <td>92.25</td>\n",
              "    </tr>\n",
              "    <tr>\n",
              "      <th>4</th>\n",
              "      <td>FR</td>\n",
              "      <td>46.232193</td>\n",
              "      <td>2.209667</td>\n",
              "      <td>7682.9450</td>\n",
              "      <td>643801.0</td>\n",
              "      <td>fra</td>\n",
              "      <td>92.06</td>\n",
              "    </tr>\n",
              "  </tbody>\n",
              "</table>\n",
              "</div>"
            ],
            "text/plain": [
              "  country_destination  ...  language_levenshtein_distance\n",
              "0                  AU  ...                           0.00\n",
              "1                  CA  ...                           0.00\n",
              "2                  DE  ...                          72.61\n",
              "3                  ES  ...                          92.25\n",
              "4                  FR  ...                          92.06\n",
              "\n",
              "[5 rows x 7 columns]"
            ]
          },
          "metadata": {
            "tags": []
          },
          "execution_count": 23
        }
      ]
    },
    {
      "cell_type": "code",
      "metadata": {
        "id": "j4R0zGUuvYYZ"
      },
      "source": [
        ""
      ],
      "execution_count": 23,
      "outputs": []
    },
    {
      "cell_type": "markdown",
      "metadata": {
        "id": "en4V94zWwCr2"
      },
      "source": [
        "# train dataset"
      ]
    },
    {
      "cell_type": "code",
      "metadata": {
        "id": "khDqGpLrwE3_",
        "outputId": "811a8080-c7ea-4df3-c804-c135369387ce",
        "colab": {
          "base_uri": "https://localhost:8080/",
          "height": 251
        }
      },
      "source": [
        "df_train_users = pd.read_csv('/content/drive/My Drive/vodafoneTask/datasets/train_users.csv')\n",
        "df_train_users.head()"
      ],
      "execution_count": 24,
      "outputs": [
        {
          "output_type": "execute_result",
          "data": {
            "text/html": [
              "<div>\n",
              "<style scoped>\n",
              "    .dataframe tbody tr th:only-of-type {\n",
              "        vertical-align: middle;\n",
              "    }\n",
              "\n",
              "    .dataframe tbody tr th {\n",
              "        vertical-align: top;\n",
              "    }\n",
              "\n",
              "    .dataframe thead th {\n",
              "        text-align: right;\n",
              "    }\n",
              "</style>\n",
              "<table border=\"1\" class=\"dataframe\">\n",
              "  <thead>\n",
              "    <tr style=\"text-align: right;\">\n",
              "      <th></th>\n",
              "      <th>id</th>\n",
              "      <th>date_account_created</th>\n",
              "      <th>timestamp_first_active</th>\n",
              "      <th>date_first_booking</th>\n",
              "      <th>gender</th>\n",
              "      <th>age</th>\n",
              "      <th>signup_method</th>\n",
              "      <th>signup_flow</th>\n",
              "      <th>language</th>\n",
              "      <th>affiliate_channel</th>\n",
              "      <th>affiliate_provider</th>\n",
              "      <th>first_affiliate_tracked</th>\n",
              "      <th>signup_app</th>\n",
              "      <th>first_device_type</th>\n",
              "      <th>first_browser</th>\n",
              "      <th>country_destination</th>\n",
              "    </tr>\n",
              "  </thead>\n",
              "  <tbody>\n",
              "    <tr>\n",
              "      <th>0</th>\n",
              "      <td>gxn3p5htnn</td>\n",
              "      <td>2010-06-28</td>\n",
              "      <td>20090319043255</td>\n",
              "      <td>NaN</td>\n",
              "      <td>-unknown-</td>\n",
              "      <td>NaN</td>\n",
              "      <td>facebook</td>\n",
              "      <td>0</td>\n",
              "      <td>en</td>\n",
              "      <td>direct</td>\n",
              "      <td>direct</td>\n",
              "      <td>untracked</td>\n",
              "      <td>Web</td>\n",
              "      <td>Mac Desktop</td>\n",
              "      <td>Chrome</td>\n",
              "      <td>NDF</td>\n",
              "    </tr>\n",
              "    <tr>\n",
              "      <th>1</th>\n",
              "      <td>820tgsjxq7</td>\n",
              "      <td>2011-05-25</td>\n",
              "      <td>20090523174809</td>\n",
              "      <td>NaN</td>\n",
              "      <td>MALE</td>\n",
              "      <td>38.0</td>\n",
              "      <td>facebook</td>\n",
              "      <td>0</td>\n",
              "      <td>en</td>\n",
              "      <td>seo</td>\n",
              "      <td>google</td>\n",
              "      <td>untracked</td>\n",
              "      <td>Web</td>\n",
              "      <td>Mac Desktop</td>\n",
              "      <td>Chrome</td>\n",
              "      <td>NDF</td>\n",
              "    </tr>\n",
              "    <tr>\n",
              "      <th>2</th>\n",
              "      <td>4ft3gnwmtx</td>\n",
              "      <td>2010-09-28</td>\n",
              "      <td>20090609231247</td>\n",
              "      <td>2010-08-02</td>\n",
              "      <td>FEMALE</td>\n",
              "      <td>56.0</td>\n",
              "      <td>basic</td>\n",
              "      <td>3</td>\n",
              "      <td>en</td>\n",
              "      <td>direct</td>\n",
              "      <td>direct</td>\n",
              "      <td>untracked</td>\n",
              "      <td>Web</td>\n",
              "      <td>Windows Desktop</td>\n",
              "      <td>IE</td>\n",
              "      <td>US</td>\n",
              "    </tr>\n",
              "    <tr>\n",
              "      <th>3</th>\n",
              "      <td>bjjt8pjhuk</td>\n",
              "      <td>2011-12-05</td>\n",
              "      <td>20091031060129</td>\n",
              "      <td>2012-09-08</td>\n",
              "      <td>FEMALE</td>\n",
              "      <td>42.0</td>\n",
              "      <td>facebook</td>\n",
              "      <td>0</td>\n",
              "      <td>en</td>\n",
              "      <td>direct</td>\n",
              "      <td>direct</td>\n",
              "      <td>untracked</td>\n",
              "      <td>Web</td>\n",
              "      <td>Mac Desktop</td>\n",
              "      <td>Firefox</td>\n",
              "      <td>other</td>\n",
              "    </tr>\n",
              "    <tr>\n",
              "      <th>4</th>\n",
              "      <td>87mebub9p4</td>\n",
              "      <td>2010-09-14</td>\n",
              "      <td>20091208061105</td>\n",
              "      <td>2010-02-18</td>\n",
              "      <td>-unknown-</td>\n",
              "      <td>41.0</td>\n",
              "      <td>basic</td>\n",
              "      <td>0</td>\n",
              "      <td>en</td>\n",
              "      <td>direct</td>\n",
              "      <td>direct</td>\n",
              "      <td>untracked</td>\n",
              "      <td>Web</td>\n",
              "      <td>Mac Desktop</td>\n",
              "      <td>Chrome</td>\n",
              "      <td>US</td>\n",
              "    </tr>\n",
              "  </tbody>\n",
              "</table>\n",
              "</div>"
            ],
            "text/plain": [
              "           id date_account_created  ...  first_browser country_destination\n",
              "0  gxn3p5htnn           2010-06-28  ...         Chrome                 NDF\n",
              "1  820tgsjxq7           2011-05-25  ...         Chrome                 NDF\n",
              "2  4ft3gnwmtx           2010-09-28  ...             IE                  US\n",
              "3  bjjt8pjhuk           2011-12-05  ...        Firefox               other\n",
              "4  87mebub9p4           2010-09-14  ...         Chrome                  US\n",
              "\n",
              "[5 rows x 16 columns]"
            ]
          },
          "metadata": {
            "tags": []
          },
          "execution_count": 24
        }
      ]
    },
    {
      "cell_type": "code",
      "metadata": {
        "id": "Pn4v3XnowhBz",
        "outputId": "48ca34b7-bfb4-49bc-887c-da0a429735c6",
        "colab": {
          "base_uri": "https://localhost:8080/"
        }
      },
      "source": [
        "showInformation(df_train_users)"
      ],
      "execution_count": 25,
      "outputs": [
        {
          "output_type": "stream",
          "text": [
            "\n",
            " shape of data : \n",
            " (213451, 16)\n",
            "\n",
            " columns : \n",
            " Index(['id', 'date_account_created', 'timestamp_first_active',\n",
            "       'date_first_booking', 'gender', 'age', 'signup_method', 'signup_flow',\n",
            "       'language', 'affiliate_channel', 'affiliate_provider',\n",
            "       'first_affiliate_tracked', 'signup_app', 'first_device_type',\n",
            "       'first_browser', 'country_destination'],\n",
            "      dtype='object')\n",
            "<class 'pandas.core.frame.DataFrame'>\n",
            "RangeIndex: 213451 entries, 0 to 213450\n",
            "Data columns (total 16 columns):\n",
            " #   Column                   Non-Null Count   Dtype  \n",
            "---  ------                   --------------   -----  \n",
            " 0   id                       213451 non-null  object \n",
            " 1   date_account_created     213451 non-null  object \n",
            " 2   timestamp_first_active   213451 non-null  int64  \n",
            " 3   date_first_booking       88908 non-null   object \n",
            " 4   gender                   213451 non-null  object \n",
            " 5   age                      125461 non-null  float64\n",
            " 6   signup_method            213451 non-null  object \n",
            " 7   signup_flow              213451 non-null  int64  \n",
            " 8   language                 213451 non-null  object \n",
            " 9   affiliate_channel        213451 non-null  object \n",
            " 10  affiliate_provider       213451 non-null  object \n",
            " 11  first_affiliate_tracked  207386 non-null  object \n",
            " 12  signup_app               213451 non-null  object \n",
            " 13  first_device_type        213451 non-null  object \n",
            " 14  first_browser            213451 non-null  object \n",
            " 15  country_destination      213451 non-null  object \n",
            "dtypes: float64(1), int64(2), object(13)\n",
            "memory usage: 26.1+ MB\n",
            "\n",
            " dataset info : \n",
            " None\n",
            "\n",
            " dataset datatypes : \n",
            " id                          object\n",
            "date_account_created        object\n",
            "timestamp_first_active       int64\n",
            "date_first_booking          object\n",
            "gender                      object\n",
            "age                        float64\n",
            "signup_method               object\n",
            "signup_flow                  int64\n",
            "language                    object\n",
            "affiliate_channel           object\n",
            "affiliate_provider          object\n",
            "first_affiliate_tracked     object\n",
            "signup_app                  object\n",
            "first_device_type           object\n",
            "first_browser               object\n",
            "country_destination         object\n",
            "dtype: object\n",
            "\n",
            " sum of null values : \n",
            " id                              0\n",
            "date_account_created            0\n",
            "timestamp_first_active          0\n",
            "date_first_booking         124543\n",
            "gender                          0\n",
            "age                         87990\n",
            "signup_method                   0\n",
            "signup_flow                     0\n",
            "language                        0\n",
            "affiliate_channel               0\n",
            "affiliate_provider              0\n",
            "first_affiliate_tracked      6065\n",
            "signup_app                      0\n",
            "first_device_type               0\n",
            "first_browser                   0\n",
            "country_destination             0\n",
            "dtype: int64\n"
          ],
          "name": "stdout"
        }
      ]
    },
    {
      "cell_type": "code",
      "metadata": {
        "id": "loxQoIDkwtSO",
        "outputId": "a96467d3-a574-4b7f-c8cf-45d440667266",
        "colab": {
          "base_uri": "https://localhost:8080/"
        }
      },
      "source": [
        "checkifUnkown(df_train_users)"
      ],
      "execution_count": 26,
      "outputs": [
        {
          "output_type": "stream",
          "text": [
            "gender\n",
            "first_browser\n"
          ],
          "name": "stdout"
        }
      ]
    },
    {
      "cell_type": "code",
      "metadata": {
        "id": "c9IENHNpzi0Q"
      },
      "source": [
        "df_train_users['gender'] = df_train_users['gender'].replace('-unknown-', np.nan)\n",
        "df_train_users['first_browser'] = df_train_users['first_browser'].replace('-unknown-', np.nan)"
      ],
      "execution_count": 27,
      "outputs": []
    },
    {
      "cell_type": "code",
      "metadata": {
        "id": "Qh8JqI6641_t",
        "outputId": "b08f601d-f131-462d-e40a-2b8d87ba50e1",
        "colab": {
          "base_uri": "https://localhost:8080/"
        }
      },
      "source": [
        "df_train_users.age.describe()\n"
      ],
      "execution_count": 28,
      "outputs": [
        {
          "output_type": "execute_result",
          "data": {
            "text/plain": [
              "count    125461.000000\n",
              "mean         49.668335\n",
              "std         155.666612\n",
              "min           1.000000\n",
              "25%          28.000000\n",
              "50%          34.000000\n",
              "75%          43.000000\n",
              "max        2014.000000\n",
              "Name: age, dtype: float64"
            ]
          },
          "metadata": {
            "tags": []
          },
          "execution_count": 28
        }
      ]
    },
    {
      "cell_type": "code",
      "metadata": {
        "id": "zW-QMGaq5Qds"
      },
      "source": [
        ""
      ],
      "execution_count": 28,
      "outputs": []
    },
    {
      "cell_type": "markdown",
      "metadata": {
        "id": "L2v5sAzk7wzv"
      },
      "source": [
        "age must be between 18 and 110"
      ]
    },
    {
      "cell_type": "code",
      "metadata": {
        "id": "_UHTNPA371LB"
      },
      "source": [
        "df_train_users.loc[df_train_users.age > 110, 'age'] = np.nan\n",
        "df_train_users.loc[df_train_users.age < 18, 'age'] = np.nan"
      ],
      "execution_count": 29,
      "outputs": []
    },
    {
      "cell_type": "code",
      "metadata": {
        "id": "PKVbVfRx8TWi",
        "outputId": "35c071b6-e721-4ac0-c328-72730605508d",
        "colab": {
          "base_uri": "https://localhost:8080/"
        }
      },
      "source": [
        "df_train_users.age.describe()"
      ],
      "execution_count": 30,
      "outputs": [
        {
          "output_type": "execute_result",
          "data": {
            "text/plain": [
              "count    124502.000000\n",
              "mean         37.431551\n",
              "std          13.897949\n",
              "min          18.000000\n",
              "25%          28.000000\n",
              "50%          34.000000\n",
              "75%          43.000000\n",
              "max         110.000000\n",
              "Name: age, dtype: float64"
            ]
          },
          "metadata": {
            "tags": []
          },
          "execution_count": 30
        }
      ]
    },
    {
      "cell_type": "code",
      "metadata": {
        "id": "bH4YcPO_8XxV"
      },
      "source": [
        "df_train_users.to_csv(\"/content/drive/My Drive/vodafoneTask/datasets/dataset-modified/train_users-V1.csv\", index=False)"
      ],
      "execution_count": 31,
      "outputs": []
    },
    {
      "cell_type": "code",
      "metadata": {
        "id": "zQP90yjczujj"
      },
      "source": [
        ""
      ],
      "execution_count": 31,
      "outputs": []
    },
    {
      "cell_type": "markdown",
      "metadata": {
        "id": "_OVQxRwT90mg"
      },
      "source": [
        "## Data Correlation"
      ]
    },
    {
      "cell_type": "code",
      "metadata": {
        "id": "ycYqzymv-DY8",
        "outputId": "c17bc415-f21d-4797-b681-5e781a747e9e",
        "colab": {
          "base_uri": "https://localhost:8080/",
          "height": 0
        }
      },
      "source": [
        "df_train_usersV1 = pd.read_csv(\"/content/drive/My Drive/vodafoneTask/datasets/dataset-modified/train_users-V1.csv\")\n",
        "df_train_usersV1.head()"
      ],
      "execution_count": 32,
      "outputs": [
        {
          "output_type": "execute_result",
          "data": {
            "text/html": [
              "<div>\n",
              "<style scoped>\n",
              "    .dataframe tbody tr th:only-of-type {\n",
              "        vertical-align: middle;\n",
              "    }\n",
              "\n",
              "    .dataframe tbody tr th {\n",
              "        vertical-align: top;\n",
              "    }\n",
              "\n",
              "    .dataframe thead th {\n",
              "        text-align: right;\n",
              "    }\n",
              "</style>\n",
              "<table border=\"1\" class=\"dataframe\">\n",
              "  <thead>\n",
              "    <tr style=\"text-align: right;\">\n",
              "      <th></th>\n",
              "      <th>id</th>\n",
              "      <th>date_account_created</th>\n",
              "      <th>timestamp_first_active</th>\n",
              "      <th>date_first_booking</th>\n",
              "      <th>gender</th>\n",
              "      <th>age</th>\n",
              "      <th>signup_method</th>\n",
              "      <th>signup_flow</th>\n",
              "      <th>language</th>\n",
              "      <th>affiliate_channel</th>\n",
              "      <th>affiliate_provider</th>\n",
              "      <th>first_affiliate_tracked</th>\n",
              "      <th>signup_app</th>\n",
              "      <th>first_device_type</th>\n",
              "      <th>first_browser</th>\n",
              "      <th>country_destination</th>\n",
              "    </tr>\n",
              "  </thead>\n",
              "  <tbody>\n",
              "    <tr>\n",
              "      <th>0</th>\n",
              "      <td>gxn3p5htnn</td>\n",
              "      <td>2010-06-28</td>\n",
              "      <td>20090319043255</td>\n",
              "      <td>NaN</td>\n",
              "      <td>NaN</td>\n",
              "      <td>NaN</td>\n",
              "      <td>facebook</td>\n",
              "      <td>0</td>\n",
              "      <td>en</td>\n",
              "      <td>direct</td>\n",
              "      <td>direct</td>\n",
              "      <td>untracked</td>\n",
              "      <td>Web</td>\n",
              "      <td>Mac Desktop</td>\n",
              "      <td>Chrome</td>\n",
              "      <td>NDF</td>\n",
              "    </tr>\n",
              "    <tr>\n",
              "      <th>1</th>\n",
              "      <td>820tgsjxq7</td>\n",
              "      <td>2011-05-25</td>\n",
              "      <td>20090523174809</td>\n",
              "      <td>NaN</td>\n",
              "      <td>MALE</td>\n",
              "      <td>38.0</td>\n",
              "      <td>facebook</td>\n",
              "      <td>0</td>\n",
              "      <td>en</td>\n",
              "      <td>seo</td>\n",
              "      <td>google</td>\n",
              "      <td>untracked</td>\n",
              "      <td>Web</td>\n",
              "      <td>Mac Desktop</td>\n",
              "      <td>Chrome</td>\n",
              "      <td>NDF</td>\n",
              "    </tr>\n",
              "    <tr>\n",
              "      <th>2</th>\n",
              "      <td>4ft3gnwmtx</td>\n",
              "      <td>2010-09-28</td>\n",
              "      <td>20090609231247</td>\n",
              "      <td>2010-08-02</td>\n",
              "      <td>FEMALE</td>\n",
              "      <td>56.0</td>\n",
              "      <td>basic</td>\n",
              "      <td>3</td>\n",
              "      <td>en</td>\n",
              "      <td>direct</td>\n",
              "      <td>direct</td>\n",
              "      <td>untracked</td>\n",
              "      <td>Web</td>\n",
              "      <td>Windows Desktop</td>\n",
              "      <td>IE</td>\n",
              "      <td>US</td>\n",
              "    </tr>\n",
              "    <tr>\n",
              "      <th>3</th>\n",
              "      <td>bjjt8pjhuk</td>\n",
              "      <td>2011-12-05</td>\n",
              "      <td>20091031060129</td>\n",
              "      <td>2012-09-08</td>\n",
              "      <td>FEMALE</td>\n",
              "      <td>42.0</td>\n",
              "      <td>facebook</td>\n",
              "      <td>0</td>\n",
              "      <td>en</td>\n",
              "      <td>direct</td>\n",
              "      <td>direct</td>\n",
              "      <td>untracked</td>\n",
              "      <td>Web</td>\n",
              "      <td>Mac Desktop</td>\n",
              "      <td>Firefox</td>\n",
              "      <td>other</td>\n",
              "    </tr>\n",
              "    <tr>\n",
              "      <th>4</th>\n",
              "      <td>87mebub9p4</td>\n",
              "      <td>2010-09-14</td>\n",
              "      <td>20091208061105</td>\n",
              "      <td>2010-02-18</td>\n",
              "      <td>NaN</td>\n",
              "      <td>41.0</td>\n",
              "      <td>basic</td>\n",
              "      <td>0</td>\n",
              "      <td>en</td>\n",
              "      <td>direct</td>\n",
              "      <td>direct</td>\n",
              "      <td>untracked</td>\n",
              "      <td>Web</td>\n",
              "      <td>Mac Desktop</td>\n",
              "      <td>Chrome</td>\n",
              "      <td>US</td>\n",
              "    </tr>\n",
              "  </tbody>\n",
              "</table>\n",
              "</div>"
            ],
            "text/plain": [
              "           id date_account_created  ...  first_browser country_destination\n",
              "0  gxn3p5htnn           2010-06-28  ...         Chrome                 NDF\n",
              "1  820tgsjxq7           2011-05-25  ...         Chrome                 NDF\n",
              "2  4ft3gnwmtx           2010-09-28  ...             IE                  US\n",
              "3  bjjt8pjhuk           2011-12-05  ...        Firefox               other\n",
              "4  87mebub9p4           2010-09-14  ...         Chrome                  US\n",
              "\n",
              "[5 rows x 16 columns]"
            ]
          },
          "metadata": {
            "tags": []
          },
          "execution_count": 32
        }
      ]
    },
    {
      "cell_type": "code",
      "metadata": {
        "id": "7PgO5ezxAOEp",
        "outputId": "4de79cba-c331-48c0-f3b6-7b2702c0ea8e",
        "colab": {
          "base_uri": "https://localhost:8080/"
        }
      },
      "source": [
        "df_train_usersV1['gender'].value_counts()"
      ],
      "execution_count": 33,
      "outputs": [
        {
          "output_type": "execute_result",
          "data": {
            "text/plain": [
              "FEMALE    63041\n",
              "MALE      54440\n",
              "OTHER       282\n",
              "Name: gender, dtype: int64"
            ]
          },
          "metadata": {
            "tags": []
          },
          "execution_count": 33
        }
      ]
    },
    {
      "cell_type": "code",
      "metadata": {
        "id": "KZwxK4etBws2",
        "outputId": "d63a5c61-0e5d-454a-bf5f-3ff6c1f54c88",
        "colab": {
          "base_uri": "https://localhost:8080/"
        }
      },
      "source": [
        "df_train_usersV1.shape"
      ],
      "execution_count": 34,
      "outputs": [
        {
          "output_type": "execute_result",
          "data": {
            "text/plain": [
              "(213451, 16)"
            ]
          },
          "metadata": {
            "tags": []
          },
          "execution_count": 34
        }
      ]
    },
    {
      "cell_type": "code",
      "metadata": {
        "id": "YZAHhIr3CFmK"
      },
      "source": [
        "df_train_usersV1_copy = df_train_usersV1.copy()"
      ],
      "execution_count": 35,
      "outputs": []
    },
    {
      "cell_type": "code",
      "metadata": {
        "id": "Srig8xYFDmYI",
        "outputId": "fca03664-6205-499c-81cb-5a5843609e11",
        "colab": {
          "base_uri": "https://localhost:8080/"
        }
      },
      "source": [
        "indexs = df_train_usersV1_copy[df_train_usersV1_copy.gender.isnull() == True].index\n",
        "df_train_usersV1_copy.drop(indexs , inplace=True)\n",
        "df_train_usersV1_copy=df_train_usersV1_copy[df_train_usersV1_copy.gender != 'OTHER']\n",
        "df_train_usersV1_copy=df_train_usersV1_copy[df_train_usersV1_copy.affiliate_provider != 'other']\n",
        "df_train_usersV1_copy=df_train_usersV1_copy[df_train_usersV1_copy.country_destination  != 'other']\n",
        "df_train_usersV1_copy=df_train_usersV1_copy[df_train_usersV1_copy.country_destination  != 'NDF']\n",
        "df_train_usersV1_copy=df_train_usersV1_copy[df_train_usersV1_copy.affiliate_channel   != 'other']\n",
        "df_train_usersV1_copy.shape"
      ],
      "execution_count": 36,
      "outputs": [
        {
          "output_type": "execute_result",
          "data": {
            "text/plain": [
              "(48497, 16)"
            ]
          },
          "metadata": {
            "tags": []
          },
          "execution_count": 36
        }
      ]
    },
    {
      "cell_type": "code",
      "metadata": {
        "id": "VJTSA7gb-gV5",
        "outputId": "7f307649-0d02-4799-adb2-310715d04a45",
        "colab": {
          "base_uri": "https://localhost:8080/"
        }
      },
      "source": [
        "getUniqueValue(['gender','signup_method','affiliate_channel','affiliate_provider','signup_app','country_destination'],df_train_usersV1_copy)"
      ],
      "execution_count": 37,
      "outputs": [
        {
          "output_type": "stream",
          "text": [
            "\n",
            " gender : \n",
            " ['FEMALE' 'MALE']\n",
            "\n",
            " signup_method : \n",
            " ['basic' 'facebook' 'google']\n",
            "\n",
            " affiliate_channel : \n",
            " ['direct' 'seo' 'content' 'sem-non-brand' 'sem-brand' 'remarketing']\n",
            "\n",
            " affiliate_provider : \n",
            " ['direct' 'google' 'facebook' 'vast' 'bing' 'yahoo' 'gsp' 'baidu' 'naver'\n",
            " 'yandex']\n",
            "\n",
            " signup_app : \n",
            " ['Web' 'iOS' 'Moweb' 'Android']\n",
            "\n",
            " country_destination : \n",
            " ['US' 'CA' 'FR' 'IT' 'GB' 'NL' 'ES' 'DE' 'AU' 'PT']\n"
          ],
          "name": "stdout"
        }
      ]
    },
    {
      "cell_type": "code",
      "metadata": {
        "id": "Fe6zLihNGntB",
        "outputId": "9d0539d6-c849-4304-a71d-54378f46b396",
        "colab": {
          "base_uri": "https://localhost:8080/"
        }
      },
      "source": [
        "df_train_usersV1_copy.country_destination.value_counts()"
      ],
      "execution_count": 38,
      "outputs": [
        {
          "output_type": "execute_result",
          "data": {
            "text/plain": [
              "US    38120\n",
              "FR     3141\n",
              "IT     1696\n",
              "GB     1483\n",
              "ES     1449\n",
              "CA      861\n",
              "DE      730\n",
              "NL      503\n",
              "AU      374\n",
              "PT      140\n",
              "Name: country_destination, dtype: int64"
            ]
          },
          "metadata": {
            "tags": []
          },
          "execution_count": 38
        }
      ]
    },
    {
      "cell_type": "markdown",
      "metadata": {
        "id": "YrGWUti-ISXt"
      },
      "source": [
        "convert data to numerical to get corrolation"
      ]
    },
    {
      "cell_type": "code",
      "metadata": {
        "id": "tRdGhzbCIYRm"
      },
      "source": [
        "df_train_usersV1_copy['gender'] = df_train_usersV1_copy['gender'].map({'FEMALE':0, 'MALE':1})\n",
        "df_train_usersV1_copy['signup_method '] = df_train_usersV1_copy['signup_method'].map({'facebook':0, 'basic':1, 'google':2})\n",
        "df_train_usersV1_copy['affiliate_channel '] = df_train_usersV1_copy['affiliate_channel'].map({'seo':0, 'direct':1, 'sem-non-brand':2, 'content':3,\n",
        "                                                                                              'sem-brand':4,'remarketing':5,'api':6})\n",
        "df_train_usersV1_copy['signup_app '] = df_train_usersV1_copy['signup_app'].map({'Web':0, 'Moweb':1, 'iOS':2,'Android':3})\n",
        "df_train_usersV1_copy['country_destination'] = df_train_usersV1_copy['country_destination'].map({'US':0, 'CA':1, 'FR':2, 'IT':3,\n",
        "                                                                                              'ES':4,'GB':5,'PT':6,'NL':7,'DE':8,'AU':9})\n",
        "df_train_usersV1_copy['affiliate_provider'] = df_train_usersV1_copy['affiliate_provider'].map({'google':0, 'direct':1, 'craigslist':2, 'facebook':3,\n",
        "                                                                                              'vast':4,'bing':5,'meetup':6,'facebook-open-graph':7,'email-marketing':8,'yahoo':9,\n",
        "                                                                                               'padmapper':10,'wayn':11,'gsp':12,'baidu':13,'naver':14,'yandex':15})"
      ],
      "execution_count": 39,
      "outputs": []
    },
    {
      "cell_type": "code",
      "metadata": {
        "id": "XN-fFp0JLaWf",
        "outputId": "57481c66-1186-4d78-b968-b6f5a36ec300",
        "colab": {
          "base_uri": "https://localhost:8080/"
        }
      },
      "source": [
        "indexs = df_train_usersV1_copy[df_train_usersV1_copy.age.isnull() == True].index\n",
        "df_train_usersV1_copy.drop(indexs , inplace=True)\n",
        "df_train_usersV1_copy.shape"
      ],
      "execution_count": 40,
      "outputs": [
        {
          "output_type": "execute_result",
          "data": {
            "text/plain": [
              "(45578, 19)"
            ]
          },
          "metadata": {
            "tags": []
          },
          "execution_count": 40
        }
      ]
    },
    {
      "cell_type": "code",
      "metadata": {
        "id": "Po_Qfs1zLX8Y",
        "outputId": "141a4d5d-a128-477b-e53a-7e8e95f2c4ac",
        "colab": {
          "base_uri": "https://localhost:8080/"
        }
      },
      "source": [
        "showInformation(df_train_usersV1_copy)"
      ],
      "execution_count": 41,
      "outputs": [
        {
          "output_type": "stream",
          "text": [
            "\n",
            " shape of data : \n",
            " (45578, 19)\n",
            "\n",
            " columns : \n",
            " Index(['id', 'date_account_created', 'timestamp_first_active',\n",
            "       'date_first_booking', 'gender', 'age', 'signup_method', 'signup_flow',\n",
            "       'language', 'affiliate_channel', 'affiliate_provider',\n",
            "       'first_affiliate_tracked', 'signup_app', 'first_device_type',\n",
            "       'first_browser', 'country_destination', 'signup_method ',\n",
            "       'affiliate_channel ', 'signup_app '],\n",
            "      dtype='object')\n",
            "<class 'pandas.core.frame.DataFrame'>\n",
            "Int64Index: 45578 entries, 2 to 213445\n",
            "Data columns (total 19 columns):\n",
            " #   Column                   Non-Null Count  Dtype  \n",
            "---  ------                   --------------  -----  \n",
            " 0   id                       45578 non-null  object \n",
            " 1   date_account_created     45578 non-null  object \n",
            " 2   timestamp_first_active   45578 non-null  int64  \n",
            " 3   date_first_booking       45578 non-null  object \n",
            " 4   gender                   45578 non-null  int64  \n",
            " 5   age                      45578 non-null  float64\n",
            " 6   signup_method            45578 non-null  object \n",
            " 7   signup_flow              45578 non-null  int64  \n",
            " 8   language                 45578 non-null  object \n",
            " 9   affiliate_channel        45578 non-null  object \n",
            " 10  affiliate_provider       45578 non-null  int64  \n",
            " 11  first_affiliate_tracked  45344 non-null  object \n",
            " 12  signup_app               45578 non-null  object \n",
            " 13  first_device_type        45578 non-null  object \n",
            " 14  first_browser            42862 non-null  object \n",
            " 15  country_destination      45578 non-null  int64  \n",
            " 16  signup_method            45578 non-null  int64  \n",
            " 17  affiliate_channel        45578 non-null  int64  \n",
            " 18  signup_app               45578 non-null  int64  \n",
            "dtypes: float64(1), int64(8), object(10)\n",
            "memory usage: 7.0+ MB\n",
            "\n",
            " dataset info : \n",
            " None\n",
            "\n",
            " dataset datatypes : \n",
            " id                          object\n",
            "date_account_created        object\n",
            "timestamp_first_active       int64\n",
            "date_first_booking          object\n",
            "gender                       int64\n",
            "age                        float64\n",
            "signup_method               object\n",
            "signup_flow                  int64\n",
            "language                    object\n",
            "affiliate_channel           object\n",
            "affiliate_provider           int64\n",
            "first_affiliate_tracked     object\n",
            "signup_app                  object\n",
            "first_device_type           object\n",
            "first_browser               object\n",
            "country_destination          int64\n",
            "signup_method                int64\n",
            "affiliate_channel            int64\n",
            "signup_app                   int64\n",
            "dtype: object\n",
            "\n",
            " sum of null values : \n",
            " id                            0\n",
            "date_account_created          0\n",
            "timestamp_first_active        0\n",
            "date_first_booking            0\n",
            "gender                        0\n",
            "age                           0\n",
            "signup_method                 0\n",
            "signup_flow                   0\n",
            "language                      0\n",
            "affiliate_channel             0\n",
            "affiliate_provider            0\n",
            "first_affiliate_tracked     234\n",
            "signup_app                    0\n",
            "first_device_type             0\n",
            "first_browser              2716\n",
            "country_destination           0\n",
            "signup_method                 0\n",
            "affiliate_channel             0\n",
            "signup_app                    0\n",
            "dtype: int64\n"
          ],
          "name": "stdout"
        }
      ]
    },
    {
      "cell_type": "code",
      "metadata": {
        "id": "E997gbHjMGam"
      },
      "source": [
        ""
      ],
      "execution_count": 41,
      "outputs": []
    },
    {
      "cell_type": "markdown",
      "metadata": {
        "id": "Fy2_IQ6nMNMb"
      },
      "source": [
        "## HeatMap"
      ]
    },
    {
      "cell_type": "code",
      "metadata": {
        "id": "EGJ7TqMHMOwI",
        "outputId": "1d81e413-7425-4ed9-c4ba-3651104b91c8",
        "colab": {
          "base_uri": "https://localhost:8080/",
          "height": 316
        }
      },
      "source": [
        "corr_matrix=df_train_usersV1_copy.corr()\n",
        "corr_matrix"
      ],
      "execution_count": 46,
      "outputs": [
        {
          "output_type": "execute_result",
          "data": {
            "text/html": [
              "<div>\n",
              "<style scoped>\n",
              "    .dataframe tbody tr th:only-of-type {\n",
              "        vertical-align: middle;\n",
              "    }\n",
              "\n",
              "    .dataframe tbody tr th {\n",
              "        vertical-align: top;\n",
              "    }\n",
              "\n",
              "    .dataframe thead th {\n",
              "        text-align: right;\n",
              "    }\n",
              "</style>\n",
              "<table border=\"1\" class=\"dataframe\">\n",
              "  <thead>\n",
              "    <tr style=\"text-align: right;\">\n",
              "      <th></th>\n",
              "      <th>timestamp_first_active</th>\n",
              "      <th>gender</th>\n",
              "      <th>age</th>\n",
              "      <th>signup_flow</th>\n",
              "      <th>affiliate_provider</th>\n",
              "      <th>country_destination</th>\n",
              "      <th>signup_method</th>\n",
              "      <th>affiliate_channel</th>\n",
              "      <th>signup_app</th>\n",
              "    </tr>\n",
              "  </thead>\n",
              "  <tbody>\n",
              "    <tr>\n",
              "      <th>timestamp_first_active</th>\n",
              "      <td>1.000000</td>\n",
              "      <td>0.004707</td>\n",
              "      <td>-0.065968</td>\n",
              "      <td>0.142718</td>\n",
              "      <td>-0.026613</td>\n",
              "      <td>-0.037432</td>\n",
              "      <td>0.062647</td>\n",
              "      <td>0.107094</td>\n",
              "      <td>0.204199</td>\n",
              "    </tr>\n",
              "    <tr>\n",
              "      <th>gender</th>\n",
              "      <td>0.004707</td>\n",
              "      <td>1.000000</td>\n",
              "      <td>0.034376</td>\n",
              "      <td>0.006239</td>\n",
              "      <td>0.013187</td>\n",
              "      <td>-0.000852</td>\n",
              "      <td>-0.052992</td>\n",
              "      <td>-0.045574</td>\n",
              "      <td>0.019406</td>\n",
              "    </tr>\n",
              "    <tr>\n",
              "      <th>age</th>\n",
              "      <td>-0.065968</td>\n",
              "      <td>0.034376</td>\n",
              "      <td>1.000000</td>\n",
              "      <td>-0.063568</td>\n",
              "      <td>-0.020515</td>\n",
              "      <td>0.021403</td>\n",
              "      <td>0.081930</td>\n",
              "      <td>0.111955</td>\n",
              "      <td>-0.065360</td>\n",
              "    </tr>\n",
              "    <tr>\n",
              "      <th>signup_flow</th>\n",
              "      <td>0.142718</td>\n",
              "      <td>0.006239</td>\n",
              "      <td>-0.063568</td>\n",
              "      <td>1.000000</td>\n",
              "      <td>0.055938</td>\n",
              "      <td>-0.032285</td>\n",
              "      <td>0.097148</td>\n",
              "      <td>-0.118544</td>\n",
              "      <td>0.901601</td>\n",
              "    </tr>\n",
              "    <tr>\n",
              "      <th>affiliate_provider</th>\n",
              "      <td>-0.026613</td>\n",
              "      <td>0.013187</td>\n",
              "      <td>-0.020515</td>\n",
              "      <td>0.055938</td>\n",
              "      <td>1.000000</td>\n",
              "      <td>-0.007110</td>\n",
              "      <td>-0.011354</td>\n",
              "      <td>-0.374739</td>\n",
              "      <td>0.056121</td>\n",
              "    </tr>\n",
              "    <tr>\n",
              "      <th>country_destination</th>\n",
              "      <td>-0.037432</td>\n",
              "      <td>-0.000852</td>\n",
              "      <td>0.021403</td>\n",
              "      <td>-0.032285</td>\n",
              "      <td>-0.007110</td>\n",
              "      <td>1.000000</td>\n",
              "      <td>-0.003953</td>\n",
              "      <td>0.010033</td>\n",
              "      <td>-0.035657</td>\n",
              "    </tr>\n",
              "    <tr>\n",
              "      <th>signup_method</th>\n",
              "      <td>0.062647</td>\n",
              "      <td>-0.052992</td>\n",
              "      <td>0.081930</td>\n",
              "      <td>0.097148</td>\n",
              "      <td>-0.011354</td>\n",
              "      <td>-0.003953</td>\n",
              "      <td>1.000000</td>\n",
              "      <td>0.011383</td>\n",
              "      <td>0.084745</td>\n",
              "    </tr>\n",
              "    <tr>\n",
              "      <th>affiliate_channel</th>\n",
              "      <td>0.107094</td>\n",
              "      <td>-0.045574</td>\n",
              "      <td>0.111955</td>\n",
              "      <td>-0.118544</td>\n",
              "      <td>-0.374739</td>\n",
              "      <td>0.010033</td>\n",
              "      <td>0.011383</td>\n",
              "      <td>1.000000</td>\n",
              "      <td>-0.111517</td>\n",
              "    </tr>\n",
              "    <tr>\n",
              "      <th>signup_app</th>\n",
              "      <td>0.204199</td>\n",
              "      <td>0.019406</td>\n",
              "      <td>-0.065360</td>\n",
              "      <td>0.901601</td>\n",
              "      <td>0.056121</td>\n",
              "      <td>-0.035657</td>\n",
              "      <td>0.084745</td>\n",
              "      <td>-0.111517</td>\n",
              "      <td>1.000000</td>\n",
              "    </tr>\n",
              "  </tbody>\n",
              "</table>\n",
              "</div>"
            ],
            "text/plain": [
              "                        timestamp_first_active  ...  signup_app \n",
              "timestamp_first_active                1.000000  ...     0.204199\n",
              "gender                                0.004707  ...     0.019406\n",
              "age                                  -0.065968  ...    -0.065360\n",
              "signup_flow                           0.142718  ...     0.901601\n",
              "affiliate_provider                   -0.026613  ...     0.056121\n",
              "country_destination                  -0.037432  ...    -0.035657\n",
              "signup_method                         0.062647  ...     0.084745\n",
              "affiliate_channel                     0.107094  ...    -0.111517\n",
              "signup_app                            0.204199  ...     1.000000\n",
              "\n",
              "[9 rows x 9 columns]"
            ]
          },
          "metadata": {
            "tags": []
          },
          "execution_count": 46
        }
      ]
    },
    {
      "cell_type": "code",
      "metadata": {
        "id": "8tPOpAxnMYzT",
        "outputId": "470bb249-1bad-47b1-a06f-639738157baf",
        "colab": {
          "base_uri": "https://localhost:8080/"
        }
      },
      "source": [
        "corr_matrix['country_destination'].sort_values(ascending=False)"
      ],
      "execution_count": 47,
      "outputs": [
        {
          "output_type": "execute_result",
          "data": {
            "text/plain": [
              "country_destination       1.000000\n",
              "age                       0.021403\n",
              "affiliate_channel         0.010033\n",
              "gender                   -0.000852\n",
              "signup_method            -0.003953\n",
              "affiliate_provider       -0.007110\n",
              "signup_flow              -0.032285\n",
              "signup_app               -0.035657\n",
              "timestamp_first_active   -0.037432\n",
              "Name: country_destination, dtype: float64"
            ]
          },
          "metadata": {
            "tags": []
          },
          "execution_count": 47
        }
      ]
    },
    {
      "cell_type": "code",
      "metadata": {
        "id": "lzyKWWZWMwrD",
        "outputId": "04751a7b-1293-4584-b746-718500baac17",
        "colab": {
          "base_uri": "https://localhost:8080/",
          "height": 1000
        }
      },
      "source": [
        "plt.figure(figsize=(20,15))\n",
        "sns.heatmap(df_train_usersV1_copy.corr(),annot=True)"
      ],
      "execution_count": 48,
      "outputs": [
        {
          "output_type": "execute_result",
          "data": {
            "text/plain": [
              "<matplotlib.axes._subplots.AxesSubplot at 0x7f0ec9b16b70>"
            ]
          },
          "metadata": {
            "tags": []
          },
          "execution_count": 48
        },
        {
          "output_type": "display_data",
          "data": {
            "image/png": "[encoded data removed]",
            "text/plain": [
              "<Figure size 1440x1080 with 2 Axes>"
            ]
          },
          "metadata": {
            "tags": [],
            "needs_background": "light"
          }
        }
      ]
    },
    {
      "cell_type": "code",
      "metadata": {
        "id": "GyBj34nQXtId"
      },
      "source": [
        ""
      ],
      "execution_count": 49,
      "outputs": []
    },
    {
      "cell_type": "markdown",
      "metadata": {
        "id": "-T4fbO_tclbm"
      },
      "source": [
        "# prepare Main data for visualization"
      ]
    },
    {
      "cell_type": "code",
      "metadata": {
        "id": "DIVILy-Icrdd",
        "outputId": "930c2310-6d44-440a-fe6c-d329ab38f0da",
        "colab": {
          "base_uri": "https://localhost:8080/"
        }
      },
      "source": [
        "df_train_users = pd.read_csv(\"/content/drive/My Drive/vodafoneTask/datasets/train_users.csv\") \n",
        "df_test_users = pd.read_csv(\"/content/drive/My Drive/vodafoneTask/datasets/test_users.csv\")\n",
        "df_train_users.shape , df_test_users.shape "
      ],
      "execution_count": 85,
      "outputs": [
        {
          "output_type": "execute_result",
          "data": {
            "text/plain": [
              "((213451, 16), (62096, 15))"
            ]
          },
          "metadata": {
            "tags": []
          },
          "execution_count": 85
        }
      ]
    },
    {
      "cell_type": "code",
      "metadata": {
        "id": "y6RRVIyscyPE",
        "outputId": "ac3641d4-6caa-4660-8743-c18207512b9d",
        "colab": {
          "base_uri": "https://localhost:8080/",
          "height": 251
        }
      },
      "source": [
        "df_train_users.head()"
      ],
      "execution_count": 86,
      "outputs": [
        {
          "output_type": "execute_result",
          "data": {
            "text/html": [
              "<div>\n",
              "<style scoped>\n",
              "    .dataframe tbody tr th:only-of-type {\n",
              "        vertical-align: middle;\n",
              "    }\n",
              "\n",
              "    .dataframe tbody tr th {\n",
              "        vertical-align: top;\n",
              "    }\n",
              "\n",
              "    .dataframe thead th {\n",
              "        text-align: right;\n",
              "    }\n",
              "</style>\n",
              "<table border=\"1\" class=\"dataframe\">\n",
              "  <thead>\n",
              "    <tr style=\"text-align: right;\">\n",
              "      <th></th>\n",
              "      <th>id</th>\n",
              "      <th>date_account_created</th>\n",
              "      <th>timestamp_first_active</th>\n",
              "      <th>date_first_booking</th>\n",
              "      <th>gender</th>\n",
              "      <th>age</th>\n",
              "      <th>signup_method</th>\n",
              "      <th>signup_flow</th>\n",
              "      <th>language</th>\n",
              "      <th>affiliate_channel</th>\n",
              "      <th>affiliate_provider</th>\n",
              "      <th>first_affiliate_tracked</th>\n",
              "      <th>signup_app</th>\n",
              "      <th>first_device_type</th>\n",
              "      <th>first_browser</th>\n",
              "      <th>country_destination</th>\n",
              "    </tr>\n",
              "  </thead>\n",
              "  <tbody>\n",
              "    <tr>\n",
              "      <th>0</th>\n",
              "      <td>gxn3p5htnn</td>\n",
              "      <td>2010-06-28</td>\n",
              "      <td>20090319043255</td>\n",
              "      <td>NaN</td>\n",
              "      <td>-unknown-</td>\n",
              "      <td>NaN</td>\n",
              "      <td>facebook</td>\n",
              "      <td>0</td>\n",
              "      <td>en</td>\n",
              "      <td>direct</td>\n",
              "      <td>direct</td>\n",
              "      <td>untracked</td>\n",
              "      <td>Web</td>\n",
              "      <td>Mac Desktop</td>\n",
              "      <td>Chrome</td>\n",
              "      <td>NDF</td>\n",
              "    </tr>\n",
              "    <tr>\n",
              "      <th>1</th>\n",
              "      <td>820tgsjxq7</td>\n",
              "      <td>2011-05-25</td>\n",
              "      <td>20090523174809</td>\n",
              "      <td>NaN</td>\n",
              "      <td>MALE</td>\n",
              "      <td>38.0</td>\n",
              "      <td>facebook</td>\n",
              "      <td>0</td>\n",
              "      <td>en</td>\n",
              "      <td>seo</td>\n",
              "      <td>google</td>\n",
              "      <td>untracked</td>\n",
              "      <td>Web</td>\n",
              "      <td>Mac Desktop</td>\n",
              "      <td>Chrome</td>\n",
              "      <td>NDF</td>\n",
              "    </tr>\n",
              "    <tr>\n",
              "      <th>2</th>\n",
              "      <td>4ft3gnwmtx</td>\n",
              "      <td>2010-09-28</td>\n",
              "      <td>20090609231247</td>\n",
              "      <td>2010-08-02</td>\n",
              "      <td>FEMALE</td>\n",
              "      <td>56.0</td>\n",
              "      <td>basic</td>\n",
              "      <td>3</td>\n",
              "      <td>en</td>\n",
              "      <td>direct</td>\n",
              "      <td>direct</td>\n",
              "      <td>untracked</td>\n",
              "      <td>Web</td>\n",
              "      <td>Windows Desktop</td>\n",
              "      <td>IE</td>\n",
              "      <td>US</td>\n",
              "    </tr>\n",
              "    <tr>\n",
              "      <th>3</th>\n",
              "      <td>bjjt8pjhuk</td>\n",
              "      <td>2011-12-05</td>\n",
              "      <td>20091031060129</td>\n",
              "      <td>2012-09-08</td>\n",
              "      <td>FEMALE</td>\n",
              "      <td>42.0</td>\n",
              "      <td>facebook</td>\n",
              "      <td>0</td>\n",
              "      <td>en</td>\n",
              "      <td>direct</td>\n",
              "      <td>direct</td>\n",
              "      <td>untracked</td>\n",
              "      <td>Web</td>\n",
              "      <td>Mac Desktop</td>\n",
              "      <td>Firefox</td>\n",
              "      <td>other</td>\n",
              "    </tr>\n",
              "    <tr>\n",
              "      <th>4</th>\n",
              "      <td>87mebub9p4</td>\n",
              "      <td>2010-09-14</td>\n",
              "      <td>20091208061105</td>\n",
              "      <td>2010-02-18</td>\n",
              "      <td>-unknown-</td>\n",
              "      <td>41.0</td>\n",
              "      <td>basic</td>\n",
              "      <td>0</td>\n",
              "      <td>en</td>\n",
              "      <td>direct</td>\n",
              "      <td>direct</td>\n",
              "      <td>untracked</td>\n",
              "      <td>Web</td>\n",
              "      <td>Mac Desktop</td>\n",
              "      <td>Chrome</td>\n",
              "      <td>US</td>\n",
              "    </tr>\n",
              "  </tbody>\n",
              "</table>\n",
              "</div>"
            ],
            "text/plain": [
              "           id date_account_created  ...  first_browser country_destination\n",
              "0  gxn3p5htnn           2010-06-28  ...         Chrome                 NDF\n",
              "1  820tgsjxq7           2011-05-25  ...         Chrome                 NDF\n",
              "2  4ft3gnwmtx           2010-09-28  ...             IE                  US\n",
              "3  bjjt8pjhuk           2011-12-05  ...        Firefox               other\n",
              "4  87mebub9p4           2010-09-14  ...         Chrome                  US\n",
              "\n",
              "[5 rows x 16 columns]"
            ]
          },
          "metadata": {
            "tags": []
          },
          "execution_count": 86
        }
      ]
    },
    {
      "cell_type": "code",
      "metadata": {
        "id": "F-07V9-Ic9c2",
        "outputId": "792e9a9d-9b2b-446f-ae2e-8517e6f3dbd5",
        "colab": {
          "base_uri": "https://localhost:8080/",
          "height": 285
        }
      },
      "source": [
        "df_test_users.head()"
      ],
      "execution_count": 87,
      "outputs": [
        {
          "output_type": "execute_result",
          "data": {
            "text/html": [
              "<div>\n",
              "<style scoped>\n",
              "    .dataframe tbody tr th:only-of-type {\n",
              "        vertical-align: middle;\n",
              "    }\n",
              "\n",
              "    .dataframe tbody tr th {\n",
              "        vertical-align: top;\n",
              "    }\n",
              "\n",
              "    .dataframe thead th {\n",
              "        text-align: right;\n",
              "    }\n",
              "</style>\n",
              "<table border=\"1\" class=\"dataframe\">\n",
              "  <thead>\n",
              "    <tr style=\"text-align: right;\">\n",
              "      <th></th>\n",
              "      <th>id</th>\n",
              "      <th>date_account_created</th>\n",
              "      <th>timestamp_first_active</th>\n",
              "      <th>date_first_booking</th>\n",
              "      <th>gender</th>\n",
              "      <th>age</th>\n",
              "      <th>signup_method</th>\n",
              "      <th>signup_flow</th>\n",
              "      <th>language</th>\n",
              "      <th>affiliate_channel</th>\n",
              "      <th>affiliate_provider</th>\n",
              "      <th>first_affiliate_tracked</th>\n",
              "      <th>signup_app</th>\n",
              "      <th>first_device_type</th>\n",
              "      <th>first_browser</th>\n",
              "    </tr>\n",
              "  </thead>\n",
              "  <tbody>\n",
              "    <tr>\n",
              "      <th>0</th>\n",
              "      <td>5uwns89zht</td>\n",
              "      <td>2014-07-01</td>\n",
              "      <td>20140701000006</td>\n",
              "      <td>NaN</td>\n",
              "      <td>FEMALE</td>\n",
              "      <td>35.0</td>\n",
              "      <td>facebook</td>\n",
              "      <td>0</td>\n",
              "      <td>en</td>\n",
              "      <td>direct</td>\n",
              "      <td>direct</td>\n",
              "      <td>untracked</td>\n",
              "      <td>Moweb</td>\n",
              "      <td>iPhone</td>\n",
              "      <td>Mobile Safari</td>\n",
              "    </tr>\n",
              "    <tr>\n",
              "      <th>1</th>\n",
              "      <td>jtl0dijy2j</td>\n",
              "      <td>2014-07-01</td>\n",
              "      <td>20140701000051</td>\n",
              "      <td>NaN</td>\n",
              "      <td>-unknown-</td>\n",
              "      <td>NaN</td>\n",
              "      <td>basic</td>\n",
              "      <td>0</td>\n",
              "      <td>en</td>\n",
              "      <td>direct</td>\n",
              "      <td>direct</td>\n",
              "      <td>untracked</td>\n",
              "      <td>Moweb</td>\n",
              "      <td>iPhone</td>\n",
              "      <td>Mobile Safari</td>\n",
              "    </tr>\n",
              "    <tr>\n",
              "      <th>2</th>\n",
              "      <td>xx0ulgorjt</td>\n",
              "      <td>2014-07-01</td>\n",
              "      <td>20140701000148</td>\n",
              "      <td>NaN</td>\n",
              "      <td>-unknown-</td>\n",
              "      <td>NaN</td>\n",
              "      <td>basic</td>\n",
              "      <td>0</td>\n",
              "      <td>en</td>\n",
              "      <td>direct</td>\n",
              "      <td>direct</td>\n",
              "      <td>linked</td>\n",
              "      <td>Web</td>\n",
              "      <td>Windows Desktop</td>\n",
              "      <td>Chrome</td>\n",
              "    </tr>\n",
              "    <tr>\n",
              "      <th>3</th>\n",
              "      <td>6c6puo6ix0</td>\n",
              "      <td>2014-07-01</td>\n",
              "      <td>20140701000215</td>\n",
              "      <td>NaN</td>\n",
              "      <td>-unknown-</td>\n",
              "      <td>NaN</td>\n",
              "      <td>basic</td>\n",
              "      <td>0</td>\n",
              "      <td>en</td>\n",
              "      <td>direct</td>\n",
              "      <td>direct</td>\n",
              "      <td>linked</td>\n",
              "      <td>Web</td>\n",
              "      <td>Windows Desktop</td>\n",
              "      <td>IE</td>\n",
              "    </tr>\n",
              "    <tr>\n",
              "      <th>4</th>\n",
              "      <td>czqhjk3yfe</td>\n",
              "      <td>2014-07-01</td>\n",
              "      <td>20140701000305</td>\n",
              "      <td>NaN</td>\n",
              "      <td>-unknown-</td>\n",
              "      <td>NaN</td>\n",
              "      <td>basic</td>\n",
              "      <td>0</td>\n",
              "      <td>en</td>\n",
              "      <td>direct</td>\n",
              "      <td>direct</td>\n",
              "      <td>untracked</td>\n",
              "      <td>Web</td>\n",
              "      <td>Mac Desktop</td>\n",
              "      <td>Safari</td>\n",
              "    </tr>\n",
              "  </tbody>\n",
              "</table>\n",
              "</div>"
            ],
            "text/plain": [
              "           id date_account_created  ...  first_device_type  first_browser\n",
              "0  5uwns89zht           2014-07-01  ...             iPhone  Mobile Safari\n",
              "1  jtl0dijy2j           2014-07-01  ...             iPhone  Mobile Safari\n",
              "2  xx0ulgorjt           2014-07-01  ...    Windows Desktop         Chrome\n",
              "3  6c6puo6ix0           2014-07-01  ...    Windows Desktop             IE\n",
              "4  czqhjk3yfe           2014-07-01  ...        Mac Desktop         Safari\n",
              "\n",
              "[5 rows x 15 columns]"
            ]
          },
          "metadata": {
            "tags": []
          },
          "execution_count": 87
        }
      ]
    },
    {
      "cell_type": "code",
      "metadata": {
        "id": "8hndx4jodmhX",
        "outputId": "e6133e25-dbe5-4806-b200-0dc07c5a469b",
        "colab": {
          "base_uri": "https://localhost:8080/"
        }
      },
      "source": [
        "train_country_destination = df_train_users['country_destination'].values\n",
        "test_users_id = df_test_users.id\n",
        "\n",
        "df_all_users =pd.concat((df_train_users, df_test_users), axis = 0, ignore_index = True, sort = True)\n",
        "df_all_users.shape"
      ],
      "execution_count": 88,
      "outputs": [
        {
          "output_type": "execute_result",
          "data": {
            "text/plain": [
              "(275547, 16)"
            ]
          },
          "metadata": {
            "tags": []
          },
          "execution_count": 88
        }
      ]
    },
    {
      "cell_type": "code",
      "metadata": {
        "id": "P1R-vTKgfAl4",
        "outputId": "93d2fc12-bf0d-4195-acc3-9d7223b93f52",
        "colab": {
          "base_uri": "https://localhost:8080/",
          "height": 251
        }
      },
      "source": [
        "df_all_users.head()"
      ],
      "execution_count": 89,
      "outputs": [
        {
          "output_type": "execute_result",
          "data": {
            "text/html": [
              "<div>\n",
              "<style scoped>\n",
              "    .dataframe tbody tr th:only-of-type {\n",
              "        vertical-align: middle;\n",
              "    }\n",
              "\n",
              "    .dataframe tbody tr th {\n",
              "        vertical-align: top;\n",
              "    }\n",
              "\n",
              "    .dataframe thead th {\n",
              "        text-align: right;\n",
              "    }\n",
              "</style>\n",
              "<table border=\"1\" class=\"dataframe\">\n",
              "  <thead>\n",
              "    <tr style=\"text-align: right;\">\n",
              "      <th></th>\n",
              "      <th>affiliate_channel</th>\n",
              "      <th>affiliate_provider</th>\n",
              "      <th>age</th>\n",
              "      <th>country_destination</th>\n",
              "      <th>date_account_created</th>\n",
              "      <th>date_first_booking</th>\n",
              "      <th>first_affiliate_tracked</th>\n",
              "      <th>first_browser</th>\n",
              "      <th>first_device_type</th>\n",
              "      <th>gender</th>\n",
              "      <th>id</th>\n",
              "      <th>language</th>\n",
              "      <th>signup_app</th>\n",
              "      <th>signup_flow</th>\n",
              "      <th>signup_method</th>\n",
              "      <th>timestamp_first_active</th>\n",
              "    </tr>\n",
              "  </thead>\n",
              "  <tbody>\n",
              "    <tr>\n",
              "      <th>0</th>\n",
              "      <td>direct</td>\n",
              "      <td>direct</td>\n",
              "      <td>NaN</td>\n",
              "      <td>NDF</td>\n",
              "      <td>2010-06-28</td>\n",
              "      <td>NaN</td>\n",
              "      <td>untracked</td>\n",
              "      <td>Chrome</td>\n",
              "      <td>Mac Desktop</td>\n",
              "      <td>-unknown-</td>\n",
              "      <td>gxn3p5htnn</td>\n",
              "      <td>en</td>\n",
              "      <td>Web</td>\n",
              "      <td>0</td>\n",
              "      <td>facebook</td>\n",
              "      <td>20090319043255</td>\n",
              "    </tr>\n",
              "    <tr>\n",
              "      <th>1</th>\n",
              "      <td>seo</td>\n",
              "      <td>google</td>\n",
              "      <td>38.0</td>\n",
              "      <td>NDF</td>\n",
              "      <td>2011-05-25</td>\n",
              "      <td>NaN</td>\n",
              "      <td>untracked</td>\n",
              "      <td>Chrome</td>\n",
              "      <td>Mac Desktop</td>\n",
              "      <td>MALE</td>\n",
              "      <td>820tgsjxq7</td>\n",
              "      <td>en</td>\n",
              "      <td>Web</td>\n",
              "      <td>0</td>\n",
              "      <td>facebook</td>\n",
              "      <td>20090523174809</td>\n",
              "    </tr>\n",
              "    <tr>\n",
              "      <th>2</th>\n",
              "      <td>direct</td>\n",
              "      <td>direct</td>\n",
              "      <td>56.0</td>\n",
              "      <td>US</td>\n",
              "      <td>2010-09-28</td>\n",
              "      <td>2010-08-02</td>\n",
              "      <td>untracked</td>\n",
              "      <td>IE</td>\n",
              "      <td>Windows Desktop</td>\n",
              "      <td>FEMALE</td>\n",
              "      <td>4ft3gnwmtx</td>\n",
              "      <td>en</td>\n",
              "      <td>Web</td>\n",
              "      <td>3</td>\n",
              "      <td>basic</td>\n",
              "      <td>20090609231247</td>\n",
              "    </tr>\n",
              "    <tr>\n",
              "      <th>3</th>\n",
              "      <td>direct</td>\n",
              "      <td>direct</td>\n",
              "      <td>42.0</td>\n",
              "      <td>other</td>\n",
              "      <td>2011-12-05</td>\n",
              "      <td>2012-09-08</td>\n",
              "      <td>untracked</td>\n",
              "      <td>Firefox</td>\n",
              "      <td>Mac Desktop</td>\n",
              "      <td>FEMALE</td>\n",
              "      <td>bjjt8pjhuk</td>\n",
              "      <td>en</td>\n",
              "      <td>Web</td>\n",
              "      <td>0</td>\n",
              "      <td>facebook</td>\n",
              "      <td>20091031060129</td>\n",
              "    </tr>\n",
              "    <tr>\n",
              "      <th>4</th>\n",
              "      <td>direct</td>\n",
              "      <td>direct</td>\n",
              "      <td>41.0</td>\n",
              "      <td>US</td>\n",
              "      <td>2010-09-14</td>\n",
              "      <td>2010-02-18</td>\n",
              "      <td>untracked</td>\n",
              "      <td>Chrome</td>\n",
              "      <td>Mac Desktop</td>\n",
              "      <td>-unknown-</td>\n",
              "      <td>87mebub9p4</td>\n",
              "      <td>en</td>\n",
              "      <td>Web</td>\n",
              "      <td>0</td>\n",
              "      <td>basic</td>\n",
              "      <td>20091208061105</td>\n",
              "    </tr>\n",
              "  </tbody>\n",
              "</table>\n",
              "</div>"
            ],
            "text/plain": [
              "  affiliate_channel affiliate_provider  ...  signup_method timestamp_first_active\n",
              "0            direct             direct  ...       facebook         20090319043255\n",
              "1               seo             google  ...       facebook         20090523174809\n",
              "2            direct             direct  ...          basic         20090609231247\n",
              "3            direct             direct  ...       facebook         20091031060129\n",
              "4            direct             direct  ...          basic         20091208061105\n",
              "\n",
              "[5 rows x 16 columns]"
            ]
          },
          "metadata": {
            "tags": []
          },
          "execution_count": 89
        }
      ]
    },
    {
      "cell_type": "code",
      "metadata": {
        "id": "kC8QmBn3hjA5",
        "outputId": "60bc7bf1-87b2-4f14-aa5b-b4f248cfe618",
        "colab": {
          "base_uri": "https://localhost:8080/"
        }
      },
      "source": [
        "df_all_users.columns"
      ],
      "execution_count": 90,
      "outputs": [
        {
          "output_type": "execute_result",
          "data": {
            "text/plain": [
              "Index(['affiliate_channel', 'affiliate_provider', 'age', 'country_destination',\n",
              "       'date_account_created', 'date_first_booking', 'first_affiliate_tracked',\n",
              "       'first_browser', 'first_device_type', 'gender', 'id', 'language',\n",
              "       'signup_app', 'signup_flow', 'signup_method', 'timestamp_first_active'],\n",
              "      dtype='object')"
            ]
          },
          "metadata": {
            "tags": []
          },
          "execution_count": 90
        }
      ]
    },
    {
      "cell_type": "code",
      "metadata": {
        "id": "Gf3DA_w_hoRK",
        "outputId": "3a1361b7-3706-4c72-8ab6-58e386804f42",
        "colab": {
          "base_uri": "https://localhost:8080/"
        }
      },
      "source": [
        "df_all_users.shape"
      ],
      "execution_count": 91,
      "outputs": [
        {
          "output_type": "execute_result",
          "data": {
            "text/plain": [
              "(275547, 16)"
            ]
          },
          "metadata": {
            "tags": []
          },
          "execution_count": 91
        }
      ]
    },
    {
      "cell_type": "code",
      "metadata": {
        "id": "QOwRd-ZTgO-j",
        "outputId": "40d65486-09c5-4001-9229-fc9683674a9a",
        "colab": {
          "base_uri": "https://localhost:8080/"
        }
      },
      "source": [
        "showInformation(df_all_users)"
      ],
      "execution_count": 93,
      "outputs": [
        {
          "output_type": "stream",
          "text": [
            "\n",
            " shape of data : \n",
            " (275547, 16)\n",
            "\n",
            " columns : \n",
            " Index(['affiliate_channel', 'affiliate_provider', 'age', 'country_destination',\n",
            "       'date_account_created', 'date_first_booking', 'first_affiliate_tracked',\n",
            "       'first_browser', 'first_device_type', 'gender', 'id', 'language',\n",
            "       'signup_app', 'signup_flow', 'signup_method', 'timestamp_first_active'],\n",
            "      dtype='object')\n",
            "<class 'pandas.core.frame.DataFrame'>\n",
            "RangeIndex: 275547 entries, 0 to 275546\n",
            "Data columns (total 16 columns):\n",
            " #   Column                   Non-Null Count   Dtype  \n",
            "---  ------                   --------------   -----  \n",
            " 0   affiliate_channel        275547 non-null  object \n",
            " 1   affiliate_provider       275547 non-null  object \n",
            " 2   age                      158681 non-null  float64\n",
            " 3   country_destination      213451 non-null  object \n",
            " 4   date_account_created     275547 non-null  object \n",
            " 5   date_first_booking       88908 non-null   object \n",
            " 6   first_affiliate_tracked  269462 non-null  object \n",
            " 7   first_browser            275547 non-null  object \n",
            " 8   first_device_type        275547 non-null  object \n",
            " 9   gender                   275547 non-null  object \n",
            " 10  id                       275547 non-null  object \n",
            " 11  language                 275547 non-null  object \n",
            " 12  signup_app               275547 non-null  object \n",
            " 13  signup_flow              275547 non-null  int64  \n",
            " 14  signup_method            275547 non-null  object \n",
            " 15  timestamp_first_active   275547 non-null  int64  \n",
            "dtypes: float64(1), int64(2), object(13)\n",
            "memory usage: 33.6+ MB\n",
            "\n",
            " dataset info : \n",
            " None\n",
            "\n",
            " dataset datatypes : \n",
            " affiliate_channel           object\n",
            "affiliate_provider          object\n",
            "age                        float64\n",
            "country_destination         object\n",
            "date_account_created        object\n",
            "date_first_booking          object\n",
            "first_affiliate_tracked     object\n",
            "first_browser               object\n",
            "first_device_type           object\n",
            "gender                      object\n",
            "id                          object\n",
            "language                    object\n",
            "signup_app                  object\n",
            "signup_flow                  int64\n",
            "signup_method               object\n",
            "timestamp_first_active       int64\n",
            "dtype: object\n",
            "\n",
            " sum of null values : \n",
            " affiliate_channel               0\n",
            "affiliate_provider              0\n",
            "age                        116866\n",
            "country_destination         62096\n",
            "date_account_created            0\n",
            "date_first_booking         186639\n",
            "first_affiliate_tracked      6085\n",
            "first_browser                   0\n",
            "first_device_type               0\n",
            "gender                          0\n",
            "id                              0\n",
            "language                        0\n",
            "signup_app                      0\n",
            "signup_flow                     0\n",
            "signup_method                   0\n",
            "timestamp_first_active          0\n",
            "dtype: int64\n"
          ],
          "name": "stdout"
        }
      ]
    },
    {
      "cell_type": "code",
      "metadata": {
        "id": "7LraEl1HgWgu",
        "outputId": "2e1557d5-4afb-4365-a49c-35c402220ab1",
        "colab": {
          "base_uri": "https://localhost:8080/"
        }
      },
      "source": [
        "df_all_users = df_all_users.drop(['id','country_destination','date_first_booking'], axis = 1)\n",
        "df_all_users.shape"
      ],
      "execution_count": 94,
      "outputs": [
        {
          "output_type": "execute_result",
          "data": {
            "text/plain": [
              "(275547, 13)"
            ]
          },
          "metadata": {
            "tags": []
          },
          "execution_count": 94
        }
      ]
    },
    {
      "cell_type": "code",
      "metadata": {
        "id": "BcvklPJ5k_a_"
      },
      "source": [
        "df_all_users.loc[df_all_users.age > 110, 'age'] = np.nan\n",
        "df_all_users.loc[df_all_users.age < 18, 'age'] = np.nan"
      ],
      "execution_count": 96,
      "outputs": []
    },
    {
      "cell_type": "code",
      "metadata": {
        "id": "WFwevtJ7lTFy"
      },
      "source": [
        "categorical_features = [\n",
        "    'affiliate_channel',\n",
        "    'affiliate_provider',\n",
        "    'first_affiliate_tracked',\n",
        "    'first_browser',\n",
        "    'first_device_type',\n",
        "    'gender',\n",
        "    'language',\n",
        "    'signup_app',\n",
        "    'signup_method',\n",
        "    'signup_flow'\n",
        "]\n",
        "\n",
        "for categorical_feature in categorical_features:\n",
        "    df_all_users[categorical_feature] = df_all_users[categorical_feature].astype('category')"
      ],
      "execution_count": 97,
      "outputs": []
    },
    {
      "cell_type": "code",
      "metadata": {
        "id": "Q4jEJ3dnlj3t"
      },
      "source": [
        "df_all_users['date_account_created'] = pd.to_datetime(df_all_users['date_account_created'])\n",
        "df_all_users['timestamp_first_active'] = pd.to_datetime(df_all_users['timestamp_first_active'], format='%Y%m%d%H%M%S')"
      ],
      "execution_count": 98,
      "outputs": []
    },
    {
      "cell_type": "code",
      "metadata": {
        "id": "rhqsNJsqlo7U",
        "outputId": "890de6a1-1e7c-43bc-b3a8-ed6fc3aa8130",
        "colab": {
          "base_uri": "https://localhost:8080/",
          "height": 231
        }
      },
      "source": [
        "df_all_users.head()"
      ],
      "execution_count": 99,
      "outputs": [
        {
          "output_type": "execute_result",
          "data": {
            "text/html": [
              "<div>\n",
              "<style scoped>\n",
              "    .dataframe tbody tr th:only-of-type {\n",
              "        vertical-align: middle;\n",
              "    }\n",
              "\n",
              "    .dataframe tbody tr th {\n",
              "        vertical-align: top;\n",
              "    }\n",
              "\n",
              "    .dataframe thead th {\n",
              "        text-align: right;\n",
              "    }\n",
              "</style>\n",
              "<table border=\"1\" class=\"dataframe\">\n",
              "  <thead>\n",
              "    <tr style=\"text-align: right;\">\n",
              "      <th></th>\n",
              "      <th>affiliate_channel</th>\n",
              "      <th>affiliate_provider</th>\n",
              "      <th>age</th>\n",
              "      <th>date_account_created</th>\n",
              "      <th>first_affiliate_tracked</th>\n",
              "      <th>first_browser</th>\n",
              "      <th>first_device_type</th>\n",
              "      <th>gender</th>\n",
              "      <th>language</th>\n",
              "      <th>signup_app</th>\n",
              "      <th>signup_flow</th>\n",
              "      <th>signup_method</th>\n",
              "      <th>timestamp_first_active</th>\n",
              "    </tr>\n",
              "  </thead>\n",
              "  <tbody>\n",
              "    <tr>\n",
              "      <th>0</th>\n",
              "      <td>direct</td>\n",
              "      <td>direct</td>\n",
              "      <td>NaN</td>\n",
              "      <td>2010-06-28</td>\n",
              "      <td>untracked</td>\n",
              "      <td>Chrome</td>\n",
              "      <td>Mac Desktop</td>\n",
              "      <td>-unknown-</td>\n",
              "      <td>en</td>\n",
              "      <td>Web</td>\n",
              "      <td>0</td>\n",
              "      <td>facebook</td>\n",
              "      <td>2009-03-19 04:32:55</td>\n",
              "    </tr>\n",
              "    <tr>\n",
              "      <th>1</th>\n",
              "      <td>seo</td>\n",
              "      <td>google</td>\n",
              "      <td>38.0</td>\n",
              "      <td>2011-05-25</td>\n",
              "      <td>untracked</td>\n",
              "      <td>Chrome</td>\n",
              "      <td>Mac Desktop</td>\n",
              "      <td>MALE</td>\n",
              "      <td>en</td>\n",
              "      <td>Web</td>\n",
              "      <td>0</td>\n",
              "      <td>facebook</td>\n",
              "      <td>2009-05-23 17:48:09</td>\n",
              "    </tr>\n",
              "    <tr>\n",
              "      <th>2</th>\n",
              "      <td>direct</td>\n",
              "      <td>direct</td>\n",
              "      <td>56.0</td>\n",
              "      <td>2010-09-28</td>\n",
              "      <td>untracked</td>\n",
              "      <td>IE</td>\n",
              "      <td>Windows Desktop</td>\n",
              "      <td>FEMALE</td>\n",
              "      <td>en</td>\n",
              "      <td>Web</td>\n",
              "      <td>3</td>\n",
              "      <td>basic</td>\n",
              "      <td>2009-06-09 23:12:47</td>\n",
              "    </tr>\n",
              "    <tr>\n",
              "      <th>3</th>\n",
              "      <td>direct</td>\n",
              "      <td>direct</td>\n",
              "      <td>42.0</td>\n",
              "      <td>2011-12-05</td>\n",
              "      <td>untracked</td>\n",
              "      <td>Firefox</td>\n",
              "      <td>Mac Desktop</td>\n",
              "      <td>FEMALE</td>\n",
              "      <td>en</td>\n",
              "      <td>Web</td>\n",
              "      <td>0</td>\n",
              "      <td>facebook</td>\n",
              "      <td>2009-10-31 06:01:29</td>\n",
              "    </tr>\n",
              "    <tr>\n",
              "      <th>4</th>\n",
              "      <td>direct</td>\n",
              "      <td>direct</td>\n",
              "      <td>41.0</td>\n",
              "      <td>2010-09-14</td>\n",
              "      <td>untracked</td>\n",
              "      <td>Chrome</td>\n",
              "      <td>Mac Desktop</td>\n",
              "      <td>-unknown-</td>\n",
              "      <td>en</td>\n",
              "      <td>Web</td>\n",
              "      <td>0</td>\n",
              "      <td>basic</td>\n",
              "      <td>2009-12-08 06:11:05</td>\n",
              "    </tr>\n",
              "  </tbody>\n",
              "</table>\n",
              "</div>"
            ],
            "text/plain": [
              "  affiliate_channel affiliate_provider  ...  signup_method timestamp_first_active\n",
              "0            direct             direct  ...       facebook    2009-03-19 04:32:55\n",
              "1               seo             google  ...       facebook    2009-05-23 17:48:09\n",
              "2            direct             direct  ...          basic    2009-06-09 23:12:47\n",
              "3            direct             direct  ...       facebook    2009-10-31 06:01:29\n",
              "4            direct             direct  ...          basic    2009-12-08 06:11:05\n",
              "\n",
              "[5 rows x 13 columns]"
            ]
          },
          "metadata": {
            "tags": []
          },
          "execution_count": 99
        }
      ]
    },
    {
      "cell_type": "code",
      "metadata": {
        "id": "quVQycS0lqgx"
      },
      "source": [
        "df_all_users.to_csv(\"/content/drive/My Drive/vodafoneTask/datasets/mainDatasetVisual/all_users-visualization.csv\", index=False)"
      ],
      "execution_count": 100,
      "outputs": []
    },
    {
      "cell_type": "code",
      "metadata": {
        "id": "YVmJhWIjmDYn",
        "outputId": "34225fc1-e650-4248-bc3a-4cc1418108a0",
        "colab": {
          "base_uri": "https://localhost:8080/",
          "height": 251
        }
      },
      "source": [
        "df_train_users.head()"
      ],
      "execution_count": 101,
      "outputs": [
        {
          "output_type": "execute_result",
          "data": {
            "text/html": [
              "<div>\n",
              "<style scoped>\n",
              "    .dataframe tbody tr th:only-of-type {\n",
              "        vertical-align: middle;\n",
              "    }\n",
              "\n",
              "    .dataframe tbody tr th {\n",
              "        vertical-align: top;\n",
              "    }\n",
              "\n",
              "    .dataframe thead th {\n",
              "        text-align: right;\n",
              "    }\n",
              "</style>\n",
              "<table border=\"1\" class=\"dataframe\">\n",
              "  <thead>\n",
              "    <tr style=\"text-align: right;\">\n",
              "      <th></th>\n",
              "      <th>id</th>\n",
              "      <th>date_account_created</th>\n",
              "      <th>timestamp_first_active</th>\n",
              "      <th>date_first_booking</th>\n",
              "      <th>gender</th>\n",
              "      <th>age</th>\n",
              "      <th>signup_method</th>\n",
              "      <th>signup_flow</th>\n",
              "      <th>language</th>\n",
              "      <th>affiliate_channel</th>\n",
              "      <th>affiliate_provider</th>\n",
              "      <th>first_affiliate_tracked</th>\n",
              "      <th>signup_app</th>\n",
              "      <th>first_device_type</th>\n",
              "      <th>first_browser</th>\n",
              "      <th>country_destination</th>\n",
              "    </tr>\n",
              "  </thead>\n",
              "  <tbody>\n",
              "    <tr>\n",
              "      <th>0</th>\n",
              "      <td>gxn3p5htnn</td>\n",
              "      <td>2010-06-28</td>\n",
              "      <td>20090319043255</td>\n",
              "      <td>NaN</td>\n",
              "      <td>-unknown-</td>\n",
              "      <td>NaN</td>\n",
              "      <td>facebook</td>\n",
              "      <td>0</td>\n",
              "      <td>en</td>\n",
              "      <td>direct</td>\n",
              "      <td>direct</td>\n",
              "      <td>untracked</td>\n",
              "      <td>Web</td>\n",
              "      <td>Mac Desktop</td>\n",
              "      <td>Chrome</td>\n",
              "      <td>NDF</td>\n",
              "    </tr>\n",
              "    <tr>\n",
              "      <th>1</th>\n",
              "      <td>820tgsjxq7</td>\n",
              "      <td>2011-05-25</td>\n",
              "      <td>20090523174809</td>\n",
              "      <td>NaN</td>\n",
              "      <td>MALE</td>\n",
              "      <td>38.0</td>\n",
              "      <td>facebook</td>\n",
              "      <td>0</td>\n",
              "      <td>en</td>\n",
              "      <td>seo</td>\n",
              "      <td>google</td>\n",
              "      <td>untracked</td>\n",
              "      <td>Web</td>\n",
              "      <td>Mac Desktop</td>\n",
              "      <td>Chrome</td>\n",
              "      <td>NDF</td>\n",
              "    </tr>\n",
              "    <tr>\n",
              "      <th>2</th>\n",
              "      <td>4ft3gnwmtx</td>\n",
              "      <td>2010-09-28</td>\n",
              "      <td>20090609231247</td>\n",
              "      <td>2010-08-02</td>\n",
              "      <td>FEMALE</td>\n",
              "      <td>56.0</td>\n",
              "      <td>basic</td>\n",
              "      <td>3</td>\n",
              "      <td>en</td>\n",
              "      <td>direct</td>\n",
              "      <td>direct</td>\n",
              "      <td>untracked</td>\n",
              "      <td>Web</td>\n",
              "      <td>Windows Desktop</td>\n",
              "      <td>IE</td>\n",
              "      <td>US</td>\n",
              "    </tr>\n",
              "    <tr>\n",
              "      <th>3</th>\n",
              "      <td>bjjt8pjhuk</td>\n",
              "      <td>2011-12-05</td>\n",
              "      <td>20091031060129</td>\n",
              "      <td>2012-09-08</td>\n",
              "      <td>FEMALE</td>\n",
              "      <td>42.0</td>\n",
              "      <td>facebook</td>\n",
              "      <td>0</td>\n",
              "      <td>en</td>\n",
              "      <td>direct</td>\n",
              "      <td>direct</td>\n",
              "      <td>untracked</td>\n",
              "      <td>Web</td>\n",
              "      <td>Mac Desktop</td>\n",
              "      <td>Firefox</td>\n",
              "      <td>other</td>\n",
              "    </tr>\n",
              "    <tr>\n",
              "      <th>4</th>\n",
              "      <td>87mebub9p4</td>\n",
              "      <td>2010-09-14</td>\n",
              "      <td>20091208061105</td>\n",
              "      <td>2010-02-18</td>\n",
              "      <td>-unknown-</td>\n",
              "      <td>41.0</td>\n",
              "      <td>basic</td>\n",
              "      <td>0</td>\n",
              "      <td>en</td>\n",
              "      <td>direct</td>\n",
              "      <td>direct</td>\n",
              "      <td>untracked</td>\n",
              "      <td>Web</td>\n",
              "      <td>Mac Desktop</td>\n",
              "      <td>Chrome</td>\n",
              "      <td>US</td>\n",
              "    </tr>\n",
              "  </tbody>\n",
              "</table>\n",
              "</div>"
            ],
            "text/plain": [
              "           id date_account_created  ...  first_browser country_destination\n",
              "0  gxn3p5htnn           2010-06-28  ...         Chrome                 NDF\n",
              "1  820tgsjxq7           2011-05-25  ...         Chrome                 NDF\n",
              "2  4ft3gnwmtx           2010-09-28  ...             IE                  US\n",
              "3  bjjt8pjhuk           2011-12-05  ...        Firefox               other\n",
              "4  87mebub9p4           2010-09-14  ...         Chrome                  US\n",
              "\n",
              "[5 rows x 16 columns]"
            ]
          },
          "metadata": {
            "tags": []
          },
          "execution_count": 101
        }
      ]
    },
    {
      "cell_type": "markdown",
      "metadata": {
        "id": "V22-xw1yqSQN"
      },
      "source": [
        ""
      ]
    },
    {
      "cell_type": "code",
      "metadata": {
        "id": "MXoZ2bO3nyBh"
      },
      "source": [
        "df_train_users.loc[df_train_users.age > 110, 'age'] = np.nan\n",
        "df_train_users.loc[df_train_users.age < 18, 'age'] = np.nan"
      ],
      "execution_count": 102,
      "outputs": []
    },
    {
      "cell_type": "code",
      "metadata": {
        "id": "E_D8RWrNn-ih",
        "outputId": "f56f1749-5196-4d37-f1b6-5e2268f12056",
        "colab": {
          "base_uri": "https://localhost:8080/"
        }
      },
      "source": [
        "showInformation(df_train_users)"
      ],
      "execution_count": 103,
      "outputs": [
        {
          "output_type": "stream",
          "text": [
            "\n",
            " shape of data : \n",
            " (213451, 16)\n",
            "\n",
            " columns : \n",
            " Index(['id', 'date_account_created', 'timestamp_first_active',\n",
            "       'date_first_booking', 'gender', 'age', 'signup_method', 'signup_flow',\n",
            "       'language', 'affiliate_channel', 'affiliate_provider',\n",
            "       'first_affiliate_tracked', 'signup_app', 'first_device_type',\n",
            "       'first_browser', 'country_destination'],\n",
            "      dtype='object')\n",
            "<class 'pandas.core.frame.DataFrame'>\n",
            "RangeIndex: 213451 entries, 0 to 213450\n",
            "Data columns (total 16 columns):\n",
            " #   Column                   Non-Null Count   Dtype  \n",
            "---  ------                   --------------   -----  \n",
            " 0   id                       213451 non-null  object \n",
            " 1   date_account_created     213451 non-null  object \n",
            " 2   timestamp_first_active   213451 non-null  int64  \n",
            " 3   date_first_booking       88908 non-null   object \n",
            " 4   gender                   213451 non-null  object \n",
            " 5   age                      124502 non-null  float64\n",
            " 6   signup_method            213451 non-null  object \n",
            " 7   signup_flow              213451 non-null  int64  \n",
            " 8   language                 213451 non-null  object \n",
            " 9   affiliate_channel        213451 non-null  object \n",
            " 10  affiliate_provider       213451 non-null  object \n",
            " 11  first_affiliate_tracked  207386 non-null  object \n",
            " 12  signup_app               213451 non-null  object \n",
            " 13  first_device_type        213451 non-null  object \n",
            " 14  first_browser            213451 non-null  object \n",
            " 15  country_destination      213451 non-null  object \n",
            "dtypes: float64(1), int64(2), object(13)\n",
            "memory usage: 26.1+ MB\n",
            "\n",
            " dataset info : \n",
            " None\n",
            "\n",
            " dataset datatypes : \n",
            " id                          object\n",
            "date_account_created        object\n",
            "timestamp_first_active       int64\n",
            "date_first_booking          object\n",
            "gender                      object\n",
            "age                        float64\n",
            "signup_method               object\n",
            "signup_flow                  int64\n",
            "language                    object\n",
            "affiliate_channel           object\n",
            "affiliate_provider          object\n",
            "first_affiliate_tracked     object\n",
            "signup_app                  object\n",
            "first_device_type           object\n",
            "first_browser               object\n",
            "country_destination         object\n",
            "dtype: object\n",
            "\n",
            " sum of null values : \n",
            " id                              0\n",
            "date_account_created            0\n",
            "timestamp_first_active          0\n",
            "date_first_booking         124543\n",
            "gender                          0\n",
            "age                         88949\n",
            "signup_method                   0\n",
            "signup_flow                     0\n",
            "language                        0\n",
            "affiliate_channel               0\n",
            "affiliate_provider              0\n",
            "first_affiliate_tracked      6065\n",
            "signup_app                      0\n",
            "first_device_type               0\n",
            "first_browser                   0\n",
            "country_destination             0\n",
            "dtype: int64\n"
          ],
          "name": "stdout"
        }
      ]
    },
    {
      "cell_type": "code",
      "metadata": {
        "id": "FhHD3SqqoBla"
      },
      "source": [
        "df_train_users.to_csv(\"/content/drive/My Drive/vodafoneTask/datasets/mainDatasetVisual/train_users-visualization.csv\", index=False)"
      ],
      "execution_count": 104,
      "outputs": []
    },
    {
      "cell_type": "code",
      "metadata": {
        "id": "s_I17Z9noJYI"
      },
      "source": [
        "!jupyter nbconvert --to html /content/dataVisualization.ipynb"
      ],
      "execution_count": null,
      "outputs": []
    }
  ]
}